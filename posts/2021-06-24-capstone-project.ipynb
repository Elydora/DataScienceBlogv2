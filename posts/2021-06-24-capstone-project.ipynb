{
 "cells": [
  {
   "cell_type": "raw",
   "metadata": {},
   "source": [
    "---\n",
    "aliases:\n",
    "- /ibm/data_science/ml/visualization/2021/06/24/capstone-project\n",
    "author: Felix\n",
    "categories:\n",
    "- ibm\n",
    "- data_science\n",
    "- ml\n",
    "- visualization\n",
    "date: '2021-06-24'\n",
    "description: Finding a location and type using the Foursquare API\n",
    "output-file: 2021-06-24-capstone-project.html\n",
    "title: Where to open a Restaurant in LA County, CA?\n",
    "toc: false\n",
    "\n",
    "---\n",
    "\n"
   ]
  },
  {
   "cell_type": "markdown",
   "metadata": {
    "collapsed": true,
    "pycharm": {
     "name": "#%% md\n"
    }
   },
   "source": [
    "# Coursera Capstone Project\n",
    "## Finding a location and type for a restaurant in Los Angeles County, CA"
   ]
  },
  {
   "cell_type": "markdown",
   "metadata": {
    "collapsed": false,
    "pycharm": {
     "name": "#%% md\n"
    }
   },
   "source": [
    "## Table of contents\n",
    "* [Introduction: Business Problem](#introduction)\n",
    "* [Data](#data)\n",
    "* [Methodology](#methodology)\n",
    "* [Analysis](#analysis)\n",
    "* [Results and Discussion](#results)\n",
    "* [Conclusion](#conclusion)\n"
   ]
  },
  {
   "cell_type": "markdown",
   "metadata": {
    "collapsed": false,
    "pycharm": {
     "name": "#%% md\n"
    }
   },
   "source": [
    "## Introduction: Business Problem <a name=\"introduction\"></a>\n"
   ]
  },
  {
   "cell_type": "markdown",
   "metadata": {
    "collapsed": false,
    "pycharm": {
     "name": "#%% md\n"
    }
   },
   "source": [
    "In this project I will try to give a recommendation on where to open a\n",
    "restaurant in Los Angeles County, CA. In addition, there shall be given  a\n",
    "recommendation of which type of restaurant could be opened, based on\n",
    "existing restaurants in the area and generally popular restaurants in the\n",
    "whole county.\n",
    "\n",
    "The decision on where to open a restaurant can be based on many factors,\n",
    "depending on the target group. For example, one could look for very dense\n",
    "populated areas, or areas with lots of wealthy citizens. Even the median age\n",
    " of the population can play a role.\n",
    "\n",
    "I will make a decision based on the following conditions:\n",
    "- Find the area with a good balance between number of possible customers\n",
    "and a high median income (population is slightly more important than income)\n",
    "- the type of restaurant will be determined by the most recommended categories\n",
    " of food venue in Los Angeles County, CA and the number of already existing\n",
    " venues in the area"
   ]
  },
  {
   "cell_type": "markdown",
   "metadata": {
    "collapsed": false,
    "pycharm": {
     "name": "#%% md\n"
    }
   },
   "source": [
    "## Data <a name=\"data\"></a>"
   ]
  },
  {
   "cell_type": "markdown",
   "metadata": {
    "collapsed": false,
    "pycharm": {
     "name": "#%% md\n"
    }
   },
   "source": [
    "I used three different datasets as basis for my analysis. Using these\n",
    "datasets I am able to work with the following features, among others:\n",
    "- A list of areas in Los Angeles County, CA based on the ZIP code\n",
    "- The number of citizens and households in every area\n",
    "- The estimated median income of every area\n",
    "- The latitude and longitude for every zip code in the county\n",
    "\n",
    "<br />\n",
    "\n",
    "I combined the following datasets for this:\n",
    "-\t2010 Los Angeles Census Data\n",
    "    - \thttps://www.kaggle.com/cityofLA/los-angeles-census-data\n",
    "-\tMedian Household Income by Zip Code in 2019\n",
    "    -\thttp://www.laalmanac.com/employment/em12c.php\n",
    "-\tUS Zip Code Latitude and Longitude\n",
    "    -   https://public.opendatasoft.com/explore/dataset/us-zip-code-latitude-and-longitude/information/\n",
    "\n",
    "To analyse the existing food venues in the county, the **Foursquare API** is\n",
    " used. With this API we can provide the data to answer the following two\n",
    " questions:\n",
    "- What are the most recommended types of restaurants in the county?\n",
    "- What are the existing food venues categories in the area where we want to\n",
    "open a restaurant in?"
   ]
  },
  {
   "cell_type": "markdown",
   "metadata": {
    "collapsed": false,
    "pycharm": {
     "name": "#%% md\n"
    }
   },
   "source": [
    "<br />\n",
    "\n",
    "#### Merging the three datasets as basis of the analytics\n",
    "First, let's merge all three datasets and get rid of unnecessary\n",
    "information. I will continue to use a single dataframe with the combined\n",
    "datasets as basis for further analysis.<br />\n",
    "\n",
    "The census data and the geodata for the US zip codes are available as csv\n",
    "files that I will read directly into a dataframe. The records for the median\n",
    " household income are available on a website, so I downloaded the data as a\n",
    " html file, which then is used to create a dataframe. As the median income\n",
    " has a dollar sign and can not be converted into a numeric value\n",
    " automatically because of its format, we have to do some data preparation."
   ]
  },
  {
   "cell_type": "code",
   "execution_count": 56,
   "metadata": {
    "collapsed": false,
    "pycharm": {
     "name": "#%%\n"
    }
   },
   "outputs": [
    {
     "data": {
      "text/plain": [
       "(279, 12)"
      ]
     },
     "execution_count": 56,
     "metadata": {},
     "output_type": "execute_result"
    }
   ],
   "source": [
    "import pandas as pd\n",
    "from pathlib import Path\n",
    "census_path = Path.cwd().joinpath('resources').joinpath('2010-census-populations-by-zip-code.csv')\n",
    "html_path = Path.cwd().joinpath('resources').joinpath('Median Household Income By Zip Code in Los Angeles County, California.html')\n",
    "zip_path = Path.cwd().joinpath('resources').joinpath('us-zip-code-latitude-and-longitude.csv')\n",
    "\n",
    "# Dataset: 2010 Los Angeles Census Data\n",
    "df_census = pd.read_csv(census_path)\n",
    "# Dataset: Median Household Income by Zip Code in 2019\n",
    "dfs = pd.read_html(html_path)\n",
    "df_income_all = dfs[0]\n",
    "# drop areas where the median income is missing\n",
    "df_income_na = df_income_all[df_income_all['Estimated Median Income'].notna()]\n",
    "# Next step: clean the values in the median income column to retrieve\n",
    "# numeric values that can be used for clustering / calculation\n",
    "df_income = df_income_na.drop(df_income_na[df_income_na[\n",
    "                             'Estimated Median Income'] == '---'].index)\n",
    "df_income['Estimated Median Income'] = \\\n",
    "    df_income['Estimated Median Income'].map(lambda x: x.lstrip('$'))\n",
    "df_income['Estimated Median Income'] =\\\n",
    "    df_income['Estimated Median Income'].str.replace(',','')\n",
    "df_income[\"Estimated Median Income\"] =\\\n",
    "    pd.to_numeric(df_income[\"Estimated Median Income\"])\n",
    "# Dataset: US Zip Code Latitude and Longitude\n",
    "df_geodata = pd.read_csv(zip_path, sep=';')\n",
    "# Let's start by joining the geodata on the income dataset via the zip code\n",
    "df_income_geo = df_census.join(df_income.set_index('Zip Code'), on='Zip Code')\n",
    "# Now join the census data with the income dataset and the geodata\n",
    "dataset_geo = df_income_geo.join(df_geodata.set_index('Zip'), on='Zip Code',\n",
    "                           how='left')\n",
    "# Let us only use the columns we need for the further analysis and ignore\n",
    "# the rest\n",
    "prepared_ds = dataset_geo[[\n",
    "  \"Zip Code\", \"City\", \"Community\", \"Estimated Median Income\",\n",
    "  \"Longitude\", \"Latitude\", \"Total Population\", \"Median Age\",\n",
    "  \"Total Males\", \"Total Females\", \"Total Households\",\n",
    "  \"Average Household Size\"]]\n",
    "# last stop: let's drop records with missing data\n",
    "final_ds = prepared_ds.dropna(axis=0)\n",
    "final_ds.shape"
   ]
  },
  {
   "cell_type": "markdown",
   "metadata": {
    "collapsed": false,
    "pycharm": {
     "name": "#%% md\n"
    }
   },
   "source": [
    "So the final dataframe now contains 279 areas with 12 features. <br />\n",
    "Let's get an overview on how the records are looking:"
   ]
  },
  {
   "cell_type": "code",
   "execution_count": 3,
   "metadata": {
    "collapsed": false,
    "pycharm": {
     "name": "#%%\n"
    }
   },
   "outputs": [
    {
     "data": {
      "text/html": [
       "<div>\n",
       "<style scoped>\n",
       "    .dataframe tbody tr th:only-of-type {\n",
       "        vertical-align: middle;\n",
       "    }\n",
       "\n",
       "    .dataframe tbody tr th {\n",
       "        vertical-align: top;\n",
       "    }\n",
       "\n",
       "    .dataframe thead th {\n",
       "        text-align: right;\n",
       "    }\n",
       "</style>\n",
       "<table border=\"1\" class=\"dataframe\">\n",
       "  <thead>\n",
       "    <tr style=\"text-align: right;\">\n",
       "      <th></th>\n",
       "      <th>Zip Code</th>\n",
       "      <th>City</th>\n",
       "      <th>Community</th>\n",
       "      <th>Estimated Median Income</th>\n",
       "      <th>Longitude</th>\n",
       "      <th>Latitude</th>\n",
       "      <th>Total Population</th>\n",
       "      <th>Median Age</th>\n",
       "      <th>Total Males</th>\n",
       "      <th>Total Females</th>\n",
       "      <th>Total Households</th>\n",
       "      <th>Average Household Size</th>\n",
       "    </tr>\n",
       "  </thead>\n",
       "  <tbody>\n",
       "    <tr>\n",
       "      <th>1</th>\n",
       "      <td>90001</td>\n",
       "      <td>Los Angeles</td>\n",
       "      <td>Los Angeles (South Los Angeles), Florence-Graham</td>\n",
       "      <td>43360.0</td>\n",
       "      <td>-118.24878</td>\n",
       "      <td>33.972914</td>\n",
       "      <td>57110</td>\n",
       "      <td>26.6</td>\n",
       "      <td>28468</td>\n",
       "      <td>28642</td>\n",
       "      <td>12971</td>\n",
       "      <td>4.40</td>\n",
       "    </tr>\n",
       "    <tr>\n",
       "      <th>2</th>\n",
       "      <td>90002</td>\n",
       "      <td>Los Angeles</td>\n",
       "      <td>Los Angeles (Southeast Los Angeles, Watts)</td>\n",
       "      <td>37285.0</td>\n",
       "      <td>-118.24845</td>\n",
       "      <td>33.948315</td>\n",
       "      <td>51223</td>\n",
       "      <td>25.5</td>\n",
       "      <td>24876</td>\n",
       "      <td>26347</td>\n",
       "      <td>11731</td>\n",
       "      <td>4.36</td>\n",
       "    </tr>\n",
       "    <tr>\n",
       "      <th>3</th>\n",
       "      <td>90003</td>\n",
       "      <td>Los Angeles</td>\n",
       "      <td>Los Angeles (South Los Angeles, Southeast Los ...</td>\n",
       "      <td>40598.0</td>\n",
       "      <td>-118.27600</td>\n",
       "      <td>33.962714</td>\n",
       "      <td>66266</td>\n",
       "      <td>26.3</td>\n",
       "      <td>32631</td>\n",
       "      <td>33635</td>\n",
       "      <td>15642</td>\n",
       "      <td>4.22</td>\n",
       "    </tr>\n",
       "    <tr>\n",
       "      <th>4</th>\n",
       "      <td>90004</td>\n",
       "      <td>Los Angeles</td>\n",
       "      <td>Los Angeles (Hancock Park, Rampart Village, Vi...</td>\n",
       "      <td>49675.0</td>\n",
       "      <td>-118.30755</td>\n",
       "      <td>34.077110</td>\n",
       "      <td>62180</td>\n",
       "      <td>34.8</td>\n",
       "      <td>31302</td>\n",
       "      <td>30878</td>\n",
       "      <td>22547</td>\n",
       "      <td>2.73</td>\n",
       "    </tr>\n",
       "    <tr>\n",
       "      <th>5</th>\n",
       "      <td>90005</td>\n",
       "      <td>Los Angeles</td>\n",
       "      <td>Los Angeles (Hancock Park, Koreatown, Wilshire...</td>\n",
       "      <td>38491.0</td>\n",
       "      <td>-118.30848</td>\n",
       "      <td>34.058911</td>\n",
       "      <td>37681</td>\n",
       "      <td>33.9</td>\n",
       "      <td>19299</td>\n",
       "      <td>18382</td>\n",
       "      <td>15044</td>\n",
       "      <td>2.50</td>\n",
       "    </tr>\n",
       "  </tbody>\n",
       "</table>\n",
       "</div>"
      ],
      "text/plain": [
       "   Zip Code         City                                          Community  \\\n",
       "1     90001  Los Angeles   Los Angeles (South Los Angeles), Florence-Graham   \n",
       "2     90002  Los Angeles         Los Angeles (Southeast Los Angeles, Watts)   \n",
       "3     90003  Los Angeles  Los Angeles (South Los Angeles, Southeast Los ...   \n",
       "4     90004  Los Angeles  Los Angeles (Hancock Park, Rampart Village, Vi...   \n",
       "5     90005  Los Angeles  Los Angeles (Hancock Park, Koreatown, Wilshire...   \n",
       "\n",
       "   Estimated Median Income  Longitude   Latitude  Total Population  \\\n",
       "1                  43360.0 -118.24878  33.972914             57110   \n",
       "2                  37285.0 -118.24845  33.948315             51223   \n",
       "3                  40598.0 -118.27600  33.962714             66266   \n",
       "4                  49675.0 -118.30755  34.077110             62180   \n",
       "5                  38491.0 -118.30848  34.058911             37681   \n",
       "\n",
       "   Median Age  Total Males  Total Females  Total Households  \\\n",
       "1        26.6        28468          28642             12971   \n",
       "2        25.5        24876          26347             11731   \n",
       "3        26.3        32631          33635             15642   \n",
       "4        34.8        31302          30878             22547   \n",
       "5        33.9        19299          18382             15044   \n",
       "\n",
       "   Average Household Size  \n",
       "1                    4.40  \n",
       "2                    4.36  \n",
       "3                    4.22  \n",
       "4                    2.73  \n",
       "5                    2.50  "
      ]
     },
     "execution_count": 3,
     "metadata": {},
     "output_type": "execute_result"
    }
   ],
   "source": [
    "final_ds.head(5)"
   ]
  },
  {
   "cell_type": "markdown",
   "metadata": {
    "collapsed": false,
    "pycharm": {
     "name": "#%% md\n"
    }
   },
   "source": [
    "#### Finding the most recommended food venue categories in the county <br />\n",
    "Now we will use the Foursquare API to find out what are the most recommended\n",
    " food venues in the county. For this we will go through every single area\n",
    " and get the recommended food venues in the vicinity of the area center."
   ]
  },
  {
   "cell_type": "code",
   "execution_count": 57,
   "metadata": {
    "collapsed": false,
    "pycharm": {
     "name": "#%%\n"
    }
   },
   "outputs": [],
   "source": [
    "# first, lets import the necessary libraries and the credentials for the API\n",
    "from modules import foursquare\n",
    "import requests\n",
    "CLIENT_ID = foursquare.CLIENT_ID\n",
    "CLIENT_SECRET = foursquare.CLIENT_SECRET\n",
    "ACCESS_TOKEN = foursquare.ACCESS_TOKEN\n",
    "VERSION = '20210514' # Foursquare API version\n",
    "LIMIT = 100"
   ]
  },
  {
   "cell_type": "code",
   "execution_count": 52,
   "metadata": {
    "collapsed": false,
    "pycharm": {
     "name": "#%%\n"
    }
   },
   "outputs": [
    {
     "name": "stderr",
     "output_type": "stream",
     "text": [
      "<ipython-input-52-c2d1ea4784be>:2: FutureWarning:\n",
      "\n",
      "In a future version of pandas all arguments of DataFrame.drop except for the argument 'labels' will be keyword-only\n",
      "\n"
     ]
    },
    {
     "data": {
      "text/html": [
       "<div>\n",
       "<style scoped>\n",
       "    .dataframe tbody tr th:only-of-type {\n",
       "        vertical-align: middle;\n",
       "    }\n",
       "\n",
       "    .dataframe tbody tr th {\n",
       "        vertical-align: top;\n",
       "    }\n",
       "\n",
       "    .dataframe thead th {\n",
       "        text-align: right;\n",
       "    }\n",
       "</style>\n",
       "<table border=\"1\" class=\"dataframe\">\n",
       "  <thead>\n",
       "    <tr style=\"text-align: right;\">\n",
       "      <th></th>\n",
       "      <th>Cluster Label</th>\n",
       "      <th>Zip Code</th>\n",
       "      <th>City</th>\n",
       "      <th>Community</th>\n",
       "      <th>Longitude</th>\n",
       "      <th>Latitude</th>\n",
       "    </tr>\n",
       "  </thead>\n",
       "  <tbody>\n",
       "    <tr>\n",
       "      <th>1</th>\n",
       "      <td>2</td>\n",
       "      <td>90001</td>\n",
       "      <td>Los Angeles</td>\n",
       "      <td>Los Angeles (South Los Angeles), Florence-Graham</td>\n",
       "      <td>-118.24878</td>\n",
       "      <td>33.972914</td>\n",
       "    </tr>\n",
       "    <tr>\n",
       "      <th>2</th>\n",
       "      <td>2</td>\n",
       "      <td>90002</td>\n",
       "      <td>Los Angeles</td>\n",
       "      <td>Los Angeles (Southeast Los Angeles, Watts)</td>\n",
       "      <td>-118.24845</td>\n",
       "      <td>33.948315</td>\n",
       "    </tr>\n",
       "    <tr>\n",
       "      <th>3</th>\n",
       "      <td>2</td>\n",
       "      <td>90003</td>\n",
       "      <td>Los Angeles</td>\n",
       "      <td>Los Angeles (South Los Angeles, Southeast Los ...</td>\n",
       "      <td>-118.27600</td>\n",
       "      <td>33.962714</td>\n",
       "    </tr>\n",
       "    <tr>\n",
       "      <th>4</th>\n",
       "      <td>2</td>\n",
       "      <td>90004</td>\n",
       "      <td>Los Angeles</td>\n",
       "      <td>Los Angeles (Hancock Park, Rampart Village, Vi...</td>\n",
       "      <td>-118.30755</td>\n",
       "      <td>34.077110</td>\n",
       "    </tr>\n",
       "    <tr>\n",
       "      <th>5</th>\n",
       "      <td>2</td>\n",
       "      <td>90005</td>\n",
       "      <td>Los Angeles</td>\n",
       "      <td>Los Angeles (Hancock Park, Koreatown, Wilshire...</td>\n",
       "      <td>-118.30848</td>\n",
       "      <td>34.058911</td>\n",
       "    </tr>\n",
       "  </tbody>\n",
       "</table>\n",
       "</div>"
      ],
      "text/plain": [
       "   Cluster Label  Zip Code         City  \\\n",
       "1              2     90001  Los Angeles   \n",
       "2              2     90002  Los Angeles   \n",
       "3              2     90003  Los Angeles   \n",
       "4              2     90004  Los Angeles   \n",
       "5              2     90005  Los Angeles   \n",
       "\n",
       "                                           Community  Longitude   Latitude  \n",
       "1   Los Angeles (South Los Angeles), Florence-Graham -118.24878  33.972914  \n",
       "2         Los Angeles (Southeast Los Angeles, Watts) -118.24845  33.948315  \n",
       "3  Los Angeles (South Los Angeles, Southeast Los ... -118.27600  33.962714  \n",
       "4  Los Angeles (Hancock Park, Rampart Village, Vi... -118.30755  34.077110  \n",
       "5  Los Angeles (Hancock Park, Koreatown, Wilshire... -118.30848  34.058911  "
      ]
     },
     "execution_count": 52,
     "metadata": {},
     "output_type": "execute_result"
    }
   ],
   "source": [
    "# first, we use a list of the areas and without columns we don't need\n",
    "areas = final_ds.drop(['Estimated Median Income', 'Total ' 'Population',\n",
    "                        'Median Age', 'Total Males', 'Total Females',\n",
    "                        'Total Households', 'Average Household Size'], 1)\n",
    "areas.head()"
   ]
  },
  {
   "cell_type": "markdown",
   "metadata": {
    "collapsed": false,
    "pycharm": {
     "name": "#%% md\n"
    }
   },
   "source": [
    "In the next code block, we will iterate through every area in the dataframe\n",
    "and get up to 50 recommendations per area. For that I use the \"explore\"\n",
    "endpoint of the Foursquare API. I use the *categoryId* and\n",
    "*sortByPopularity* parameters to only request food venues that are sorted by\n",
    " popularity in descending order."
   ]
  },
  {
   "cell_type": "code",
   "execution_count": 6,
   "metadata": {
    "collapsed": false,
    "pycharm": {
     "name": "#%%\n"
    }
   },
   "outputs": [],
   "source": [
    "venues_list = []\n",
    "for index, area in areas.iterrows():\n",
    "    url = 'https://api.foursquare' \\\n",
    "      '.com/v2/venues/explore?&client_id={}&client_secret={}&v={}&ll={},' \\\n",
    "      '{}&radius={}&limit={}&offset={}&categoryId={}&sortByPopularity={}'\\\n",
    "        .format(\n",
    "    CLIENT_ID, CLIENT_SECRET, VERSION, area['Latitude'], area['Longitude'],\n",
    "    1000, LIMIT, 0, '4d4b7105d754a06374d81259', 1)\n",
    "\n",
    "    results = requests.get(url).json()[\"response\"]['groups'][0]['items']\n",
    "    for v in results:\n",
    "        try: # try to extract the city, if there is one in the response\n",
    "            city = v['venue']['location']['city']\n",
    "        except:\n",
    "            city = area['City']\n",
    "\n",
    "        try: # try to extract the zip code, if there is one\n",
    "            postalCode = str(v['venue']['location']['postalCode'])\n",
    "        except:\n",
    "            postalCode = str(area['Zip Code'])\n",
    "        # build a list with all the columns I want to use\n",
    "        if postalCode == str(area['Zip Code']):\n",
    "            venues_list.append((\n",
    "                        area['Zip Code'],\n",
    "                        area['Community'],\n",
    "                        area['Latitude'],\n",
    "                        area['Longitude'],\n",
    "                        v['venue']['name'],\n",
    "                        v['venue']['categories'][0]['name'],\n",
    "                        city ))\n",
    "# create a dataframe from the results of the request\n",
    "la_venues = pd.DataFrame(venues_list, columns=['Zip Code', 'Community',\n",
    "              'Zip Code Latitude', 'Zip Code Longitude', 'Venue',\n",
    "              'Venue Category', 'City'])"
   ]
  },
  {
   "cell_type": "code",
   "execution_count": 7,
   "metadata": {
    "collapsed": false,
    "pycharm": {
     "name": "#%%\n"
    }
   },
   "outputs": [
    {
     "data": {
      "text/html": [
       "<div>\n",
       "<style scoped>\n",
       "    .dataframe tbody tr th:only-of-type {\n",
       "        vertical-align: middle;\n",
       "    }\n",
       "\n",
       "    .dataframe tbody tr th {\n",
       "        vertical-align: top;\n",
       "    }\n",
       "\n",
       "    .dataframe thead th {\n",
       "        text-align: right;\n",
       "    }\n",
       "</style>\n",
       "<table border=\"1\" class=\"dataframe\">\n",
       "  <thead>\n",
       "    <tr style=\"text-align: right;\">\n",
       "      <th></th>\n",
       "      <th>Zip Code</th>\n",
       "      <th>Community</th>\n",
       "      <th>Zip Code Latitude</th>\n",
       "      <th>Zip Code Longitude</th>\n",
       "      <th>Venue</th>\n",
       "      <th>Venue Category</th>\n",
       "      <th>City</th>\n",
       "    </tr>\n",
       "  </thead>\n",
       "  <tbody>\n",
       "    <tr>\n",
       "      <th>0</th>\n",
       "      <td>90001</td>\n",
       "      <td>Los Angeles (South Los Angeles), Florence-Graham</td>\n",
       "      <td>33.972914</td>\n",
       "      <td>-118.24878</td>\n",
       "      <td>Mi Lindo Nayarit Mariscos</td>\n",
       "      <td>Mexican Restaurant</td>\n",
       "      <td>Los Angeles</td>\n",
       "    </tr>\n",
       "    <tr>\n",
       "      <th>1</th>\n",
       "      <td>90001</td>\n",
       "      <td>Los Angeles (South Los Angeles), Florence-Graham</td>\n",
       "      <td>33.972914</td>\n",
       "      <td>-118.24878</td>\n",
       "      <td>Jack in the Box</td>\n",
       "      <td>Fast Food Restaurant</td>\n",
       "      <td>Los Angeles</td>\n",
       "    </tr>\n",
       "    <tr>\n",
       "      <th>2</th>\n",
       "      <td>90001</td>\n",
       "      <td>Los Angeles (South Los Angeles), Florence-Graham</td>\n",
       "      <td>33.972914</td>\n",
       "      <td>-118.24878</td>\n",
       "      <td>Mi Lindo Nayarit</td>\n",
       "      <td>Seafood Restaurant</td>\n",
       "      <td>Los Angeles</td>\n",
       "    </tr>\n",
       "    <tr>\n",
       "      <th>3</th>\n",
       "      <td>90001</td>\n",
       "      <td>Los Angeles (South Los Angeles), Florence-Graham</td>\n",
       "      <td>33.972914</td>\n",
       "      <td>-118.24878</td>\n",
       "      <td>SUBWAY</td>\n",
       "      <td>Sandwich Place</td>\n",
       "      <td>Los Angeles</td>\n",
       "    </tr>\n",
       "    <tr>\n",
       "      <th>4</th>\n",
       "      <td>90001</td>\n",
       "      <td>Los Angeles (South Los Angeles), Florence-Graham</td>\n",
       "      <td>33.972914</td>\n",
       "      <td>-118.24878</td>\n",
       "      <td>El Senor Taco</td>\n",
       "      <td>Mexican Restaurant</td>\n",
       "      <td>Los Angeles</td>\n",
       "    </tr>\n",
       "  </tbody>\n",
       "</table>\n",
       "</div>"
      ],
      "text/plain": [
       "   Zip Code                                         Community  \\\n",
       "0     90001  Los Angeles (South Los Angeles), Florence-Graham   \n",
       "1     90001  Los Angeles (South Los Angeles), Florence-Graham   \n",
       "2     90001  Los Angeles (South Los Angeles), Florence-Graham   \n",
       "3     90001  Los Angeles (South Los Angeles), Florence-Graham   \n",
       "4     90001  Los Angeles (South Los Angeles), Florence-Graham   \n",
       "\n",
       "   Zip Code Latitude  Zip Code Longitude                      Venue  \\\n",
       "0          33.972914          -118.24878  Mi Lindo Nayarit Mariscos   \n",
       "1          33.972914          -118.24878            Jack in the Box   \n",
       "2          33.972914          -118.24878           Mi Lindo Nayarit   \n",
       "3          33.972914          -118.24878                     SUBWAY   \n",
       "4          33.972914          -118.24878              El Senor Taco   \n",
       "\n",
       "         Venue Category         City  \n",
       "0    Mexican Restaurant  Los Angeles  \n",
       "1  Fast Food Restaurant  Los Angeles  \n",
       "2    Seafood Restaurant  Los Angeles  \n",
       "3        Sandwich Place  Los Angeles  \n",
       "4    Mexican Restaurant  Los Angeles  "
      ]
     },
     "execution_count": 7,
     "metadata": {},
     "output_type": "execute_result"
    }
   ],
   "source": [
    "la_venues.head()"
   ]
  },
  {
   "cell_type": "code",
   "execution_count": 8,
   "metadata": {
    "collapsed": false,
    "pycharm": {
     "name": "#%%\n"
    }
   },
   "outputs": [
    {
     "data": {
      "text/plain": [
       "8692"
      ]
     },
     "execution_count": 8,
     "metadata": {},
     "output_type": "execute_result"
    }
   ],
   "source": [
    "la_venues[\"Venue\"].count()"
   ]
  },
  {
   "cell_type": "markdown",
   "metadata": {
    "collapsed": false,
    "pycharm": {
     "name": "#%% md\n"
    }
   },
   "source": [
    "So we have found 8,692 recommendations for our 279 areas in Los Angeles\n",
    "County, CA. That are ~31 recommendations per area. Let's extract the city\n",
    "and venue category and group the data by category, to find out about the\n",
    "distribution of the recommended food venue categories."
   ]
  },
  {
   "cell_type": "code",
   "execution_count": 9,
   "metadata": {
    "collapsed": false,
    "pycharm": {
     "name": "#%%\n"
    }
   },
   "outputs": [
    {
     "data": {
      "text/html": [
       "<div>\n",
       "<style scoped>\n",
       "    .dataframe tbody tr th:only-of-type {\n",
       "        vertical-align: middle;\n",
       "    }\n",
       "\n",
       "    .dataframe tbody tr th {\n",
       "        vertical-align: top;\n",
       "    }\n",
       "\n",
       "    .dataframe thead th {\n",
       "        text-align: right;\n",
       "    }\n",
       "</style>\n",
       "<table border=\"1\" class=\"dataframe\">\n",
       "  <thead>\n",
       "    <tr style=\"text-align: right;\">\n",
       "      <th></th>\n",
       "      <th>Venue Category</th>\n",
       "      <th>Count</th>\n",
       "    </tr>\n",
       "  </thead>\n",
       "  <tbody>\n",
       "    <tr>\n",
       "      <th>76</th>\n",
       "      <td>Mexican Restaurant</td>\n",
       "      <td>833</td>\n",
       "    </tr>\n",
       "    <tr>\n",
       "      <th>88</th>\n",
       "      <td>Pizza Place</td>\n",
       "      <td>575</td>\n",
       "    </tr>\n",
       "    <tr>\n",
       "      <th>40</th>\n",
       "      <td>Fast Food Restaurant</td>\n",
       "      <td>501</td>\n",
       "    </tr>\n",
       "    <tr>\n",
       "      <th>22</th>\n",
       "      <td>Chinese Restaurant</td>\n",
       "      <td>417</td>\n",
       "    </tr>\n",
       "    <tr>\n",
       "      <th>8</th>\n",
       "      <td>Bakery</td>\n",
       "      <td>347</td>\n",
       "    </tr>\n",
       "    <tr>\n",
       "      <th>98</th>\n",
       "      <td>Sandwich Place</td>\n",
       "      <td>342</td>\n",
       "    </tr>\n",
       "    <tr>\n",
       "      <th>1</th>\n",
       "      <td>American Restaurant</td>\n",
       "      <td>316</td>\n",
       "    </tr>\n",
       "    <tr>\n",
       "      <th>17</th>\n",
       "      <td>Café</td>\n",
       "      <td>304</td>\n",
       "    </tr>\n",
       "    <tr>\n",
       "      <th>13</th>\n",
       "      <td>Burger Joint</td>\n",
       "      <td>264</td>\n",
       "    </tr>\n",
       "  </tbody>\n",
       "</table>\n",
       "</div>"
      ],
      "text/plain": [
       "          Venue Category  Count\n",
       "76    Mexican Restaurant    833\n",
       "88           Pizza Place    575\n",
       "40  Fast Food Restaurant    501\n",
       "22    Chinese Restaurant    417\n",
       "8                 Bakery    347\n",
       "98        Sandwich Place    342\n",
       "1    American Restaurant    316\n",
       "17                  Café    304\n",
       "13          Burger Joint    264"
      ]
     },
     "execution_count": 9,
     "metadata": {},
     "output_type": "execute_result"
    }
   ],
   "source": [
    "venues = la_venues[['City', 'Venue Category']]\n",
    "categories = venues.groupby('Venue Category').size().to_frame('Count').reset_index()\n",
    "sorted = categories.sort_values(by='Count', ascending=False) # Sort by Count\n",
    "top10 = sorted.iloc[0:9] # Show the top 10 categories\n",
    "top10"
   ]
  },
  {
   "cell_type": "markdown",
   "metadata": {
    "collapsed": false,
    "pycharm": {
     "name": "#%% md\n"
    }
   },
   "source": [
    "After that, we will visualize the distribution."
   ]
  },
  {
   "cell_type": "code",
   "execution_count": 10,
   "metadata": {
    "collapsed": false,
    "pycharm": {
     "name": "#%%\n"
    }
   },
   "outputs": [
    {
     "data": {
      "text/html": [
       "<html>\n",
       "<head><meta charset=\"utf-8\" /></head>\n",
       "<body>\n",
       "    <div>                        <script type=\"text/javascript\">window.PlotlyConfig = {MathJaxConfig: 'local'};</script>\n",
       "        <script src=\"https://cdn.plot.ly/plotly-2.2.0.min.js\"></script>                <div id=\"80a22414-62f9-415d-8e69-48d27fee0609\" class=\"plotly-graph-div\" style=\"height:100%; width:100%;\"></div>            <script type=\"text/javascript\">                                    window.PLOTLYENV=window.PLOTLYENV || {};                                    if (document.getElementById(\"80a22414-62f9-415d-8e69-48d27fee0609\")) {                    Plotly.newPlot(                        \"80a22414-62f9-415d-8e69-48d27fee0609\",                        [{\"alignmentgroup\":\"True\",\"hovertemplate\":\"Venue Category=%{x}<br>Count=%{y}<extra></extra>\",\"legendgroup\":\"\",\"marker\":{\"color\":\"#636efa\",\"pattern\":{\"shape\":\"\"}},\"name\":\"\",\"offsetgroup\":\"\",\"orientation\":\"v\",\"showlegend\":false,\"textposition\":\"auto\",\"type\":\"bar\",\"x\":[\"Mexican Restaurant\",\"Pizza Place\",\"Fast Food Restaurant\",\"Chinese Restaurant\",\"Bakery\",\"Sandwich Place\",\"American Restaurant\",\"Caf\\u00e9\",\"Burger Joint\",\"Sushi Restaurant\",\"Japanese Restaurant\",\"Italian Restaurant\",\"Food\",\"Food Truck\"],\"xaxis\":\"x\",\"y\":[833,575,501,417,347,342,316,304,264,261,235,222,221,220],\"yaxis\":\"y\"}],                        {\"barmode\":\"relative\",\"legend\":{\"tracegroupgap\":0},\"template\":{\"data\":{\"bar\":[{\"error_x\":{\"color\":\"#2a3f5f\"},\"error_y\":{\"color\":\"#2a3f5f\"},\"marker\":{\"line\":{\"color\":\"#E5ECF6\",\"width\":0.5},\"pattern\":{\"fillmode\":\"overlay\",\"size\":10,\"solidity\":0.2}},\"type\":\"bar\"}],\"barpolar\":[{\"marker\":{\"line\":{\"color\":\"#E5ECF6\",\"width\":0.5},\"pattern\":{\"fillmode\":\"overlay\",\"size\":10,\"solidity\":0.2}},\"type\":\"barpolar\"}],\"carpet\":[{\"aaxis\":{\"endlinecolor\":\"#2a3f5f\",\"gridcolor\":\"white\",\"linecolor\":\"white\",\"minorgridcolor\":\"white\",\"startlinecolor\":\"#2a3f5f\"},\"baxis\":{\"endlinecolor\":\"#2a3f5f\",\"gridcolor\":\"white\",\"linecolor\":\"white\",\"minorgridcolor\":\"white\",\"startlinecolor\":\"#2a3f5f\"},\"type\":\"carpet\"}],\"choropleth\":[{\"colorbar\":{\"outlinewidth\":0,\"ticks\":\"\"},\"type\":\"choropleth\"}],\"contour\":[{\"colorbar\":{\"outlinewidth\":0,\"ticks\":\"\"},\"colorscale\":[[0.0,\"#0d0887\"],[0.1111111111111111,\"#46039f\"],[0.2222222222222222,\"#7201a8\"],[0.3333333333333333,\"#9c179e\"],[0.4444444444444444,\"#bd3786\"],[0.5555555555555556,\"#d8576b\"],[0.6666666666666666,\"#ed7953\"],[0.7777777777777778,\"#fb9f3a\"],[0.8888888888888888,\"#fdca26\"],[1.0,\"#f0f921\"]],\"type\":\"contour\"}],\"contourcarpet\":[{\"colorbar\":{\"outlinewidth\":0,\"ticks\":\"\"},\"type\":\"contourcarpet\"}],\"heatmap\":[{\"colorbar\":{\"outlinewidth\":0,\"ticks\":\"\"},\"colorscale\":[[0.0,\"#0d0887\"],[0.1111111111111111,\"#46039f\"],[0.2222222222222222,\"#7201a8\"],[0.3333333333333333,\"#9c179e\"],[0.4444444444444444,\"#bd3786\"],[0.5555555555555556,\"#d8576b\"],[0.6666666666666666,\"#ed7953\"],[0.7777777777777778,\"#fb9f3a\"],[0.8888888888888888,\"#fdca26\"],[1.0,\"#f0f921\"]],\"type\":\"heatmap\"}],\"heatmapgl\":[{\"colorbar\":{\"outlinewidth\":0,\"ticks\":\"\"},\"colorscale\":[[0.0,\"#0d0887\"],[0.1111111111111111,\"#46039f\"],[0.2222222222222222,\"#7201a8\"],[0.3333333333333333,\"#9c179e\"],[0.4444444444444444,\"#bd3786\"],[0.5555555555555556,\"#d8576b\"],[0.6666666666666666,\"#ed7953\"],[0.7777777777777778,\"#fb9f3a\"],[0.8888888888888888,\"#fdca26\"],[1.0,\"#f0f921\"]],\"type\":\"heatmapgl\"}],\"histogram\":[{\"marker\":{\"pattern\":{\"fillmode\":\"overlay\",\"size\":10,\"solidity\":0.2}},\"type\":\"histogram\"}],\"histogram2d\":[{\"colorbar\":{\"outlinewidth\":0,\"ticks\":\"\"},\"colorscale\":[[0.0,\"#0d0887\"],[0.1111111111111111,\"#46039f\"],[0.2222222222222222,\"#7201a8\"],[0.3333333333333333,\"#9c179e\"],[0.4444444444444444,\"#bd3786\"],[0.5555555555555556,\"#d8576b\"],[0.6666666666666666,\"#ed7953\"],[0.7777777777777778,\"#fb9f3a\"],[0.8888888888888888,\"#fdca26\"],[1.0,\"#f0f921\"]],\"type\":\"histogram2d\"}],\"histogram2dcontour\":[{\"colorbar\":{\"outlinewidth\":0,\"ticks\":\"\"},\"colorscale\":[[0.0,\"#0d0887\"],[0.1111111111111111,\"#46039f\"],[0.2222222222222222,\"#7201a8\"],[0.3333333333333333,\"#9c179e\"],[0.4444444444444444,\"#bd3786\"],[0.5555555555555556,\"#d8576b\"],[0.6666666666666666,\"#ed7953\"],[0.7777777777777778,\"#fb9f3a\"],[0.8888888888888888,\"#fdca26\"],[1.0,\"#f0f921\"]],\"type\":\"histogram2dcontour\"}],\"mesh3d\":[{\"colorbar\":{\"outlinewidth\":0,\"ticks\":\"\"},\"type\":\"mesh3d\"}],\"parcoords\":[{\"line\":{\"colorbar\":{\"outlinewidth\":0,\"ticks\":\"\"}},\"type\":\"parcoords\"}],\"pie\":[{\"automargin\":true,\"type\":\"pie\"}],\"scatter\":[{\"marker\":{\"colorbar\":{\"outlinewidth\":0,\"ticks\":\"\"}},\"type\":\"scatter\"}],\"scatter3d\":[{\"line\":{\"colorbar\":{\"outlinewidth\":0,\"ticks\":\"\"}},\"marker\":{\"colorbar\":{\"outlinewidth\":0,\"ticks\":\"\"}},\"type\":\"scatter3d\"}],\"scattercarpet\":[{\"marker\":{\"colorbar\":{\"outlinewidth\":0,\"ticks\":\"\"}},\"type\":\"scattercarpet\"}],\"scattergeo\":[{\"marker\":{\"colorbar\":{\"outlinewidth\":0,\"ticks\":\"\"}},\"type\":\"scattergeo\"}],\"scattergl\":[{\"marker\":{\"colorbar\":{\"outlinewidth\":0,\"ticks\":\"\"}},\"type\":\"scattergl\"}],\"scattermapbox\":[{\"marker\":{\"colorbar\":{\"outlinewidth\":0,\"ticks\":\"\"}},\"type\":\"scattermapbox\"}],\"scatterpolar\":[{\"marker\":{\"colorbar\":{\"outlinewidth\":0,\"ticks\":\"\"}},\"type\":\"scatterpolar\"}],\"scatterpolargl\":[{\"marker\":{\"colorbar\":{\"outlinewidth\":0,\"ticks\":\"\"}},\"type\":\"scatterpolargl\"}],\"scatterternary\":[{\"marker\":{\"colorbar\":{\"outlinewidth\":0,\"ticks\":\"\"}},\"type\":\"scatterternary\"}],\"surface\":[{\"colorbar\":{\"outlinewidth\":0,\"ticks\":\"\"},\"colorscale\":[[0.0,\"#0d0887\"],[0.1111111111111111,\"#46039f\"],[0.2222222222222222,\"#7201a8\"],[0.3333333333333333,\"#9c179e\"],[0.4444444444444444,\"#bd3786\"],[0.5555555555555556,\"#d8576b\"],[0.6666666666666666,\"#ed7953\"],[0.7777777777777778,\"#fb9f3a\"],[0.8888888888888888,\"#fdca26\"],[1.0,\"#f0f921\"]],\"type\":\"surface\"}],\"table\":[{\"cells\":{\"fill\":{\"color\":\"#EBF0F8\"},\"line\":{\"color\":\"white\"}},\"header\":{\"fill\":{\"color\":\"#C8D4E3\"},\"line\":{\"color\":\"white\"}},\"type\":\"table\"}]},\"layout\":{\"annotationdefaults\":{\"arrowcolor\":\"#2a3f5f\",\"arrowhead\":0,\"arrowwidth\":1},\"autotypenumbers\":\"strict\",\"coloraxis\":{\"colorbar\":{\"outlinewidth\":0,\"ticks\":\"\"}},\"colorscale\":{\"diverging\":[[0,\"#8e0152\"],[0.1,\"#c51b7d\"],[0.2,\"#de77ae\"],[0.3,\"#f1b6da\"],[0.4,\"#fde0ef\"],[0.5,\"#f7f7f7\"],[0.6,\"#e6f5d0\"],[0.7,\"#b8e186\"],[0.8,\"#7fbc41\"],[0.9,\"#4d9221\"],[1,\"#276419\"]],\"sequential\":[[0.0,\"#0d0887\"],[0.1111111111111111,\"#46039f\"],[0.2222222222222222,\"#7201a8\"],[0.3333333333333333,\"#9c179e\"],[0.4444444444444444,\"#bd3786\"],[0.5555555555555556,\"#d8576b\"],[0.6666666666666666,\"#ed7953\"],[0.7777777777777778,\"#fb9f3a\"],[0.8888888888888888,\"#fdca26\"],[1.0,\"#f0f921\"]],\"sequentialminus\":[[0.0,\"#0d0887\"],[0.1111111111111111,\"#46039f\"],[0.2222222222222222,\"#7201a8\"],[0.3333333333333333,\"#9c179e\"],[0.4444444444444444,\"#bd3786\"],[0.5555555555555556,\"#d8576b\"],[0.6666666666666666,\"#ed7953\"],[0.7777777777777778,\"#fb9f3a\"],[0.8888888888888888,\"#fdca26\"],[1.0,\"#f0f921\"]]},\"colorway\":[\"#636efa\",\"#EF553B\",\"#00cc96\",\"#ab63fa\",\"#FFA15A\",\"#19d3f3\",\"#FF6692\",\"#B6E880\",\"#FF97FF\",\"#FECB52\"],\"font\":{\"color\":\"#2a3f5f\"},\"geo\":{\"bgcolor\":\"white\",\"lakecolor\":\"white\",\"landcolor\":\"#E5ECF6\",\"showlakes\":true,\"showland\":true,\"subunitcolor\":\"white\"},\"hoverlabel\":{\"align\":\"left\"},\"hovermode\":\"closest\",\"mapbox\":{\"style\":\"light\"},\"paper_bgcolor\":\"white\",\"plot_bgcolor\":\"#E5ECF6\",\"polar\":{\"angularaxis\":{\"gridcolor\":\"white\",\"linecolor\":\"white\",\"ticks\":\"\"},\"bgcolor\":\"#E5ECF6\",\"radialaxis\":{\"gridcolor\":\"white\",\"linecolor\":\"white\",\"ticks\":\"\"}},\"scene\":{\"xaxis\":{\"backgroundcolor\":\"#E5ECF6\",\"gridcolor\":\"white\",\"gridwidth\":2,\"linecolor\":\"white\",\"showbackground\":true,\"ticks\":\"\",\"zerolinecolor\":\"white\"},\"yaxis\":{\"backgroundcolor\":\"#E5ECF6\",\"gridcolor\":\"white\",\"gridwidth\":2,\"linecolor\":\"white\",\"showbackground\":true,\"ticks\":\"\",\"zerolinecolor\":\"white\"},\"zaxis\":{\"backgroundcolor\":\"#E5ECF6\",\"gridcolor\":\"white\",\"gridwidth\":2,\"linecolor\":\"white\",\"showbackground\":true,\"ticks\":\"\",\"zerolinecolor\":\"white\"}},\"shapedefaults\":{\"line\":{\"color\":\"#2a3f5f\"}},\"ternary\":{\"aaxis\":{\"gridcolor\":\"white\",\"linecolor\":\"white\",\"ticks\":\"\"},\"baxis\":{\"gridcolor\":\"white\",\"linecolor\":\"white\",\"ticks\":\"\"},\"bgcolor\":\"#E5ECF6\",\"caxis\":{\"gridcolor\":\"white\",\"linecolor\":\"white\",\"ticks\":\"\"}},\"title\":{\"x\":0.05},\"xaxis\":{\"automargin\":true,\"gridcolor\":\"white\",\"linecolor\":\"white\",\"ticks\":\"\",\"title\":{\"standoff\":15},\"zerolinecolor\":\"white\",\"zerolinewidth\":2},\"yaxis\":{\"automargin\":true,\"gridcolor\":\"white\",\"linecolor\":\"white\",\"ticks\":\"\",\"title\":{\"standoff\":15},\"zerolinecolor\":\"white\",\"zerolinewidth\":2}}},\"title\":{\"text\":\"Distribution of recommended food venue categories\"},\"xaxis\":{\"anchor\":\"y\",\"domain\":[0.0,1.0],\"title\":{\"text\":\"Venue Category\"}},\"yaxis\":{\"anchor\":\"x\",\"domain\":[0.0,1.0],\"title\":{\"text\":\"Count\"}}},                        {\"responsive\": true}                    )                };                            </script>        </div>\n",
       "</body>\n",
       "</html>"
      ],
      "text/plain": [
       "<IPython.core.display.HTML object>"
      ]
     },
     "execution_count": 10,
     "metadata": {},
     "output_type": "execute_result"
    }
   ],
   "source": [
    "import plotly.express as px\n",
    "from IPython.display import HTML, display\n",
    "top15 = sorted.iloc[0:14]\n",
    "fig = px.bar(top15, x=\"Venue Category\", y=\"Count\",\n",
    "             title='Distribution of recommended food venue categories')\n",
    "HTML(fig.to_html(include_plotlyjs='cdn'))\n",
    "#fig.show(renderer='notebook_connected')"
   ]
  },
  {
   "cell_type": "markdown",
   "metadata": {
    "collapsed": false,
    "pycharm": {
     "name": "#%% md\n"
    }
   },
   "source": [
    "So with this data we can tell what food venue categories are recommended the\n",
    " most throughout Los Angeles County, CA. <br />"
   ]
  },
  {
   "cell_type": "markdown",
   "metadata": {
    "collapsed": false,
    "pycharm": {
     "name": "#%% md\n"
    }
   },
   "source": [
    "We have prepared the following data, which we will use for further analysis:\n",
    "- a dataframe with areas in LA County, enriched with geodata, median income\n",
    "and census data\n",
    "- a dataframe with the most recommended food venue categories in the county"
   ]
  },
  {
   "cell_type": "markdown",
   "metadata": {
    "collapsed": false,
    "pycharm": {
     "name": "#%% md\n"
    }
   },
   "source": [
    "## Methodology <a name=\"methodology\"></a>"
   ]
  },
  {
   "cell_type": "markdown",
   "metadata": {
    "collapsed": false,
    "pycharm": {
     "name": "#%% md\n"
    }
   },
   "source": [
    "In this project we will focus on finding a suitable area for a new\n",
    "restaurant in Los Angeles County, CA. The areas are defined by their US Zip\n",
    "Code. In addition, we will look at the most\n",
    "recommended food venue categories throughout the country, to suggest which\n",
    "type of restaurant could be opened. There won't be a specific location in\n",
    "the chosen area recommended.\n",
    "\n",
    "In the first step we have merged three different datasets, that provide data\n",
    " on the different areas in Los Angeles County. With this data it is possible\n",
    "  to cluster the areas using information like median income, number of\n",
    "  households and number of inhabitants. In addition, using Foursquare, we\n",
    "  identified the most recommended food venue categories in the county.\n",
    "\n",
    "The second step in the analysis is to cluster (using k-means clustering) the\n",
    "areas in the county and to describe the individual clusters. Using this\n",
    "method we support the process of finding a single area that looks promising\n",
    "for a new restaurant.\n",
    "\n",
    "The third step is to pick a cluster that fits the chosen criteria most. The\n",
    "area shall be chosen under the premise of finding a good balance between estimated median income and number of potential\n",
    " customers. So the target is to find an area that has as many citizens as\n",
    " possible with the highest income possible. After an area was chosen, the\n",
    " distribution of local restaurant types in this area will be analysed.\n",
    " Combining this information with the categories of food venues that are\n",
    " popular throughout the county, a recommendation of the restaurant to open\n",
    " can be given."
   ]
  },
  {
   "cell_type": "markdown",
   "metadata": {
    "collapsed": false,
    "pycharm": {
     "name": "#%% md\n"
    }
   },
   "source": [
    "## Analysis <a name=\"analysis\"></a>"
   ]
  },
  {
   "cell_type": "markdown",
   "metadata": {
    "collapsed": false,
    "pycharm": {
     "name": "#%% md\n"
    }
   },
   "source": [
    "#### Getting an overview\n",
    "First of all, let's have a look on our dataset describing the areas."
   ]
  },
  {
   "cell_type": "code",
   "execution_count": 11,
   "metadata": {
    "collapsed": false,
    "pycharm": {
     "name": "#%%\n"
    }
   },
   "outputs": [
    {
     "data": {
      "text/html": [
       "<div>\n",
       "<style scoped>\n",
       "    .dataframe tbody tr th:only-of-type {\n",
       "        vertical-align: middle;\n",
       "    }\n",
       "\n",
       "    .dataframe tbody tr th {\n",
       "        vertical-align: top;\n",
       "    }\n",
       "\n",
       "    .dataframe thead th {\n",
       "        text-align: right;\n",
       "    }\n",
       "</style>\n",
       "<table border=\"1\" class=\"dataframe\">\n",
       "  <thead>\n",
       "    <tr style=\"text-align: right;\">\n",
       "      <th></th>\n",
       "      <th>Zip Code</th>\n",
       "      <th>City</th>\n",
       "      <th>Community</th>\n",
       "      <th>Estimated Median Income</th>\n",
       "      <th>Longitude</th>\n",
       "      <th>Latitude</th>\n",
       "      <th>Total Population</th>\n",
       "      <th>Median Age</th>\n",
       "      <th>Total Males</th>\n",
       "      <th>Total Females</th>\n",
       "      <th>Total Households</th>\n",
       "      <th>Average Household Size</th>\n",
       "    </tr>\n",
       "  </thead>\n",
       "  <tbody>\n",
       "    <tr>\n",
       "      <th>1</th>\n",
       "      <td>90001</td>\n",
       "      <td>Los Angeles</td>\n",
       "      <td>Los Angeles (South Los Angeles), Florence-Graham</td>\n",
       "      <td>43360.0</td>\n",
       "      <td>-118.24878</td>\n",
       "      <td>33.972914</td>\n",
       "      <td>57110</td>\n",
       "      <td>26.6</td>\n",
       "      <td>28468</td>\n",
       "      <td>28642</td>\n",
       "      <td>12971</td>\n",
       "      <td>4.40</td>\n",
       "    </tr>\n",
       "    <tr>\n",
       "      <th>2</th>\n",
       "      <td>90002</td>\n",
       "      <td>Los Angeles</td>\n",
       "      <td>Los Angeles (Southeast Los Angeles, Watts)</td>\n",
       "      <td>37285.0</td>\n",
       "      <td>-118.24845</td>\n",
       "      <td>33.948315</td>\n",
       "      <td>51223</td>\n",
       "      <td>25.5</td>\n",
       "      <td>24876</td>\n",
       "      <td>26347</td>\n",
       "      <td>11731</td>\n",
       "      <td>4.36</td>\n",
       "    </tr>\n",
       "    <tr>\n",
       "      <th>3</th>\n",
       "      <td>90003</td>\n",
       "      <td>Los Angeles</td>\n",
       "      <td>Los Angeles (South Los Angeles, Southeast Los ...</td>\n",
       "      <td>40598.0</td>\n",
       "      <td>-118.27600</td>\n",
       "      <td>33.962714</td>\n",
       "      <td>66266</td>\n",
       "      <td>26.3</td>\n",
       "      <td>32631</td>\n",
       "      <td>33635</td>\n",
       "      <td>15642</td>\n",
       "      <td>4.22</td>\n",
       "    </tr>\n",
       "    <tr>\n",
       "      <th>4</th>\n",
       "      <td>90004</td>\n",
       "      <td>Los Angeles</td>\n",
       "      <td>Los Angeles (Hancock Park, Rampart Village, Vi...</td>\n",
       "      <td>49675.0</td>\n",
       "      <td>-118.30755</td>\n",
       "      <td>34.077110</td>\n",
       "      <td>62180</td>\n",
       "      <td>34.8</td>\n",
       "      <td>31302</td>\n",
       "      <td>30878</td>\n",
       "      <td>22547</td>\n",
       "      <td>2.73</td>\n",
       "    </tr>\n",
       "    <tr>\n",
       "      <th>5</th>\n",
       "      <td>90005</td>\n",
       "      <td>Los Angeles</td>\n",
       "      <td>Los Angeles (Hancock Park, Koreatown, Wilshire...</td>\n",
       "      <td>38491.0</td>\n",
       "      <td>-118.30848</td>\n",
       "      <td>34.058911</td>\n",
       "      <td>37681</td>\n",
       "      <td>33.9</td>\n",
       "      <td>19299</td>\n",
       "      <td>18382</td>\n",
       "      <td>15044</td>\n",
       "      <td>2.50</td>\n",
       "    </tr>\n",
       "  </tbody>\n",
       "</table>\n",
       "</div>"
      ],
      "text/plain": [
       "   Zip Code         City                                          Community  \\\n",
       "1     90001  Los Angeles   Los Angeles (South Los Angeles), Florence-Graham   \n",
       "2     90002  Los Angeles         Los Angeles (Southeast Los Angeles, Watts)   \n",
       "3     90003  Los Angeles  Los Angeles (South Los Angeles, Southeast Los ...   \n",
       "4     90004  Los Angeles  Los Angeles (Hancock Park, Rampart Village, Vi...   \n",
       "5     90005  Los Angeles  Los Angeles (Hancock Park, Koreatown, Wilshire...   \n",
       "\n",
       "   Estimated Median Income  Longitude   Latitude  Total Population  \\\n",
       "1                  43360.0 -118.24878  33.972914             57110   \n",
       "2                  37285.0 -118.24845  33.948315             51223   \n",
       "3                  40598.0 -118.27600  33.962714             66266   \n",
       "4                  49675.0 -118.30755  34.077110             62180   \n",
       "5                  38491.0 -118.30848  34.058911             37681   \n",
       "\n",
       "   Median Age  Total Males  Total Females  Total Households  \\\n",
       "1        26.6        28468          28642             12971   \n",
       "2        25.5        24876          26347             11731   \n",
       "3        26.3        32631          33635             15642   \n",
       "4        34.8        31302          30878             22547   \n",
       "5        33.9        19299          18382             15044   \n",
       "\n",
       "   Average Household Size  \n",
       "1                    4.40  \n",
       "2                    4.36  \n",
       "3                    4.22  \n",
       "4                    2.73  \n",
       "5                    2.50  "
      ]
     },
     "execution_count": 11,
     "metadata": {},
     "output_type": "execute_result"
    }
   ],
   "source": [
    "final_ds.head()"
   ]
  },
  {
   "cell_type": "markdown",
   "metadata": {
    "collapsed": false,
    "pycharm": {
     "name": "#%% md\n"
    }
   },
   "source": [
    "Now we are going to take a look at the areas with the highest income and the\n",
    " highest population."
   ]
  },
  {
   "cell_type": "code",
   "execution_count": 12,
   "metadata": {
    "collapsed": false,
    "pycharm": {
     "name": "#%%\n"
    }
   },
   "outputs": [
    {
     "data": {
      "text/html": [
       "<html>\n",
       "<head><meta charset=\"utf-8\" /></head>\n",
       "<body>\n",
       "    <div>                        <script type=\"text/javascript\">window.PlotlyConfig = {MathJaxConfig: 'local'};</script>\n",
       "        <script src=\"https://cdn.plot.ly/plotly-2.2.0.min.js\"></script>                <div id=\"3506a48b-d3e6-4896-8a68-c967621a1aa1\" class=\"plotly-graph-div\" style=\"height:100%; width:100%;\"></div>            <script type=\"text/javascript\">                                    window.PLOTLYENV=window.PLOTLYENV || {};                                    if (document.getElementById(\"3506a48b-d3e6-4896-8a68-c967621a1aa1\")) {                    Plotly.newPlot(                        \"3506a48b-d3e6-4896-8a68-c967621a1aa1\",                        [{\"alignmentgroup\":\"True\",\"hovertemplate\":\"Estimated Median Income=%{marker.color}<br>City=%{y}<extra></extra>\",\"legendgroup\":\"\",\"marker\":{\"color\":[209531.0,192500.0,175652.0,174085.0,169919.0,165765.0,155417.0,154583.0,153023.0,152378.0,147270.0,138293.0,136702.0,135741.0],\"coloraxis\":\"coloraxis\",\"pattern\":{\"shape\":\"\"}},\"name\":\"\",\"offsetgroup\":\"\",\"orientation\":\"h\",\"showlegend\":false,\"textposition\":\"auto\",\"type\":\"bar\",\"x\":[209531.0,192500.0,175652.0,174085.0,169919.0,165765.0,155417.0,154583.0,153023.0,152378.0,147270.0,138293.0,136702.0,135741.0],\"xaxis\":\"x\",\"y\":[\"Los Angeles\",\"Pacific Palisades\",\"La Canada Flintridge\",\"Encino\",\"Palos Verdes Peninsula\",\"San Marino\",\"Los Angeles\",\"Santa Monica\",\"Manhattan Beach\",\"Malibu\",\"Beverly Hills\",\"Rancho Palos Verdes\",\"Hermosa Beach\",\"Glendale\"],\"yaxis\":\"y\"}],                        {\"barmode\":\"relative\",\"coloraxis\":{\"colorbar\":{\"title\":{\"text\":\"Estimated Median Income\"}},\"colorscale\":[[0.0,\"#0d0887\"],[0.1111111111111111,\"#46039f\"],[0.2222222222222222,\"#7201a8\"],[0.3333333333333333,\"#9c179e\"],[0.4444444444444444,\"#bd3786\"],[0.5555555555555556,\"#d8576b\"],[0.6666666666666666,\"#ed7953\"],[0.7777777777777778,\"#fb9f3a\"],[0.8888888888888888,\"#fdca26\"],[1.0,\"#f0f921\"]]},\"legend\":{\"tracegroupgap\":0},\"template\":{\"data\":{\"bar\":[{\"error_x\":{\"color\":\"#2a3f5f\"},\"error_y\":{\"color\":\"#2a3f5f\"},\"marker\":{\"line\":{\"color\":\"#E5ECF6\",\"width\":0.5},\"pattern\":{\"fillmode\":\"overlay\",\"size\":10,\"solidity\":0.2}},\"type\":\"bar\"}],\"barpolar\":[{\"marker\":{\"line\":{\"color\":\"#E5ECF6\",\"width\":0.5},\"pattern\":{\"fillmode\":\"overlay\",\"size\":10,\"solidity\":0.2}},\"type\":\"barpolar\"}],\"carpet\":[{\"aaxis\":{\"endlinecolor\":\"#2a3f5f\",\"gridcolor\":\"white\",\"linecolor\":\"white\",\"minorgridcolor\":\"white\",\"startlinecolor\":\"#2a3f5f\"},\"baxis\":{\"endlinecolor\":\"#2a3f5f\",\"gridcolor\":\"white\",\"linecolor\":\"white\",\"minorgridcolor\":\"white\",\"startlinecolor\":\"#2a3f5f\"},\"type\":\"carpet\"}],\"choropleth\":[{\"colorbar\":{\"outlinewidth\":0,\"ticks\":\"\"},\"type\":\"choropleth\"}],\"contour\":[{\"colorbar\":{\"outlinewidth\":0,\"ticks\":\"\"},\"colorscale\":[[0.0,\"#0d0887\"],[0.1111111111111111,\"#46039f\"],[0.2222222222222222,\"#7201a8\"],[0.3333333333333333,\"#9c179e\"],[0.4444444444444444,\"#bd3786\"],[0.5555555555555556,\"#d8576b\"],[0.6666666666666666,\"#ed7953\"],[0.7777777777777778,\"#fb9f3a\"],[0.8888888888888888,\"#fdca26\"],[1.0,\"#f0f921\"]],\"type\":\"contour\"}],\"contourcarpet\":[{\"colorbar\":{\"outlinewidth\":0,\"ticks\":\"\"},\"type\":\"contourcarpet\"}],\"heatmap\":[{\"colorbar\":{\"outlinewidth\":0,\"ticks\":\"\"},\"colorscale\":[[0.0,\"#0d0887\"],[0.1111111111111111,\"#46039f\"],[0.2222222222222222,\"#7201a8\"],[0.3333333333333333,\"#9c179e\"],[0.4444444444444444,\"#bd3786\"],[0.5555555555555556,\"#d8576b\"],[0.6666666666666666,\"#ed7953\"],[0.7777777777777778,\"#fb9f3a\"],[0.8888888888888888,\"#fdca26\"],[1.0,\"#f0f921\"]],\"type\":\"heatmap\"}],\"heatmapgl\":[{\"colorbar\":{\"outlinewidth\":0,\"ticks\":\"\"},\"colorscale\":[[0.0,\"#0d0887\"],[0.1111111111111111,\"#46039f\"],[0.2222222222222222,\"#7201a8\"],[0.3333333333333333,\"#9c179e\"],[0.4444444444444444,\"#bd3786\"],[0.5555555555555556,\"#d8576b\"],[0.6666666666666666,\"#ed7953\"],[0.7777777777777778,\"#fb9f3a\"],[0.8888888888888888,\"#fdca26\"],[1.0,\"#f0f921\"]],\"type\":\"heatmapgl\"}],\"histogram\":[{\"marker\":{\"pattern\":{\"fillmode\":\"overlay\",\"size\":10,\"solidity\":0.2}},\"type\":\"histogram\"}],\"histogram2d\":[{\"colorbar\":{\"outlinewidth\":0,\"ticks\":\"\"},\"colorscale\":[[0.0,\"#0d0887\"],[0.1111111111111111,\"#46039f\"],[0.2222222222222222,\"#7201a8\"],[0.3333333333333333,\"#9c179e\"],[0.4444444444444444,\"#bd3786\"],[0.5555555555555556,\"#d8576b\"],[0.6666666666666666,\"#ed7953\"],[0.7777777777777778,\"#fb9f3a\"],[0.8888888888888888,\"#fdca26\"],[1.0,\"#f0f921\"]],\"type\":\"histogram2d\"}],\"histogram2dcontour\":[{\"colorbar\":{\"outlinewidth\":0,\"ticks\":\"\"},\"colorscale\":[[0.0,\"#0d0887\"],[0.1111111111111111,\"#46039f\"],[0.2222222222222222,\"#7201a8\"],[0.3333333333333333,\"#9c179e\"],[0.4444444444444444,\"#bd3786\"],[0.5555555555555556,\"#d8576b\"],[0.6666666666666666,\"#ed7953\"],[0.7777777777777778,\"#fb9f3a\"],[0.8888888888888888,\"#fdca26\"],[1.0,\"#f0f921\"]],\"type\":\"histogram2dcontour\"}],\"mesh3d\":[{\"colorbar\":{\"outlinewidth\":0,\"ticks\":\"\"},\"type\":\"mesh3d\"}],\"parcoords\":[{\"line\":{\"colorbar\":{\"outlinewidth\":0,\"ticks\":\"\"}},\"type\":\"parcoords\"}],\"pie\":[{\"automargin\":true,\"type\":\"pie\"}],\"scatter\":[{\"marker\":{\"colorbar\":{\"outlinewidth\":0,\"ticks\":\"\"}},\"type\":\"scatter\"}],\"scatter3d\":[{\"line\":{\"colorbar\":{\"outlinewidth\":0,\"ticks\":\"\"}},\"marker\":{\"colorbar\":{\"outlinewidth\":0,\"ticks\":\"\"}},\"type\":\"scatter3d\"}],\"scattercarpet\":[{\"marker\":{\"colorbar\":{\"outlinewidth\":0,\"ticks\":\"\"}},\"type\":\"scattercarpet\"}],\"scattergeo\":[{\"marker\":{\"colorbar\":{\"outlinewidth\":0,\"ticks\":\"\"}},\"type\":\"scattergeo\"}],\"scattergl\":[{\"marker\":{\"colorbar\":{\"outlinewidth\":0,\"ticks\":\"\"}},\"type\":\"scattergl\"}],\"scattermapbox\":[{\"marker\":{\"colorbar\":{\"outlinewidth\":0,\"ticks\":\"\"}},\"type\":\"scattermapbox\"}],\"scatterpolar\":[{\"marker\":{\"colorbar\":{\"outlinewidth\":0,\"ticks\":\"\"}},\"type\":\"scatterpolar\"}],\"scatterpolargl\":[{\"marker\":{\"colorbar\":{\"outlinewidth\":0,\"ticks\":\"\"}},\"type\":\"scatterpolargl\"}],\"scatterternary\":[{\"marker\":{\"colorbar\":{\"outlinewidth\":0,\"ticks\":\"\"}},\"type\":\"scatterternary\"}],\"surface\":[{\"colorbar\":{\"outlinewidth\":0,\"ticks\":\"\"},\"colorscale\":[[0.0,\"#0d0887\"],[0.1111111111111111,\"#46039f\"],[0.2222222222222222,\"#7201a8\"],[0.3333333333333333,\"#9c179e\"],[0.4444444444444444,\"#bd3786\"],[0.5555555555555556,\"#d8576b\"],[0.6666666666666666,\"#ed7953\"],[0.7777777777777778,\"#fb9f3a\"],[0.8888888888888888,\"#fdca26\"],[1.0,\"#f0f921\"]],\"type\":\"surface\"}],\"table\":[{\"cells\":{\"fill\":{\"color\":\"#EBF0F8\"},\"line\":{\"color\":\"white\"}},\"header\":{\"fill\":{\"color\":\"#C8D4E3\"},\"line\":{\"color\":\"white\"}},\"type\":\"table\"}]},\"layout\":{\"annotationdefaults\":{\"arrowcolor\":\"#2a3f5f\",\"arrowhead\":0,\"arrowwidth\":1},\"autotypenumbers\":\"strict\",\"coloraxis\":{\"colorbar\":{\"outlinewidth\":0,\"ticks\":\"\"}},\"colorscale\":{\"diverging\":[[0,\"#8e0152\"],[0.1,\"#c51b7d\"],[0.2,\"#de77ae\"],[0.3,\"#f1b6da\"],[0.4,\"#fde0ef\"],[0.5,\"#f7f7f7\"],[0.6,\"#e6f5d0\"],[0.7,\"#b8e186\"],[0.8,\"#7fbc41\"],[0.9,\"#4d9221\"],[1,\"#276419\"]],\"sequential\":[[0.0,\"#0d0887\"],[0.1111111111111111,\"#46039f\"],[0.2222222222222222,\"#7201a8\"],[0.3333333333333333,\"#9c179e\"],[0.4444444444444444,\"#bd3786\"],[0.5555555555555556,\"#d8576b\"],[0.6666666666666666,\"#ed7953\"],[0.7777777777777778,\"#fb9f3a\"],[0.8888888888888888,\"#fdca26\"],[1.0,\"#f0f921\"]],\"sequentialminus\":[[0.0,\"#0d0887\"],[0.1111111111111111,\"#46039f\"],[0.2222222222222222,\"#7201a8\"],[0.3333333333333333,\"#9c179e\"],[0.4444444444444444,\"#bd3786\"],[0.5555555555555556,\"#d8576b\"],[0.6666666666666666,\"#ed7953\"],[0.7777777777777778,\"#fb9f3a\"],[0.8888888888888888,\"#fdca26\"],[1.0,\"#f0f921\"]]},\"colorway\":[\"#636efa\",\"#EF553B\",\"#00cc96\",\"#ab63fa\",\"#FFA15A\",\"#19d3f3\",\"#FF6692\",\"#B6E880\",\"#FF97FF\",\"#FECB52\"],\"font\":{\"color\":\"#2a3f5f\"},\"geo\":{\"bgcolor\":\"white\",\"lakecolor\":\"white\",\"landcolor\":\"#E5ECF6\",\"showlakes\":true,\"showland\":true,\"subunitcolor\":\"white\"},\"hoverlabel\":{\"align\":\"left\"},\"hovermode\":\"closest\",\"mapbox\":{\"style\":\"light\"},\"paper_bgcolor\":\"white\",\"plot_bgcolor\":\"#E5ECF6\",\"polar\":{\"angularaxis\":{\"gridcolor\":\"white\",\"linecolor\":\"white\",\"ticks\":\"\"},\"bgcolor\":\"#E5ECF6\",\"radialaxis\":{\"gridcolor\":\"white\",\"linecolor\":\"white\",\"ticks\":\"\"}},\"scene\":{\"xaxis\":{\"backgroundcolor\":\"#E5ECF6\",\"gridcolor\":\"white\",\"gridwidth\":2,\"linecolor\":\"white\",\"showbackground\":true,\"ticks\":\"\",\"zerolinecolor\":\"white\"},\"yaxis\":{\"backgroundcolor\":\"#E5ECF6\",\"gridcolor\":\"white\",\"gridwidth\":2,\"linecolor\":\"white\",\"showbackground\":true,\"ticks\":\"\",\"zerolinecolor\":\"white\"},\"zaxis\":{\"backgroundcolor\":\"#E5ECF6\",\"gridcolor\":\"white\",\"gridwidth\":2,\"linecolor\":\"white\",\"showbackground\":true,\"ticks\":\"\",\"zerolinecolor\":\"white\"}},\"shapedefaults\":{\"line\":{\"color\":\"#2a3f5f\"}},\"ternary\":{\"aaxis\":{\"gridcolor\":\"white\",\"linecolor\":\"white\",\"ticks\":\"\"},\"baxis\":{\"gridcolor\":\"white\",\"linecolor\":\"white\",\"ticks\":\"\"},\"bgcolor\":\"#E5ECF6\",\"caxis\":{\"gridcolor\":\"white\",\"linecolor\":\"white\",\"ticks\":\"\"}},\"title\":{\"x\":0.05},\"xaxis\":{\"automargin\":true,\"gridcolor\":\"white\",\"linecolor\":\"white\",\"ticks\":\"\",\"title\":{\"standoff\":15},\"zerolinecolor\":\"white\",\"zerolinewidth\":2},\"yaxis\":{\"automargin\":true,\"gridcolor\":\"white\",\"linecolor\":\"white\",\"ticks\":\"\",\"title\":{\"standoff\":15},\"zerolinecolor\":\"white\",\"zerolinewidth\":2}}},\"title\":{\"text\":\"Distribution of Estimated Median Income\"},\"xaxis\":{\"anchor\":\"y\",\"domain\":[0.0,1.0],\"title\":{\"text\":\"Estimated Median Income\"}},\"yaxis\":{\"anchor\":\"x\",\"domain\":[0.0,1.0],\"title\":{\"text\":\"City\"}}},                        {\"responsive\": true}                    )                };                            </script>        </div>\n",
       "</body>\n",
       "</html>"
      ],
      "text/plain": [
       "<IPython.core.display.HTML object>"
      ]
     },
     "execution_count": 12,
     "metadata": {},
     "output_type": "execute_result"
    }
   ],
   "source": [
    "# sort descending by the income and draw the top 15 areas\n",
    "income_sorted = final_ds.sort_values(by='Estimated Median Income',\n",
    "                                     ascending=False)\n",
    "income_top15 = income_sorted.iloc[0:14]\n",
    "fig = px.bar(income_top15, x=\"Estimated Median Income\", y=\"City\",\n",
    " orientation = \"h\", color='Estimated Median Income',\n",
    "             title='Distribution of Estimated Median Income')\n",
    "HTML(fig.to_html(include_plotlyjs='cdn'))\n",
    "#fig.show(renderer='notebook_connected')"
   ]
  },
  {
   "cell_type": "code",
   "execution_count": 13,
   "metadata": {
    "collapsed": false,
    "pycharm": {
     "name": "#%%\n"
    }
   },
   "outputs": [
    {
     "data": {
      "text/html": [
       "<html>\n",
       "<head><meta charset=\"utf-8\" /></head>\n",
       "<body>\n",
       "    <div>                        <script type=\"text/javascript\">window.PlotlyConfig = {MathJaxConfig: 'local'};</script>\n",
       "        <script src=\"https://cdn.plot.ly/plotly-2.2.0.min.js\"></script>                <div id=\"5cf5d9d7-f4e2-41b6-b16f-57928f1db85d\" class=\"plotly-graph-div\" style=\"height:100%; width:100%;\"></div>            <script type=\"text/javascript\">                                    window.PLOTLYENV=window.PLOTLYENV || {};                                    if (document.getElementById(\"5cf5d9d7-f4e2-41b6-b16f-57928f1db85d\")) {                    Plotly.newPlot(                        \"5cf5d9d7-f4e2-41b6-b16f-57928f1db85d\",                        [{\"alignmentgroup\":\"True\",\"hovertemplate\":\"City=%{x}<br>Total Population=%{marker.color}<extra></extra>\",\"legendgroup\":\"\",\"marker\":{\"color\":[105549,103892,103689,101279,94396,93524,93193,91725,89779,85040,76615,76571,75066,74929],\"coloraxis\":\"coloraxis\",\"pattern\":{\"shape\":\"\"}},\"name\":\"\",\"offsetgroup\":\"\",\"orientation\":\"v\",\"showlegend\":false,\"textposition\":\"auto\",\"type\":\"bar\",\"x\":[\"Norwalk\",\"Los Angeles\",\"Pacoima\",\"Bell\",\"South Gate\",\"Long Beach\",\"Hawthorne\",\"Sylmar\",\"Los Angeles\",\"La Puente\",\"Bellflower\",\"Baldwin Park\",\"Huntington Park\",\"Palmdale\"],\"xaxis\":\"x\",\"y\":[105549,103892,103689,101279,94396,93524,93193,91725,89779,85040,76615,76571,75066,74929],\"yaxis\":\"y\"}],                        {\"barmode\":\"relative\",\"coloraxis\":{\"colorbar\":{\"title\":{\"text\":\"Total Population\"}},\"colorscale\":[[0.0,\"#0d0887\"],[0.1111111111111111,\"#46039f\"],[0.2222222222222222,\"#7201a8\"],[0.3333333333333333,\"#9c179e\"],[0.4444444444444444,\"#bd3786\"],[0.5555555555555556,\"#d8576b\"],[0.6666666666666666,\"#ed7953\"],[0.7777777777777778,\"#fb9f3a\"],[0.8888888888888888,\"#fdca26\"],[1.0,\"#f0f921\"]]},\"legend\":{\"tracegroupgap\":0},\"template\":{\"data\":{\"bar\":[{\"error_x\":{\"color\":\"#2a3f5f\"},\"error_y\":{\"color\":\"#2a3f5f\"},\"marker\":{\"line\":{\"color\":\"#E5ECF6\",\"width\":0.5},\"pattern\":{\"fillmode\":\"overlay\",\"size\":10,\"solidity\":0.2}},\"type\":\"bar\"}],\"barpolar\":[{\"marker\":{\"line\":{\"color\":\"#E5ECF6\",\"width\":0.5},\"pattern\":{\"fillmode\":\"overlay\",\"size\":10,\"solidity\":0.2}},\"type\":\"barpolar\"}],\"carpet\":[{\"aaxis\":{\"endlinecolor\":\"#2a3f5f\",\"gridcolor\":\"white\",\"linecolor\":\"white\",\"minorgridcolor\":\"white\",\"startlinecolor\":\"#2a3f5f\"},\"baxis\":{\"endlinecolor\":\"#2a3f5f\",\"gridcolor\":\"white\",\"linecolor\":\"white\",\"minorgridcolor\":\"white\",\"startlinecolor\":\"#2a3f5f\"},\"type\":\"carpet\"}],\"choropleth\":[{\"colorbar\":{\"outlinewidth\":0,\"ticks\":\"\"},\"type\":\"choropleth\"}],\"contour\":[{\"colorbar\":{\"outlinewidth\":0,\"ticks\":\"\"},\"colorscale\":[[0.0,\"#0d0887\"],[0.1111111111111111,\"#46039f\"],[0.2222222222222222,\"#7201a8\"],[0.3333333333333333,\"#9c179e\"],[0.4444444444444444,\"#bd3786\"],[0.5555555555555556,\"#d8576b\"],[0.6666666666666666,\"#ed7953\"],[0.7777777777777778,\"#fb9f3a\"],[0.8888888888888888,\"#fdca26\"],[1.0,\"#f0f921\"]],\"type\":\"contour\"}],\"contourcarpet\":[{\"colorbar\":{\"outlinewidth\":0,\"ticks\":\"\"},\"type\":\"contourcarpet\"}],\"heatmap\":[{\"colorbar\":{\"outlinewidth\":0,\"ticks\":\"\"},\"colorscale\":[[0.0,\"#0d0887\"],[0.1111111111111111,\"#46039f\"],[0.2222222222222222,\"#7201a8\"],[0.3333333333333333,\"#9c179e\"],[0.4444444444444444,\"#bd3786\"],[0.5555555555555556,\"#d8576b\"],[0.6666666666666666,\"#ed7953\"],[0.7777777777777778,\"#fb9f3a\"],[0.8888888888888888,\"#fdca26\"],[1.0,\"#f0f921\"]],\"type\":\"heatmap\"}],\"heatmapgl\":[{\"colorbar\":{\"outlinewidth\":0,\"ticks\":\"\"},\"colorscale\":[[0.0,\"#0d0887\"],[0.1111111111111111,\"#46039f\"],[0.2222222222222222,\"#7201a8\"],[0.3333333333333333,\"#9c179e\"],[0.4444444444444444,\"#bd3786\"],[0.5555555555555556,\"#d8576b\"],[0.6666666666666666,\"#ed7953\"],[0.7777777777777778,\"#fb9f3a\"],[0.8888888888888888,\"#fdca26\"],[1.0,\"#f0f921\"]],\"type\":\"heatmapgl\"}],\"histogram\":[{\"marker\":{\"pattern\":{\"fillmode\":\"overlay\",\"size\":10,\"solidity\":0.2}},\"type\":\"histogram\"}],\"histogram2d\":[{\"colorbar\":{\"outlinewidth\":0,\"ticks\":\"\"},\"colorscale\":[[0.0,\"#0d0887\"],[0.1111111111111111,\"#46039f\"],[0.2222222222222222,\"#7201a8\"],[0.3333333333333333,\"#9c179e\"],[0.4444444444444444,\"#bd3786\"],[0.5555555555555556,\"#d8576b\"],[0.6666666666666666,\"#ed7953\"],[0.7777777777777778,\"#fb9f3a\"],[0.8888888888888888,\"#fdca26\"],[1.0,\"#f0f921\"]],\"type\":\"histogram2d\"}],\"histogram2dcontour\":[{\"colorbar\":{\"outlinewidth\":0,\"ticks\":\"\"},\"colorscale\":[[0.0,\"#0d0887\"],[0.1111111111111111,\"#46039f\"],[0.2222222222222222,\"#7201a8\"],[0.3333333333333333,\"#9c179e\"],[0.4444444444444444,\"#bd3786\"],[0.5555555555555556,\"#d8576b\"],[0.6666666666666666,\"#ed7953\"],[0.7777777777777778,\"#fb9f3a\"],[0.8888888888888888,\"#fdca26\"],[1.0,\"#f0f921\"]],\"type\":\"histogram2dcontour\"}],\"mesh3d\":[{\"colorbar\":{\"outlinewidth\":0,\"ticks\":\"\"},\"type\":\"mesh3d\"}],\"parcoords\":[{\"line\":{\"colorbar\":{\"outlinewidth\":0,\"ticks\":\"\"}},\"type\":\"parcoords\"}],\"pie\":[{\"automargin\":true,\"type\":\"pie\"}],\"scatter\":[{\"marker\":{\"colorbar\":{\"outlinewidth\":0,\"ticks\":\"\"}},\"type\":\"scatter\"}],\"scatter3d\":[{\"line\":{\"colorbar\":{\"outlinewidth\":0,\"ticks\":\"\"}},\"marker\":{\"colorbar\":{\"outlinewidth\":0,\"ticks\":\"\"}},\"type\":\"scatter3d\"}],\"scattercarpet\":[{\"marker\":{\"colorbar\":{\"outlinewidth\":0,\"ticks\":\"\"}},\"type\":\"scattercarpet\"}],\"scattergeo\":[{\"marker\":{\"colorbar\":{\"outlinewidth\":0,\"ticks\":\"\"}},\"type\":\"scattergeo\"}],\"scattergl\":[{\"marker\":{\"colorbar\":{\"outlinewidth\":0,\"ticks\":\"\"}},\"type\":\"scattergl\"}],\"scattermapbox\":[{\"marker\":{\"colorbar\":{\"outlinewidth\":0,\"ticks\":\"\"}},\"type\":\"scattermapbox\"}],\"scatterpolar\":[{\"marker\":{\"colorbar\":{\"outlinewidth\":0,\"ticks\":\"\"}},\"type\":\"scatterpolar\"}],\"scatterpolargl\":[{\"marker\":{\"colorbar\":{\"outlinewidth\":0,\"ticks\":\"\"}},\"type\":\"scatterpolargl\"}],\"scatterternary\":[{\"marker\":{\"colorbar\":{\"outlinewidth\":0,\"ticks\":\"\"}},\"type\":\"scatterternary\"}],\"surface\":[{\"colorbar\":{\"outlinewidth\":0,\"ticks\":\"\"},\"colorscale\":[[0.0,\"#0d0887\"],[0.1111111111111111,\"#46039f\"],[0.2222222222222222,\"#7201a8\"],[0.3333333333333333,\"#9c179e\"],[0.4444444444444444,\"#bd3786\"],[0.5555555555555556,\"#d8576b\"],[0.6666666666666666,\"#ed7953\"],[0.7777777777777778,\"#fb9f3a\"],[0.8888888888888888,\"#fdca26\"],[1.0,\"#f0f921\"]],\"type\":\"surface\"}],\"table\":[{\"cells\":{\"fill\":{\"color\":\"#EBF0F8\"},\"line\":{\"color\":\"white\"}},\"header\":{\"fill\":{\"color\":\"#C8D4E3\"},\"line\":{\"color\":\"white\"}},\"type\":\"table\"}]},\"layout\":{\"annotationdefaults\":{\"arrowcolor\":\"#2a3f5f\",\"arrowhead\":0,\"arrowwidth\":1},\"autotypenumbers\":\"strict\",\"coloraxis\":{\"colorbar\":{\"outlinewidth\":0,\"ticks\":\"\"}},\"colorscale\":{\"diverging\":[[0,\"#8e0152\"],[0.1,\"#c51b7d\"],[0.2,\"#de77ae\"],[0.3,\"#f1b6da\"],[0.4,\"#fde0ef\"],[0.5,\"#f7f7f7\"],[0.6,\"#e6f5d0\"],[0.7,\"#b8e186\"],[0.8,\"#7fbc41\"],[0.9,\"#4d9221\"],[1,\"#276419\"]],\"sequential\":[[0.0,\"#0d0887\"],[0.1111111111111111,\"#46039f\"],[0.2222222222222222,\"#7201a8\"],[0.3333333333333333,\"#9c179e\"],[0.4444444444444444,\"#bd3786\"],[0.5555555555555556,\"#d8576b\"],[0.6666666666666666,\"#ed7953\"],[0.7777777777777778,\"#fb9f3a\"],[0.8888888888888888,\"#fdca26\"],[1.0,\"#f0f921\"]],\"sequentialminus\":[[0.0,\"#0d0887\"],[0.1111111111111111,\"#46039f\"],[0.2222222222222222,\"#7201a8\"],[0.3333333333333333,\"#9c179e\"],[0.4444444444444444,\"#bd3786\"],[0.5555555555555556,\"#d8576b\"],[0.6666666666666666,\"#ed7953\"],[0.7777777777777778,\"#fb9f3a\"],[0.8888888888888888,\"#fdca26\"],[1.0,\"#f0f921\"]]},\"colorway\":[\"#636efa\",\"#EF553B\",\"#00cc96\",\"#ab63fa\",\"#FFA15A\",\"#19d3f3\",\"#FF6692\",\"#B6E880\",\"#FF97FF\",\"#FECB52\"],\"font\":{\"color\":\"#2a3f5f\"},\"geo\":{\"bgcolor\":\"white\",\"lakecolor\":\"white\",\"landcolor\":\"#E5ECF6\",\"showlakes\":true,\"showland\":true,\"subunitcolor\":\"white\"},\"hoverlabel\":{\"align\":\"left\"},\"hovermode\":\"closest\",\"mapbox\":{\"style\":\"light\"},\"paper_bgcolor\":\"white\",\"plot_bgcolor\":\"#E5ECF6\",\"polar\":{\"angularaxis\":{\"gridcolor\":\"white\",\"linecolor\":\"white\",\"ticks\":\"\"},\"bgcolor\":\"#E5ECF6\",\"radialaxis\":{\"gridcolor\":\"white\",\"linecolor\":\"white\",\"ticks\":\"\"}},\"scene\":{\"xaxis\":{\"backgroundcolor\":\"#E5ECF6\",\"gridcolor\":\"white\",\"gridwidth\":2,\"linecolor\":\"white\",\"showbackground\":true,\"ticks\":\"\",\"zerolinecolor\":\"white\"},\"yaxis\":{\"backgroundcolor\":\"#E5ECF6\",\"gridcolor\":\"white\",\"gridwidth\":2,\"linecolor\":\"white\",\"showbackground\":true,\"ticks\":\"\",\"zerolinecolor\":\"white\"},\"zaxis\":{\"backgroundcolor\":\"#E5ECF6\",\"gridcolor\":\"white\",\"gridwidth\":2,\"linecolor\":\"white\",\"showbackground\":true,\"ticks\":\"\",\"zerolinecolor\":\"white\"}},\"shapedefaults\":{\"line\":{\"color\":\"#2a3f5f\"}},\"ternary\":{\"aaxis\":{\"gridcolor\":\"white\",\"linecolor\":\"white\",\"ticks\":\"\"},\"baxis\":{\"gridcolor\":\"white\",\"linecolor\":\"white\",\"ticks\":\"\"},\"bgcolor\":\"#E5ECF6\",\"caxis\":{\"gridcolor\":\"white\",\"linecolor\":\"white\",\"ticks\":\"\"}},\"title\":{\"x\":0.05},\"xaxis\":{\"automargin\":true,\"gridcolor\":\"white\",\"linecolor\":\"white\",\"ticks\":\"\",\"title\":{\"standoff\":15},\"zerolinecolor\":\"white\",\"zerolinewidth\":2},\"yaxis\":{\"automargin\":true,\"gridcolor\":\"white\",\"linecolor\":\"white\",\"ticks\":\"\",\"title\":{\"standoff\":15},\"zerolinecolor\":\"white\",\"zerolinewidth\":2}}},\"title\":{\"text\":\"Distribution of Population\"},\"xaxis\":{\"anchor\":\"y\",\"domain\":[0.0,1.0],\"title\":{\"text\":\"City\"}},\"yaxis\":{\"anchor\":\"x\",\"domain\":[0.0,1.0],\"title\":{\"text\":\"Total Population\"}}},                        {\"responsive\": true}                    )                };                            </script>        </div>\n",
       "</body>\n",
       "</html>"
      ],
      "text/plain": [
       "<IPython.core.display.HTML object>"
      ]
     },
     "execution_count": 13,
     "metadata": {},
     "output_type": "execute_result"
    }
   ],
   "source": [
    "# sort descending by the population and draw the top 15 areas\n",
    "pop_sorted = final_ds.sort_values(by='Total Population',\n",
    "                                     ascending=False)\n",
    "pop_top15 = pop_sorted.iloc[0:14]\n",
    "fig = px.bar(pop_top15, y=\"Total Population\", x=\"City\",\n",
    " orientation = \"v\", color='Total Population',\n",
    "             title='Distribution of Population')\n",
    "HTML(fig.to_html(include_plotlyjs='cdn'))\n",
    "#fig.show(renderer='notebook_connected')"
   ]
  },
  {
   "cell_type": "markdown",
   "metadata": {
    "collapsed": false,
    "pycharm": {
     "name": "#%% md\n"
    }
   },
   "source": [
    "As we are primarily interested in the areas that have a high total\n",
    "population, let us add the income to this graph and get an overview on which\n",
    "areas in this group have the highest income."
   ]
  },
  {
   "cell_type": "code",
   "execution_count": 14,
   "metadata": {
    "collapsed": false,
    "pycharm": {
     "name": "#%%\n"
    }
   },
   "outputs": [
    {
     "data": {
      "text/html": [
       "<html>\n",
       "<head><meta charset=\"utf-8\" /></head>\n",
       "<body>\n",
       "    <div>                        <script type=\"text/javascript\">window.PlotlyConfig = {MathJaxConfig: 'local'};</script>\n",
       "        <script src=\"https://cdn.plot.ly/plotly-2.2.0.min.js\"></script>                <div id=\"c5dffd46-a30a-47d4-b9c7-bd9e2f3adeae\" class=\"plotly-graph-div\" style=\"height:100%; width:100%;\"></div>            <script type=\"text/javascript\">                                    window.PLOTLYENV=window.PLOTLYENV || {};                                    if (document.getElementById(\"c5dffd46-a30a-47d4-b9c7-bd9e2f3adeae\")) {                    Plotly.newPlot(                        \"c5dffd46-a30a-47d4-b9c7-bd9e2f3adeae\",                        [{\"hovertemplate\":\"Estimated Median Income=%{x}<br>Community=%{y}<br>Total Population=%{marker.color}<extra></extra>\",\"legendgroup\":\"\",\"marker\":{\"color\":[105549,103892,103689,101279,94396,93524,93193,91725,89779,85040,76615,76571,75066,74929],\"coloraxis\":\"coloraxis\",\"size\":[105549,103892,103689,101279,94396,93524,93193,91725,89779,85040,76615,76571,75066,74929],\"sizemode\":\"area\",\"sizeref\":263.8725,\"symbol\":\"circle\"},\"mode\":\"markers\",\"name\":\"\",\"orientation\":\"h\",\"showlegend\":false,\"type\":\"scatter\",\"x\":[70667.0,40940.0,63807.0,44046.0,52321.0,50914.0,56304.0,74050.0,35981.0,71243.0,60011.0,65755.0,44962.0,45918.0],\"xaxis\":\"x\",\"y\":[\"Norwalk\",\"Los Angeles (Southeast Los Angeles)\",\"Los Angeles (Arleta, Hansen Hills, Pacoima)\",\"Bell, Bell Gardens, Cudahy\",\"South Gate\",\"Long Beach (North Long Beach)\",\"Hawthorne (Holly Park)\",\"Los Angeles (Lake View Terrace, Sylmar), Kagel Canyon\",\"Athens, Los Angeles (South Los Angeles)\",\"City of Industry, La Puente, Valinda\",\"Bellflower\",\"Baldwin Park, Irwindale\",\"Huntington Park, Walnut Park\",\"Lake Los Angeles, Palmdale\"],\"yaxis\":\"y\"}],                        {\"coloraxis\":{\"colorbar\":{\"title\":{\"text\":\"Total Population\"}},\"colorscale\":[[0.0,\"#0d0887\"],[0.1111111111111111,\"#46039f\"],[0.2222222222222222,\"#7201a8\"],[0.3333333333333333,\"#9c179e\"],[0.4444444444444444,\"#bd3786\"],[0.5555555555555556,\"#d8576b\"],[0.6666666666666666,\"#ed7953\"],[0.7777777777777778,\"#fb9f3a\"],[0.8888888888888888,\"#fdca26\"],[1.0,\"#f0f921\"]]},\"legend\":{\"itemsizing\":\"constant\",\"tracegroupgap\":0},\"margin\":{\"t\":60},\"template\":{\"data\":{\"bar\":[{\"error_x\":{\"color\":\"#2a3f5f\"},\"error_y\":{\"color\":\"#2a3f5f\"},\"marker\":{\"line\":{\"color\":\"#E5ECF6\",\"width\":0.5},\"pattern\":{\"fillmode\":\"overlay\",\"size\":10,\"solidity\":0.2}},\"type\":\"bar\"}],\"barpolar\":[{\"marker\":{\"line\":{\"color\":\"#E5ECF6\",\"width\":0.5},\"pattern\":{\"fillmode\":\"overlay\",\"size\":10,\"solidity\":0.2}},\"type\":\"barpolar\"}],\"carpet\":[{\"aaxis\":{\"endlinecolor\":\"#2a3f5f\",\"gridcolor\":\"white\",\"linecolor\":\"white\",\"minorgridcolor\":\"white\",\"startlinecolor\":\"#2a3f5f\"},\"baxis\":{\"endlinecolor\":\"#2a3f5f\",\"gridcolor\":\"white\",\"linecolor\":\"white\",\"minorgridcolor\":\"white\",\"startlinecolor\":\"#2a3f5f\"},\"type\":\"carpet\"}],\"choropleth\":[{\"colorbar\":{\"outlinewidth\":0,\"ticks\":\"\"},\"type\":\"choropleth\"}],\"contour\":[{\"colorbar\":{\"outlinewidth\":0,\"ticks\":\"\"},\"colorscale\":[[0.0,\"#0d0887\"],[0.1111111111111111,\"#46039f\"],[0.2222222222222222,\"#7201a8\"],[0.3333333333333333,\"#9c179e\"],[0.4444444444444444,\"#bd3786\"],[0.5555555555555556,\"#d8576b\"],[0.6666666666666666,\"#ed7953\"],[0.7777777777777778,\"#fb9f3a\"],[0.8888888888888888,\"#fdca26\"],[1.0,\"#f0f921\"]],\"type\":\"contour\"}],\"contourcarpet\":[{\"colorbar\":{\"outlinewidth\":0,\"ticks\":\"\"},\"type\":\"contourcarpet\"}],\"heatmap\":[{\"colorbar\":{\"outlinewidth\":0,\"ticks\":\"\"},\"colorscale\":[[0.0,\"#0d0887\"],[0.1111111111111111,\"#46039f\"],[0.2222222222222222,\"#7201a8\"],[0.3333333333333333,\"#9c179e\"],[0.4444444444444444,\"#bd3786\"],[0.5555555555555556,\"#d8576b\"],[0.6666666666666666,\"#ed7953\"],[0.7777777777777778,\"#fb9f3a\"],[0.8888888888888888,\"#fdca26\"],[1.0,\"#f0f921\"]],\"type\":\"heatmap\"}],\"heatmapgl\":[{\"colorbar\":{\"outlinewidth\":0,\"ticks\":\"\"},\"colorscale\":[[0.0,\"#0d0887\"],[0.1111111111111111,\"#46039f\"],[0.2222222222222222,\"#7201a8\"],[0.3333333333333333,\"#9c179e\"],[0.4444444444444444,\"#bd3786\"],[0.5555555555555556,\"#d8576b\"],[0.6666666666666666,\"#ed7953\"],[0.7777777777777778,\"#fb9f3a\"],[0.8888888888888888,\"#fdca26\"],[1.0,\"#f0f921\"]],\"type\":\"heatmapgl\"}],\"histogram\":[{\"marker\":{\"pattern\":{\"fillmode\":\"overlay\",\"size\":10,\"solidity\":0.2}},\"type\":\"histogram\"}],\"histogram2d\":[{\"colorbar\":{\"outlinewidth\":0,\"ticks\":\"\"},\"colorscale\":[[0.0,\"#0d0887\"],[0.1111111111111111,\"#46039f\"],[0.2222222222222222,\"#7201a8\"],[0.3333333333333333,\"#9c179e\"],[0.4444444444444444,\"#bd3786\"],[0.5555555555555556,\"#d8576b\"],[0.6666666666666666,\"#ed7953\"],[0.7777777777777778,\"#fb9f3a\"],[0.8888888888888888,\"#fdca26\"],[1.0,\"#f0f921\"]],\"type\":\"histogram2d\"}],\"histogram2dcontour\":[{\"colorbar\":{\"outlinewidth\":0,\"ticks\":\"\"},\"colorscale\":[[0.0,\"#0d0887\"],[0.1111111111111111,\"#46039f\"],[0.2222222222222222,\"#7201a8\"],[0.3333333333333333,\"#9c179e\"],[0.4444444444444444,\"#bd3786\"],[0.5555555555555556,\"#d8576b\"],[0.6666666666666666,\"#ed7953\"],[0.7777777777777778,\"#fb9f3a\"],[0.8888888888888888,\"#fdca26\"],[1.0,\"#f0f921\"]],\"type\":\"histogram2dcontour\"}],\"mesh3d\":[{\"colorbar\":{\"outlinewidth\":0,\"ticks\":\"\"},\"type\":\"mesh3d\"}],\"parcoords\":[{\"line\":{\"colorbar\":{\"outlinewidth\":0,\"ticks\":\"\"}},\"type\":\"parcoords\"}],\"pie\":[{\"automargin\":true,\"type\":\"pie\"}],\"scatter\":[{\"marker\":{\"colorbar\":{\"outlinewidth\":0,\"ticks\":\"\"}},\"type\":\"scatter\"}],\"scatter3d\":[{\"line\":{\"colorbar\":{\"outlinewidth\":0,\"ticks\":\"\"}},\"marker\":{\"colorbar\":{\"outlinewidth\":0,\"ticks\":\"\"}},\"type\":\"scatter3d\"}],\"scattercarpet\":[{\"marker\":{\"colorbar\":{\"outlinewidth\":0,\"ticks\":\"\"}},\"type\":\"scattercarpet\"}],\"scattergeo\":[{\"marker\":{\"colorbar\":{\"outlinewidth\":0,\"ticks\":\"\"}},\"type\":\"scattergeo\"}],\"scattergl\":[{\"marker\":{\"colorbar\":{\"outlinewidth\":0,\"ticks\":\"\"}},\"type\":\"scattergl\"}],\"scattermapbox\":[{\"marker\":{\"colorbar\":{\"outlinewidth\":0,\"ticks\":\"\"}},\"type\":\"scattermapbox\"}],\"scatterpolar\":[{\"marker\":{\"colorbar\":{\"outlinewidth\":0,\"ticks\":\"\"}},\"type\":\"scatterpolar\"}],\"scatterpolargl\":[{\"marker\":{\"colorbar\":{\"outlinewidth\":0,\"ticks\":\"\"}},\"type\":\"scatterpolargl\"}],\"scatterternary\":[{\"marker\":{\"colorbar\":{\"outlinewidth\":0,\"ticks\":\"\"}},\"type\":\"scatterternary\"}],\"surface\":[{\"colorbar\":{\"outlinewidth\":0,\"ticks\":\"\"},\"colorscale\":[[0.0,\"#0d0887\"],[0.1111111111111111,\"#46039f\"],[0.2222222222222222,\"#7201a8\"],[0.3333333333333333,\"#9c179e\"],[0.4444444444444444,\"#bd3786\"],[0.5555555555555556,\"#d8576b\"],[0.6666666666666666,\"#ed7953\"],[0.7777777777777778,\"#fb9f3a\"],[0.8888888888888888,\"#fdca26\"],[1.0,\"#f0f921\"]],\"type\":\"surface\"}],\"table\":[{\"cells\":{\"fill\":{\"color\":\"#EBF0F8\"},\"line\":{\"color\":\"white\"}},\"header\":{\"fill\":{\"color\":\"#C8D4E3\"},\"line\":{\"color\":\"white\"}},\"type\":\"table\"}]},\"layout\":{\"annotationdefaults\":{\"arrowcolor\":\"#2a3f5f\",\"arrowhead\":0,\"arrowwidth\":1},\"autotypenumbers\":\"strict\",\"coloraxis\":{\"colorbar\":{\"outlinewidth\":0,\"ticks\":\"\"}},\"colorscale\":{\"diverging\":[[0,\"#8e0152\"],[0.1,\"#c51b7d\"],[0.2,\"#de77ae\"],[0.3,\"#f1b6da\"],[0.4,\"#fde0ef\"],[0.5,\"#f7f7f7\"],[0.6,\"#e6f5d0\"],[0.7,\"#b8e186\"],[0.8,\"#7fbc41\"],[0.9,\"#4d9221\"],[1,\"#276419\"]],\"sequential\":[[0.0,\"#0d0887\"],[0.1111111111111111,\"#46039f\"],[0.2222222222222222,\"#7201a8\"],[0.3333333333333333,\"#9c179e\"],[0.4444444444444444,\"#bd3786\"],[0.5555555555555556,\"#d8576b\"],[0.6666666666666666,\"#ed7953\"],[0.7777777777777778,\"#fb9f3a\"],[0.8888888888888888,\"#fdca26\"],[1.0,\"#f0f921\"]],\"sequentialminus\":[[0.0,\"#0d0887\"],[0.1111111111111111,\"#46039f\"],[0.2222222222222222,\"#7201a8\"],[0.3333333333333333,\"#9c179e\"],[0.4444444444444444,\"#bd3786\"],[0.5555555555555556,\"#d8576b\"],[0.6666666666666666,\"#ed7953\"],[0.7777777777777778,\"#fb9f3a\"],[0.8888888888888888,\"#fdca26\"],[1.0,\"#f0f921\"]]},\"colorway\":[\"#636efa\",\"#EF553B\",\"#00cc96\",\"#ab63fa\",\"#FFA15A\",\"#19d3f3\",\"#FF6692\",\"#B6E880\",\"#FF97FF\",\"#FECB52\"],\"font\":{\"color\":\"#2a3f5f\"},\"geo\":{\"bgcolor\":\"white\",\"lakecolor\":\"white\",\"landcolor\":\"#E5ECF6\",\"showlakes\":true,\"showland\":true,\"subunitcolor\":\"white\"},\"hoverlabel\":{\"align\":\"left\"},\"hovermode\":\"closest\",\"mapbox\":{\"style\":\"light\"},\"paper_bgcolor\":\"white\",\"plot_bgcolor\":\"#E5ECF6\",\"polar\":{\"angularaxis\":{\"gridcolor\":\"white\",\"linecolor\":\"white\",\"ticks\":\"\"},\"bgcolor\":\"#E5ECF6\",\"radialaxis\":{\"gridcolor\":\"white\",\"linecolor\":\"white\",\"ticks\":\"\"}},\"scene\":{\"xaxis\":{\"backgroundcolor\":\"#E5ECF6\",\"gridcolor\":\"white\",\"gridwidth\":2,\"linecolor\":\"white\",\"showbackground\":true,\"ticks\":\"\",\"zerolinecolor\":\"white\"},\"yaxis\":{\"backgroundcolor\":\"#E5ECF6\",\"gridcolor\":\"white\",\"gridwidth\":2,\"linecolor\":\"white\",\"showbackground\":true,\"ticks\":\"\",\"zerolinecolor\":\"white\"},\"zaxis\":{\"backgroundcolor\":\"#E5ECF6\",\"gridcolor\":\"white\",\"gridwidth\":2,\"linecolor\":\"white\",\"showbackground\":true,\"ticks\":\"\",\"zerolinecolor\":\"white\"}},\"shapedefaults\":{\"line\":{\"color\":\"#2a3f5f\"}},\"ternary\":{\"aaxis\":{\"gridcolor\":\"white\",\"linecolor\":\"white\",\"ticks\":\"\"},\"baxis\":{\"gridcolor\":\"white\",\"linecolor\":\"white\",\"ticks\":\"\"},\"bgcolor\":\"#E5ECF6\",\"caxis\":{\"gridcolor\":\"white\",\"linecolor\":\"white\",\"ticks\":\"\"}},\"title\":{\"x\":0.05},\"xaxis\":{\"automargin\":true,\"gridcolor\":\"white\",\"linecolor\":\"white\",\"ticks\":\"\",\"title\":{\"standoff\":15},\"zerolinecolor\":\"white\",\"zerolinewidth\":2},\"yaxis\":{\"automargin\":true,\"gridcolor\":\"white\",\"linecolor\":\"white\",\"ticks\":\"\",\"title\":{\"standoff\":15},\"zerolinecolor\":\"white\",\"zerolinewidth\":2}}},\"xaxis\":{\"anchor\":\"y\",\"domain\":[0.0,1.0],\"title\":{\"text\":\"Estimated Median Income\"},\"type\":\"log\"},\"yaxis\":{\"anchor\":\"x\",\"domain\":[0.0,1.0],\"title\":{\"text\":\"Community\"}}},                        {\"responsive\": true}                    )                };                            </script>        </div>\n",
       "</body>\n",
       "</html>"
      ],
      "text/plain": [
       "<IPython.core.display.HTML object>"
      ]
     },
     "execution_count": 14,
     "metadata": {},
     "output_type": "execute_result"
    }
   ],
   "source": [
    "fig = px.scatter(pop_top15, x=\"Estimated Median Income\", y=\"Community\",\n",
    "                 size=\"Total Population\", log_x=True, color=\"Total Population\")\n",
    "HTML(fig.to_html(include_plotlyjs='cdn'))\n",
    "#fig.show(renderer='notebook_connected')"
   ]
  },
  {
   "cell_type": "markdown",
   "metadata": {
    "collapsed": false,
    "pycharm": {
     "name": "#%% md\n"
    }
   },
   "source": [
    "In this graph the population determines the bubble size. So there are four\n",
    "areas that stand out:\n",
    "\n",
    "| City    | Population | Median Income |\n",
    "|---------|------------|--------|\n",
    "| Norwalk | 105,6K     | 70,7K       |\n",
    "| Lake View Terrace, Sylmar   |  91,7K          |  74K      |\n",
    "| La Puente, Valinda        |  85K          |   71,2K     |\n",
    "| Hansen Hills, Pacoima |  104K          |  64K      |\n",
    "\n",
    "These four cities / neighbourhoods seem to be suitable areas, based on\n",
    "their combination of population and median income. We are going to see, if\n",
    "this assumption is confirmed going forward."
   ]
  },
  {
   "cell_type": "markdown",
   "metadata": {
    "collapsed": false,
    "pycharm": {
     "name": "#%% md\n"
    }
   },
   "source": [
    "#### Clustering the dataset\n"
   ]
  },
  {
   "cell_type": "code",
   "execution_count": 15,
   "metadata": {
    "collapsed": false,
    "pycharm": {
     "name": "#%%\n"
    }
   },
   "outputs": [
    {
     "name": "stderr",
     "output_type": "stream",
     "text": [
      "<ipython-input-15-dc927ff3f295>:2: FutureWarning:\n",
      "\n",
      "In a future version of pandas all arguments of DataFrame.drop except for the argument 'labels' will be keyword-only\n",
      "\n"
     ]
    },
    {
     "data": {
      "text/html": [
       "<div>\n",
       "<style scoped>\n",
       "    .dataframe tbody tr th:only-of-type {\n",
       "        vertical-align: middle;\n",
       "    }\n",
       "\n",
       "    .dataframe tbody tr th {\n",
       "        vertical-align: top;\n",
       "    }\n",
       "\n",
       "    .dataframe thead th {\n",
       "        text-align: right;\n",
       "    }\n",
       "</style>\n",
       "<table border=\"1\" class=\"dataframe\">\n",
       "  <thead>\n",
       "    <tr style=\"text-align: right;\">\n",
       "      <th></th>\n",
       "      <th>Estimated Median Income</th>\n",
       "      <th>Total Population</th>\n",
       "      <th>Median Age</th>\n",
       "      <th>Total Households</th>\n",
       "      <th>Average Household Size</th>\n",
       "    </tr>\n",
       "  </thead>\n",
       "  <tbody>\n",
       "    <tr>\n",
       "      <th>1</th>\n",
       "      <td>43360.0</td>\n",
       "      <td>57110</td>\n",
       "      <td>26.6</td>\n",
       "      <td>12971</td>\n",
       "      <td>4.40</td>\n",
       "    </tr>\n",
       "    <tr>\n",
       "      <th>2</th>\n",
       "      <td>37285.0</td>\n",
       "      <td>51223</td>\n",
       "      <td>25.5</td>\n",
       "      <td>11731</td>\n",
       "      <td>4.36</td>\n",
       "    </tr>\n",
       "    <tr>\n",
       "      <th>3</th>\n",
       "      <td>40598.0</td>\n",
       "      <td>66266</td>\n",
       "      <td>26.3</td>\n",
       "      <td>15642</td>\n",
       "      <td>4.22</td>\n",
       "    </tr>\n",
       "    <tr>\n",
       "      <th>4</th>\n",
       "      <td>49675.0</td>\n",
       "      <td>62180</td>\n",
       "      <td>34.8</td>\n",
       "      <td>22547</td>\n",
       "      <td>2.73</td>\n",
       "    </tr>\n",
       "    <tr>\n",
       "      <th>5</th>\n",
       "      <td>38491.0</td>\n",
       "      <td>37681</td>\n",
       "      <td>33.9</td>\n",
       "      <td>15044</td>\n",
       "      <td>2.50</td>\n",
       "    </tr>\n",
       "  </tbody>\n",
       "</table>\n",
       "</div>"
      ],
      "text/plain": [
       "   Estimated Median Income  Total Population  Median Age  Total Households  \\\n",
       "1                  43360.0             57110        26.6             12971   \n",
       "2                  37285.0             51223        25.5             11731   \n",
       "3                  40598.0             66266        26.3             15642   \n",
       "4                  49675.0             62180        34.8             22547   \n",
       "5                  38491.0             37681        33.9             15044   \n",
       "\n",
       "   Average Household Size  \n",
       "1                    4.40  \n",
       "2                    4.36  \n",
       "3                    4.22  \n",
       "4                    2.73  \n",
       "5                    2.50  "
      ]
     },
     "execution_count": 15,
     "metadata": {},
     "output_type": "execute_result"
    }
   ],
   "source": [
    "from sklearn.cluster import KMeans\n",
    "grouped_clustering = final_ds.drop(['Zip Code', 'City', 'Community', 'Longitude', 'Latitude', 'Total Males',\n",
    "                                    'Total Females'], 1)\n",
    "grouped_clustering.head()"
   ]
  },
  {
   "cell_type": "markdown",
   "metadata": {
    "collapsed": false,
    "pycharm": {
     "name": "#%% md\n"
    }
   },
   "source": []
  },
  {
   "cell_type": "code",
   "execution_count": 16,
   "metadata": {
    "collapsed": false,
    "pycharm": {
     "name": "#%%\n"
    }
   },
   "outputs": [
    {
     "name": "stderr",
     "output_type": "stream",
     "text": [
      "C:\\Users\\schul\\miniconda3\\lib\\site-packages\\sklearn\\cluster\\_kmeans.py:881: UserWarning:\n",
      "\n",
      "KMeans is known to have a memory leak on Windows with MKL, when there are less chunks than available threads. You can avoid it by setting the environment variable OMP_NUM_THREADS=2.\n",
      "\n"
     ]
    }
   ],
   "source": [
    "sum_of_squared_distances = []\n",
    "K = range(1,15)\n",
    "for k in K:\n",
    "    kmeans = KMeans(n_clusters=k, init=\"k-means++\",\n",
    "                random_state=0).fit(grouped_clustering)\n",
    "    sum_of_squared_distances.append(kmeans.inertia_)\n",
    "\n",
    "#kmeans.labels_"
   ]
  },
  {
   "cell_type": "code",
   "execution_count": 17,
   "metadata": {
    "collapsed": false,
    "pycharm": {
     "name": "#%%\n"
    }
   },
   "outputs": [
    {
     "data": {
      "image/png": "[encoded data removed]",
      "text/plain": [
       "<Figure size 640x480 with 1 Axes>"
      ]
     },
     "metadata": {},
     "output_type": "display_data"
    }
   ],
   "source": [
    "import matplotlib.pyplot as plt\n",
    "plt.plot(K, sum_of_squared_distances, 'bx-')\n",
    "plt.xlabel('k')\n",
    "plt.ylabel('Sum_of_squared_distances')\n",
    "plt.title('Elbow Method For Optimal k')\n",
    "plt.show()"
   ]
  },
  {
   "cell_type": "markdown",
   "metadata": {
    "collapsed": false,
    "pycharm": {
     "name": "#%% md\n"
    }
   },
   "source": [
    "According to the elbow method I chose a k of 6 going forward.\n",
    "So let's do the clustering again with the determined k value.\n",
    "Then I will add the cluster labels to my dataset and print out a\n",
    "summarization of the created clusters."
   ]
  },
  {
   "cell_type": "code",
   "execution_count": 18,
   "metadata": {
    "collapsed": false,
    "pycharm": {
     "name": "#%%\n"
    }
   },
   "outputs": [],
   "source": [
    "# cluster with the determined K\n",
    "kmeans = KMeans(n_clusters=6, init=\"k-means++\",\n",
    "                random_state=0).fit(grouped_clustering)\n",
    "# add the labels to the dataset\n",
    "final_ds.insert(0, 'Cluster Label', kmeans.labels_)"
   ]
  },
  {
   "cell_type": "code",
   "execution_count": 19,
   "metadata": {
    "collapsed": false,
    "pycharm": {
     "name": "#%%\n"
    }
   },
   "outputs": [
    {
     "data": {
      "text/html": [
       "<div>\n",
       "<style scoped>\n",
       "    .dataframe tbody tr th:only-of-type {\n",
       "        vertical-align: middle;\n",
       "    }\n",
       "\n",
       "    .dataframe tbody tr th {\n",
       "        vertical-align: top;\n",
       "    }\n",
       "\n",
       "    .dataframe thead th {\n",
       "        text-align: right;\n",
       "    }\n",
       "</style>\n",
       "<table border=\"1\" class=\"dataframe\">\n",
       "  <thead>\n",
       "    <tr style=\"text-align: right;\">\n",
       "      <th></th>\n",
       "      <th>Zip Code</th>\n",
       "      <th>Estimated Median Income</th>\n",
       "      <th>Longitude</th>\n",
       "      <th>Latitude</th>\n",
       "      <th>Total Population</th>\n",
       "      <th>Median Age</th>\n",
       "      <th>Total Males</th>\n",
       "      <th>Total Females</th>\n",
       "      <th>Total Households</th>\n",
       "      <th>Average Household Size</th>\n",
       "    </tr>\n",
       "    <tr>\n",
       "      <th>Cluster Label</th>\n",
       "      <th></th>\n",
       "      <th></th>\n",
       "      <th></th>\n",
       "      <th></th>\n",
       "      <th></th>\n",
       "      <th></th>\n",
       "      <th></th>\n",
       "      <th></th>\n",
       "      <th></th>\n",
       "      <th></th>\n",
       "    </tr>\n",
       "  </thead>\n",
       "  <tbody>\n",
       "    <tr>\n",
       "      <th>0</th>\n",
       "      <td>90944.044444</td>\n",
       "      <td>51793.866667</td>\n",
       "      <td>-118.206034</td>\n",
       "      <td>34.081385</td>\n",
       "      <td>18356.955556</td>\n",
       "      <td>35.786667</td>\n",
       "      <td>9296.088889</td>\n",
       "      <td>9060.866667</td>\n",
       "      <td>6044.355556</td>\n",
       "      <td>2.850444</td>\n",
       "    </tr>\n",
       "    <tr>\n",
       "      <th>1</th>\n",
       "      <td>90624.000000</td>\n",
       "      <td>155063.444444</td>\n",
       "      <td>-118.425995</td>\n",
       "      <td>34.024770</td>\n",
       "      <td>17967.666667</td>\n",
       "      <td>43.838889</td>\n",
       "      <td>8777.833333</td>\n",
       "      <td>9189.833333</td>\n",
       "      <td>7020.722222</td>\n",
       "      <td>2.479444</td>\n",
       "    </tr>\n",
       "    <tr>\n",
       "      <th>2</th>\n",
       "      <td>90645.573770</td>\n",
       "      <td>52440.918033</td>\n",
       "      <td>-118.253427</td>\n",
       "      <td>34.038718</td>\n",
       "      <td>49920.491803</td>\n",
       "      <td>32.331148</td>\n",
       "      <td>24696.983607</td>\n",
       "      <td>25223.508197</td>\n",
       "      <td>15608.819672</td>\n",
       "      <td>3.248852</td>\n",
       "    </tr>\n",
       "    <tr>\n",
       "      <th>3</th>\n",
       "      <td>91028.756410</td>\n",
       "      <td>79091.974359</td>\n",
       "      <td>-118.215469</td>\n",
       "      <td>34.065151</td>\n",
       "      <td>29618.141026</td>\n",
       "      <td>38.174359</td>\n",
       "      <td>14394.820513</td>\n",
       "      <td>15223.320513</td>\n",
       "      <td>10698.910256</td>\n",
       "      <td>2.776026</td>\n",
       "    </tr>\n",
       "    <tr>\n",
       "      <th>4</th>\n",
       "      <td>90971.672727</td>\n",
       "      <td>105903.872727</td>\n",
       "      <td>-118.327527</td>\n",
       "      <td>34.099429</td>\n",
       "      <td>29382.745455</td>\n",
       "      <td>41.198182</td>\n",
       "      <td>14361.127273</td>\n",
       "      <td>15021.618182</td>\n",
       "      <td>11328.072727</td>\n",
       "      <td>2.540727</td>\n",
       "    </tr>\n",
       "    <tr>\n",
       "      <th>5</th>\n",
       "      <td>91153.090909</td>\n",
       "      <td>57912.863636</td>\n",
       "      <td>-118.190515</td>\n",
       "      <td>34.113848</td>\n",
       "      <td>83146.500000</td>\n",
       "      <td>30.468182</td>\n",
       "      <td>41257.500000</td>\n",
       "      <td>41889.000000</td>\n",
       "      <td>22069.545455</td>\n",
       "      <td>3.768182</td>\n",
       "    </tr>\n",
       "  </tbody>\n",
       "</table>\n",
       "</div>"
      ],
      "text/plain": [
       "                   Zip Code  Estimated Median Income   Longitude   Latitude  \\\n",
       "Cluster Label                                                                 \n",
       "0              90944.044444             51793.866667 -118.206034  34.081385   \n",
       "1              90624.000000            155063.444444 -118.425995  34.024770   \n",
       "2              90645.573770             52440.918033 -118.253427  34.038718   \n",
       "3              91028.756410             79091.974359 -118.215469  34.065151   \n",
       "4              90971.672727            105903.872727 -118.327527  34.099429   \n",
       "5              91153.090909             57912.863636 -118.190515  34.113848   \n",
       "\n",
       "               Total Population  Median Age   Total Males  Total Females  \\\n",
       "Cluster Label                                                              \n",
       "0                  18356.955556   35.786667   9296.088889    9060.866667   \n",
       "1                  17967.666667   43.838889   8777.833333    9189.833333   \n",
       "2                  49920.491803   32.331148  24696.983607   25223.508197   \n",
       "3                  29618.141026   38.174359  14394.820513   15223.320513   \n",
       "4                  29382.745455   41.198182  14361.127273   15021.618182   \n",
       "5                  83146.500000   30.468182  41257.500000   41889.000000   \n",
       "\n",
       "               Total Households  Average Household Size  \n",
       "Cluster Label                                            \n",
       "0                   6044.355556                2.850444  \n",
       "1                   7020.722222                2.479444  \n",
       "2                  15608.819672                3.248852  \n",
       "3                  10698.910256                2.776026  \n",
       "4                  11328.072727                2.540727  \n",
       "5                  22069.545455                3.768182  "
      ]
     },
     "execution_count": 19,
     "metadata": {},
     "output_type": "execute_result"
    }
   ],
   "source": [
    "# create a dataframe for the defined clusters\n",
    "cluster_df = final_ds.groupby('Cluster Label').mean()\n",
    "cluster_df"
   ]
  },
  {
   "cell_type": "markdown",
   "metadata": {
    "collapsed": false,
    "pycharm": {
     "name": "#%% md\n"
    }
   },
   "source": [
    "Let us clean this up a bit and add a new column, that will help us to chose\n",
    "a cluster going forward.\n"
   ]
  },
  {
   "cell_type": "code",
   "execution_count": 20,
   "metadata": {
    "collapsed": false,
    "pycharm": {
     "name": "#%%\n"
    }
   },
   "outputs": [
    {
     "name": "stderr",
     "output_type": "stream",
     "text": [
      "<ipython-input-20-ab34df8160b4>:5: SettingWithCopyWarning:\n",
      "\n",
      "\n",
      "A value is trying to be set on a copy of a slice from a DataFrame.\n",
      "Try using .loc[row_indexer,col_indexer] = value instead\n",
      "\n",
      "See the caveats in the documentation: https://pandas.pydata.org/pandas-docs/stable/user_guide/indexing.html#returning-a-view-versus-a-copy\n",
      "\n"
     ]
    },
    {
     "data": {
      "text/html": [
       "<div>\n",
       "<style scoped>\n",
       "    .dataframe tbody tr th:only-of-type {\n",
       "        vertical-align: middle;\n",
       "    }\n",
       "\n",
       "    .dataframe tbody tr th {\n",
       "        vertical-align: top;\n",
       "    }\n",
       "\n",
       "    .dataframe thead th {\n",
       "        text-align: right;\n",
       "    }\n",
       "</style>\n",
       "<table border=\"1\" class=\"dataframe\">\n",
       "  <thead>\n",
       "    <tr style=\"text-align: right;\">\n",
       "      <th></th>\n",
       "      <th>Estimated Median Income</th>\n",
       "      <th>Total Population</th>\n",
       "      <th>Median Age</th>\n",
       "      <th>Total Households</th>\n",
       "      <th>Average Household Size</th>\n",
       "      <th>Decision Factor</th>\n",
       "    </tr>\n",
       "    <tr>\n",
       "      <th>Cluster Label</th>\n",
       "      <th></th>\n",
       "      <th></th>\n",
       "      <th></th>\n",
       "      <th></th>\n",
       "      <th></th>\n",
       "      <th></th>\n",
       "    </tr>\n",
       "  </thead>\n",
       "  <tbody>\n",
       "    <tr>\n",
       "      <th>5</th>\n",
       "      <td>57912.86</td>\n",
       "      <td>83146.50</td>\n",
       "      <td>30.47</td>\n",
       "      <td>22069.55</td>\n",
       "      <td>3.77</td>\n",
       "      <td>57783.02</td>\n",
       "    </tr>\n",
       "    <tr>\n",
       "      <th>4</th>\n",
       "      <td>105903.87</td>\n",
       "      <td>29382.75</td>\n",
       "      <td>41.20</td>\n",
       "      <td>11328.07</td>\n",
       "      <td>2.54</td>\n",
       "      <td>37340.96</td>\n",
       "    </tr>\n",
       "    <tr>\n",
       "      <th>1</th>\n",
       "      <td>155063.44</td>\n",
       "      <td>17967.67</td>\n",
       "      <td>43.84</td>\n",
       "      <td>7020.72</td>\n",
       "      <td>2.48</td>\n",
       "      <td>33433.54</td>\n",
       "    </tr>\n",
       "    <tr>\n",
       "      <th>2</th>\n",
       "      <td>52440.92</td>\n",
       "      <td>49920.49</td>\n",
       "      <td>32.33</td>\n",
       "      <td>15608.82</td>\n",
       "      <td>3.25</td>\n",
       "      <td>31414.52</td>\n",
       "    </tr>\n",
       "    <tr>\n",
       "      <th>3</th>\n",
       "      <td>79091.97</td>\n",
       "      <td>29618.14</td>\n",
       "      <td>38.17</td>\n",
       "      <td>10698.91</td>\n",
       "      <td>2.78</td>\n",
       "      <td>28110.69</td>\n",
       "    </tr>\n",
       "    <tr>\n",
       "      <th>0</th>\n",
       "      <td>51793.87</td>\n",
       "      <td>18356.96</td>\n",
       "      <td>35.79</td>\n",
       "      <td>6044.36</td>\n",
       "      <td>2.85</td>\n",
       "      <td>11409.33</td>\n",
       "    </tr>\n",
       "  </tbody>\n",
       "</table>\n",
       "</div>"
      ],
      "text/plain": [
       "               Estimated Median Income  Total Population  Median Age  \\\n",
       "Cluster Label                                                          \n",
       "5                             57912.86          83146.50       30.47   \n",
       "4                            105903.87          29382.75       41.20   \n",
       "1                            155063.44          17967.67       43.84   \n",
       "2                             52440.92          49920.49       32.33   \n",
       "3                             79091.97          29618.14       38.17   \n",
       "0                             51793.87          18356.96       35.79   \n",
       "\n",
       "               Total Households  Average Household Size  Decision Factor  \n",
       "Cluster Label                                                             \n",
       "5                      22069.55                    3.77         57783.02  \n",
       "4                      11328.07                    2.54         37340.96  \n",
       "1                       7020.72                    2.48         33433.54  \n",
       "2                      15608.82                    3.25         31414.52  \n",
       "3                      10698.91                    2.78         28110.69  \n",
       "0                       6044.36                    2.85         11409.33  "
      ]
     },
     "execution_count": 20,
     "metadata": {},
     "output_type": "execute_result"
    }
   ],
   "source": [
    "clusters = cluster_df[['Estimated Median Income', 'Total Population',\n",
    "                       'Median Age', 'Total Households', 'Average Household '\n",
    "                                                         'Size']]\n",
    "\n",
    "clusters['Decision Factor'] = \\\n",
    "    ( ( clusters['Total Population'] * 1.2 ) *\n",
    "      clusters['Estimated Median Income']) / 100000\n",
    "clusters_r = clusters.round(2)\n",
    "clusters_r\n",
    "clusters_sorted = clusters_r.sort_values(by='Decision Factor', ascending=False)\n",
    "clusters_sorted"
   ]
  },
  {
   "cell_type": "markdown",
   "metadata": {
    "collapsed": false,
    "pycharm": {
     "name": "#%% md\n"
    }
   },
   "source": [
    "Looking at these clusters, they can be described as the following:\n",
    "\n",
    "| Name      | Income | Population | Age |\n",
    "|-----------|--------|------------|-----|\n",
    "| Cluster 4 | High      | Medium   | Older    |\n",
    "| Cluster 0 | Low       | Low      | Young    |\n",
    "| Cluster 1 | Very High | Low      | Older    |\n",
    "| Cluster 5 | Medium    | Very High| Very Young    |\n",
    "| Cluster 2 | Low       | High     | Very Young    |\n",
    "| Cluster 3 | High      | Medium   | Young    |\n",
    "\n",
    "So based on this information I am going to choose Cluster 5 for further\n",
    "evaluation and as the cluster where I will pick an area from. This cluster\n",
    "has a medium income combined with a very high population. It also contains\n",
    "the youngest median age, which also can be considered for choosing the\n",
    "food venue category."
   ]
  },
  {
   "cell_type": "code",
   "execution_count": 35,
   "metadata": {
    "collapsed": false,
    "pycharm": {
     "name": "#%%\n"
    }
   },
   "outputs": [
    {
     "data": {
      "text/plain": [
       "(22, 12)"
      ]
     },
     "execution_count": 35,
     "metadata": {},
     "output_type": "execute_result"
    }
   ],
   "source": [
    "cluster5 = final_ds.loc[final_ds['Cluster Label'] == 5, final_ds\n",
    "    .columns[[1] + list(range(2, final_ds.shape[1]))]]\n",
    "cluster5.shape"
   ]
  },
  {
   "cell_type": "markdown",
   "metadata": {
    "collapsed": false,
    "pycharm": {
     "name": "#%% md\n"
    }
   },
   "source": [
    "This cluster contains 22 areas in Los Angeles County, CA.\n",
    "We are going to have a look on them on the map using **Folium**."
   ]
  },
  {
   "cell_type": "code",
   "execution_count": 36,
   "metadata": {
    "collapsed": false,
    "pycharm": {
     "name": "#%%\n"
    }
   },
   "outputs": [],
   "source": [
    "from geopy.geocoders import Nominatim\n",
    "# initialize the map\n",
    "address = 'Los Angeles County, CA'\n",
    "geolocator = Nominatim(user_agent=\"la_explorer\")\n",
    "location = geolocator.geocode(address)\n",
    "latitude = location.latitude\n",
    "longitude = location.longitude"
   ]
  },
  {
   "cell_type": "code",
   "execution_count": 42,
   "metadata": {
    "collapsed": false,
    "pycharm": {
     "name": "#%%\n"
    }
   },
   "outputs": [],
   "source": [
    "import matplotlib.cm as cm\n",
    "import matplotlib.colors as colors\n",
    "import folium\n",
    "import numpy as np\n",
    "# create map\n",
    "map_clusters = folium.Map(location=[latitude, longitude], zoom_start=11)\n",
    "cluster5 = final_ds.loc[final_ds['Cluster Label'] == 5]\n",
    "# set color scheme for the clusters, 6 is our number of clusters\n",
    "x = np.arange(6)\n",
    "ys = [i + x + (i*x)**2 for i in range(6)]\n",
    "colors_array = cm.rainbow(np.linspace(0, 1, len(ys)))\n",
    "rainbow = [colors.rgb2hex(i) for i in colors_array]\n",
    "# add markers to the map\n",
    "markers_colors = []\n",
    "for lat, lon, poi, cluster in zip(cluster5['Latitude'],\n",
    "                                  cluster5['Longitude'],\n",
    "                                  cluster5['Zip Code'],\n",
    "                                  cluster5['Cluster Label']):\n",
    "    label = folium.Popup(str(poi) + ' Cluster ' + str(cluster), parse_html=True)\n",
    "    folium.CircleMarker(\n",
    "        [lat, lon],\n",
    "        radius=5,\n",
    "        popup=label,\n",
    "        color=rainbow[cluster],\n",
    "        fill=True,\n",
    "        fill_color=rainbow[cluster],\n",
    "        fill_opacity=0.7).add_to(map_clusters)\n",
    "\n",
    "#map_clusters"
   ]
  },
  {
   "cell_type": "code",
   "execution_count": 44,
   "metadata": {
    "collapsed": false,
    "pycharm": {
     "name": "#%%\n"
    }
   },
   "outputs": [
    {
     "data": {
      "image/png": "[encoded data removed]",
      "text/plain": [
       "<IPython.core.display.Image object>"
      ]
     },
     "execution_count": 44,
     "metadata": {},
     "output_type": "execute_result"
    }
   ],
   "source": [
    "from IPython.display import Image\n",
    "from pathlib import Path\n",
    "path = Path.cwd().joinpath('png').joinpath('2021-06-24-capstone.png')\n",
    "Image(filename=path)"
   ]
  },
  {
   "cell_type": "markdown",
   "metadata": {
    "collapsed": false,
    "pycharm": {
     "name": "#%% md\n"
    }
   },
   "source": [
    "As one can see, most of our areas in more densely populated areas and in the\n",
    " vicinity of the city of Los Angeles.\n",
    "Now let us add the \"decision factor\" again and calculate it for every single\n",
    " region in cluster 5."
   ]
  },
  {
   "cell_type": "code",
   "execution_count": 45,
   "metadata": {
    "collapsed": false,
    "pycharm": {
     "name": "#%%\n"
    }
   },
   "outputs": [
    {
     "name": "stderr",
     "output_type": "stream",
     "text": [
      "<ipython-input-45-58ad054c4b50>:1: SettingWithCopyWarning:\n",
      "\n",
      "\n",
      "A value is trying to be set on a copy of a slice from a DataFrame.\n",
      "Try using .loc[row_indexer,col_indexer] = value instead\n",
      "\n",
      "See the caveats in the documentation: https://pandas.pydata.org/pandas-docs/stable/user_guide/indexing.html#returning-a-view-versus-a-copy\n",
      "\n"
     ]
    },
    {
     "data": {
      "text/html": [
       "<div>\n",
       "<style scoped>\n",
       "    .dataframe tbody tr th:only-of-type {\n",
       "        vertical-align: middle;\n",
       "    }\n",
       "\n",
       "    .dataframe tbody tr th {\n",
       "        vertical-align: top;\n",
       "    }\n",
       "\n",
       "    .dataframe thead th {\n",
       "        text-align: right;\n",
       "    }\n",
       "</style>\n",
       "<table border=\"1\" class=\"dataframe\">\n",
       "  <thead>\n",
       "    <tr style=\"text-align: right;\">\n",
       "      <th></th>\n",
       "      <th>Cluster Label</th>\n",
       "      <th>Zip Code</th>\n",
       "      <th>City</th>\n",
       "      <th>Community</th>\n",
       "      <th>Estimated Median Income</th>\n",
       "      <th>Longitude</th>\n",
       "      <th>Latitude</th>\n",
       "      <th>Total Population</th>\n",
       "      <th>Median Age</th>\n",
       "      <th>Total Males</th>\n",
       "      <th>Total Females</th>\n",
       "      <th>Total Households</th>\n",
       "      <th>Average Household Size</th>\n",
       "      <th>Decision Factor</th>\n",
       "    </tr>\n",
       "  </thead>\n",
       "  <tbody>\n",
       "    <tr>\n",
       "      <th>132</th>\n",
       "      <td>5</td>\n",
       "      <td>90650</td>\n",
       "      <td>Norwalk</td>\n",
       "      <td>Norwalk</td>\n",
       "      <td>70667.0</td>\n",
       "      <td>-118.08</td>\n",
       "      <td>33.91</td>\n",
       "      <td>105549</td>\n",
       "      <td>32.5</td>\n",
       "      <td>52364</td>\n",
       "      <td>53185</td>\n",
       "      <td>27130</td>\n",
       "      <td>3.83</td>\n",
       "      <td>89505.97</td>\n",
       "    </tr>\n",
       "    <tr>\n",
       "      <th>214</th>\n",
       "      <td>5</td>\n",
       "      <td>91342</td>\n",
       "      <td>Sylmar</td>\n",
       "      <td>Los Angeles (Lake View Terrace, Sylmar), Kagel...</td>\n",
       "      <td>74050.0</td>\n",
       "      <td>-118.43</td>\n",
       "      <td>34.31</td>\n",
       "      <td>91725</td>\n",
       "      <td>31.9</td>\n",
       "      <td>45786</td>\n",
       "      <td>45939</td>\n",
       "      <td>23543</td>\n",
       "      <td>3.83</td>\n",
       "      <td>81506.84</td>\n",
       "    </tr>\n",
       "    <tr>\n",
       "      <th>211</th>\n",
       "      <td>5</td>\n",
       "      <td>91331</td>\n",
       "      <td>Pacoima</td>\n",
       "      <td>Los Angeles (Arleta, Hansen Hills, Pacoima)</td>\n",
       "      <td>63807.0</td>\n",
       "      <td>-118.42</td>\n",
       "      <td>34.25</td>\n",
       "      <td>103689</td>\n",
       "      <td>29.5</td>\n",
       "      <td>52358</td>\n",
       "      <td>51331</td>\n",
       "      <td>22465</td>\n",
       "      <td>4.60</td>\n",
       "      <td>79393.01</td>\n",
       "    </tr>\n",
       "    <tr>\n",
       "      <th>266</th>\n",
       "      <td>5</td>\n",
       "      <td>91744</td>\n",
       "      <td>La Puente</td>\n",
       "      <td>City of Industry, La Puente, Valinda</td>\n",
       "      <td>71243.0</td>\n",
       "      <td>-117.94</td>\n",
       "      <td>34.03</td>\n",
       "      <td>85040</td>\n",
       "      <td>30.9</td>\n",
       "      <td>42564</td>\n",
       "      <td>42476</td>\n",
       "      <td>18648</td>\n",
       "      <td>4.55</td>\n",
       "      <td>72702.06</td>\n",
       "    </tr>\n",
       "    <tr>\n",
       "      <th>309</th>\n",
       "      <td>5</td>\n",
       "      <td>93536</td>\n",
       "      <td>Lancaster</td>\n",
       "      <td>Del Sur, Fairmont, Lancaster, Metler Valley, N...</td>\n",
       "      <td>79990.0</td>\n",
       "      <td>-118.33</td>\n",
       "      <td>34.73</td>\n",
       "      <td>70918</td>\n",
       "      <td>34.4</td>\n",
       "      <td>37804</td>\n",
       "      <td>33114</td>\n",
       "      <td>20964</td>\n",
       "      <td>3.07</td>\n",
       "      <td>68072.77</td>\n",
       "    </tr>\n",
       "    <tr>\n",
       "      <th>129</th>\n",
       "      <td>5</td>\n",
       "      <td>90631</td>\n",
       "      <td>La Habra</td>\n",
       "      <td>La Habra Heights</td>\n",
       "      <td>83629.0</td>\n",
       "      <td>-117.95</td>\n",
       "      <td>33.93</td>\n",
       "      <td>67619</td>\n",
       "      <td>34.8</td>\n",
       "      <td>33320</td>\n",
       "      <td>34299</td>\n",
       "      <td>21452</td>\n",
       "      <td>3.13</td>\n",
       "      <td>67858.91</td>\n",
       "    </tr>\n",
       "    <tr>\n",
       "      <th>85</th>\n",
       "      <td>5</td>\n",
       "      <td>90250</td>\n",
       "      <td>Hawthorne</td>\n",
       "      <td>Hawthorne (Holly Park)</td>\n",
       "      <td>56304.0</td>\n",
       "      <td>-118.35</td>\n",
       "      <td>33.91</td>\n",
       "      <td>93193</td>\n",
       "      <td>31.9</td>\n",
       "      <td>45113</td>\n",
       "      <td>48080</td>\n",
       "      <td>31087</td>\n",
       "      <td>2.98</td>\n",
       "      <td>62965.66</td>\n",
       "    </tr>\n",
       "    <tr>\n",
       "      <th>254</th>\n",
       "      <td>5</td>\n",
       "      <td>91706</td>\n",
       "      <td>Baldwin Park</td>\n",
       "      <td>Baldwin Park, Irwindale</td>\n",
       "      <td>65755.0</td>\n",
       "      <td>-117.97</td>\n",
       "      <td>34.09</td>\n",
       "      <td>76571</td>\n",
       "      <td>30.5</td>\n",
       "      <td>37969</td>\n",
       "      <td>38602</td>\n",
       "      <td>17504</td>\n",
       "      <td>4.35</td>\n",
       "      <td>60419.11</td>\n",
       "    </tr>\n",
       "    <tr>\n",
       "      <th>99</th>\n",
       "      <td>5</td>\n",
       "      <td>90280</td>\n",
       "      <td>South Gate</td>\n",
       "      <td>South Gate</td>\n",
       "      <td>52321.0</td>\n",
       "      <td>-118.19</td>\n",
       "      <td>33.94</td>\n",
       "      <td>94396</td>\n",
       "      <td>29.4</td>\n",
       "      <td>46321</td>\n",
       "      <td>48075</td>\n",
       "      <td>23278</td>\n",
       "      <td>4.05</td>\n",
       "      <td>59266.72</td>\n",
       "    </tr>\n",
       "    <tr>\n",
       "      <th>158</th>\n",
       "      <td>5</td>\n",
       "      <td>90805</td>\n",
       "      <td>Long Beach</td>\n",
       "      <td>Long Beach (North Long Beach)</td>\n",
       "      <td>50914.0</td>\n",
       "      <td>-118.18</td>\n",
       "      <td>33.87</td>\n",
       "      <td>93524</td>\n",
       "      <td>29.0</td>\n",
       "      <td>45229</td>\n",
       "      <td>48295</td>\n",
       "      <td>26056</td>\n",
       "      <td>3.56</td>\n",
       "      <td>57140.17</td>\n",
       "    </tr>\n",
       "  </tbody>\n",
       "</table>\n",
       "</div>"
      ],
      "text/plain": [
       "     Cluster Label  Zip Code          City  \\\n",
       "132              5     90650       Norwalk   \n",
       "214              5     91342        Sylmar   \n",
       "211              5     91331       Pacoima   \n",
       "266              5     91744     La Puente   \n",
       "309              5     93536     Lancaster   \n",
       "129              5     90631      La Habra   \n",
       "85               5     90250     Hawthorne   \n",
       "254              5     91706  Baldwin Park   \n",
       "99               5     90280    South Gate   \n",
       "158              5     90805    Long Beach   \n",
       "\n",
       "                                             Community  \\\n",
       "132                                            Norwalk   \n",
       "214  Los Angeles (Lake View Terrace, Sylmar), Kagel...   \n",
       "211        Los Angeles (Arleta, Hansen Hills, Pacoima)   \n",
       "266               City of Industry, La Puente, Valinda   \n",
       "309  Del Sur, Fairmont, Lancaster, Metler Valley, N...   \n",
       "129                                   La Habra Heights   \n",
       "85                              Hawthorne (Holly Park)   \n",
       "254                            Baldwin Park, Irwindale   \n",
       "99                                          South Gate   \n",
       "158                      Long Beach (North Long Beach)   \n",
       "\n",
       "     Estimated Median Income  Longitude  Latitude  Total Population  \\\n",
       "132                  70667.0    -118.08     33.91            105549   \n",
       "214                  74050.0    -118.43     34.31             91725   \n",
       "211                  63807.0    -118.42     34.25            103689   \n",
       "266                  71243.0    -117.94     34.03             85040   \n",
       "309                  79990.0    -118.33     34.73             70918   \n",
       "129                  83629.0    -117.95     33.93             67619   \n",
       "85                   56304.0    -118.35     33.91             93193   \n",
       "254                  65755.0    -117.97     34.09             76571   \n",
       "99                   52321.0    -118.19     33.94             94396   \n",
       "158                  50914.0    -118.18     33.87             93524   \n",
       "\n",
       "     Median Age  Total Males  Total Females  Total Households  \\\n",
       "132        32.5        52364          53185             27130   \n",
       "214        31.9        45786          45939             23543   \n",
       "211        29.5        52358          51331             22465   \n",
       "266        30.9        42564          42476             18648   \n",
       "309        34.4        37804          33114             20964   \n",
       "129        34.8        33320          34299             21452   \n",
       "85         31.9        45113          48080             31087   \n",
       "254        30.5        37969          38602             17504   \n",
       "99         29.4        46321          48075             23278   \n",
       "158        29.0        45229          48295             26056   \n",
       "\n",
       "     Average Household Size  Decision Factor  \n",
       "132                    3.83         89505.97  \n",
       "214                    3.83         81506.84  \n",
       "211                    4.60         79393.01  \n",
       "266                    4.55         72702.06  \n",
       "309                    3.07         68072.77  \n",
       "129                    3.13         67858.91  \n",
       "85                     2.98         62965.66  \n",
       "254                    4.35         60419.11  \n",
       "99                     4.05         59266.72  \n",
       "158                    3.56         57140.17  "
      ]
     },
     "execution_count": 45,
     "metadata": {},
     "output_type": "execute_result"
    }
   ],
   "source": [
    "cluster5['Decision Factor'] = ( ( cluster5['Total Population'] * 1.2 ) *\n",
    "                                  cluster5['Estimated Median Income']) / 100000\n",
    "cluster5_r = cluster5.round(2)\n",
    "cluster5_sorted = cluster5_r.sort_values(by='Decision Factor', ascending=False)\n",
    "cluster5_sorted.head(10)"
   ]
  },
  {
   "cell_type": "code",
   "execution_count": 46,
   "metadata": {
    "collapsed": false,
    "pycharm": {
     "name": "#%%\n"
    }
   },
   "outputs": [
    {
     "data": {
      "text/html": [
       "<html>\n",
       "<head><meta charset=\"utf-8\" /></head>\n",
       "<body>\n",
       "    <div>                        <script type=\"text/javascript\">window.PlotlyConfig = {MathJaxConfig: 'local'};</script>\n",
       "        <script src=\"https://cdn.plot.ly/plotly-2.2.0.min.js\"></script>                <div id=\"692d1686-4364-4080-8a9c-39d7e4648cc0\" class=\"plotly-graph-div\" style=\"height:100%; width:100%;\"></div>            <script type=\"text/javascript\">                                    window.PLOTLYENV=window.PLOTLYENV || {};                                    if (document.getElementById(\"692d1686-4364-4080-8a9c-39d7e4648cc0\")) {                    Plotly.newPlot(                        \"692d1686-4364-4080-8a9c-39d7e4648cc0\",                        [{\"alignmentgroup\":\"True\",\"hovertemplate\":\"Decision Factor=%{x}<br>Community=%{y}<br>Average Household Size=%{marker.color}<extra></extra>\",\"legendgroup\":\"\",\"marker\":{\"color\":[3.83,3.83,4.6,4.55,3.07],\"coloraxis\":\"coloraxis\",\"pattern\":{\"shape\":\"\"}},\"name\":\"\",\"offsetgroup\":\"\",\"orientation\":\"h\",\"showlegend\":false,\"textposition\":\"auto\",\"type\":\"bar\",\"x\":[89505.97,81506.84,79393.01,72702.06,68072.77],\"xaxis\":\"x\",\"y\":[\"Norwalk\",\"Los Angeles (Lake View Terrace, Sylmar), Kagel Canyon\",\"Los Angeles (Arleta, Hansen Hills, Pacoima)\",\"City of Industry, La Puente, Valinda\",\"Del Sur, Fairmont, Lancaster, Metler Valley, Neenach, Quartz Hill\"],\"yaxis\":\"y\"}],                        {\"barmode\":\"relative\",\"coloraxis\":{\"colorbar\":{\"title\":{\"text\":\"Average Household Size\"}},\"colorscale\":[[0.0,\"#0d0887\"],[0.1111111111111111,\"#46039f\"],[0.2222222222222222,\"#7201a8\"],[0.3333333333333333,\"#9c179e\"],[0.4444444444444444,\"#bd3786\"],[0.5555555555555556,\"#d8576b\"],[0.6666666666666666,\"#ed7953\"],[0.7777777777777778,\"#fb9f3a\"],[0.8888888888888888,\"#fdca26\"],[1.0,\"#f0f921\"]]},\"legend\":{\"tracegroupgap\":0},\"margin\":{\"t\":60},\"template\":{\"data\":{\"bar\":[{\"error_x\":{\"color\":\"#2a3f5f\"},\"error_y\":{\"color\":\"#2a3f5f\"},\"marker\":{\"line\":{\"color\":\"#E5ECF6\",\"width\":0.5},\"pattern\":{\"fillmode\":\"overlay\",\"size\":10,\"solidity\":0.2}},\"type\":\"bar\"}],\"barpolar\":[{\"marker\":{\"line\":{\"color\":\"#E5ECF6\",\"width\":0.5},\"pattern\":{\"fillmode\":\"overlay\",\"size\":10,\"solidity\":0.2}},\"type\":\"barpolar\"}],\"carpet\":[{\"aaxis\":{\"endlinecolor\":\"#2a3f5f\",\"gridcolor\":\"white\",\"linecolor\":\"white\",\"minorgridcolor\":\"white\",\"startlinecolor\":\"#2a3f5f\"},\"baxis\":{\"endlinecolor\":\"#2a3f5f\",\"gridcolor\":\"white\",\"linecolor\":\"white\",\"minorgridcolor\":\"white\",\"startlinecolor\":\"#2a3f5f\"},\"type\":\"carpet\"}],\"choropleth\":[{\"colorbar\":{\"outlinewidth\":0,\"ticks\":\"\"},\"type\":\"choropleth\"}],\"contour\":[{\"colorbar\":{\"outlinewidth\":0,\"ticks\":\"\"},\"colorscale\":[[0.0,\"#0d0887\"],[0.1111111111111111,\"#46039f\"],[0.2222222222222222,\"#7201a8\"],[0.3333333333333333,\"#9c179e\"],[0.4444444444444444,\"#bd3786\"],[0.5555555555555556,\"#d8576b\"],[0.6666666666666666,\"#ed7953\"],[0.7777777777777778,\"#fb9f3a\"],[0.8888888888888888,\"#fdca26\"],[1.0,\"#f0f921\"]],\"type\":\"contour\"}],\"contourcarpet\":[{\"colorbar\":{\"outlinewidth\":0,\"ticks\":\"\"},\"type\":\"contourcarpet\"}],\"heatmap\":[{\"colorbar\":{\"outlinewidth\":0,\"ticks\":\"\"},\"colorscale\":[[0.0,\"#0d0887\"],[0.1111111111111111,\"#46039f\"],[0.2222222222222222,\"#7201a8\"],[0.3333333333333333,\"#9c179e\"],[0.4444444444444444,\"#bd3786\"],[0.5555555555555556,\"#d8576b\"],[0.6666666666666666,\"#ed7953\"],[0.7777777777777778,\"#fb9f3a\"],[0.8888888888888888,\"#fdca26\"],[1.0,\"#f0f921\"]],\"type\":\"heatmap\"}],\"heatmapgl\":[{\"colorbar\":{\"outlinewidth\":0,\"ticks\":\"\"},\"colorscale\":[[0.0,\"#0d0887\"],[0.1111111111111111,\"#46039f\"],[0.2222222222222222,\"#7201a8\"],[0.3333333333333333,\"#9c179e\"],[0.4444444444444444,\"#bd3786\"],[0.5555555555555556,\"#d8576b\"],[0.6666666666666666,\"#ed7953\"],[0.7777777777777778,\"#fb9f3a\"],[0.8888888888888888,\"#fdca26\"],[1.0,\"#f0f921\"]],\"type\":\"heatmapgl\"}],\"histogram\":[{\"marker\":{\"pattern\":{\"fillmode\":\"overlay\",\"size\":10,\"solidity\":0.2}},\"type\":\"histogram\"}],\"histogram2d\":[{\"colorbar\":{\"outlinewidth\":0,\"ticks\":\"\"},\"colorscale\":[[0.0,\"#0d0887\"],[0.1111111111111111,\"#46039f\"],[0.2222222222222222,\"#7201a8\"],[0.3333333333333333,\"#9c179e\"],[0.4444444444444444,\"#bd3786\"],[0.5555555555555556,\"#d8576b\"],[0.6666666666666666,\"#ed7953\"],[0.7777777777777778,\"#fb9f3a\"],[0.8888888888888888,\"#fdca26\"],[1.0,\"#f0f921\"]],\"type\":\"histogram2d\"}],\"histogram2dcontour\":[{\"colorbar\":{\"outlinewidth\":0,\"ticks\":\"\"},\"colorscale\":[[0.0,\"#0d0887\"],[0.1111111111111111,\"#46039f\"],[0.2222222222222222,\"#7201a8\"],[0.3333333333333333,\"#9c179e\"],[0.4444444444444444,\"#bd3786\"],[0.5555555555555556,\"#d8576b\"],[0.6666666666666666,\"#ed7953\"],[0.7777777777777778,\"#fb9f3a\"],[0.8888888888888888,\"#fdca26\"],[1.0,\"#f0f921\"]],\"type\":\"histogram2dcontour\"}],\"mesh3d\":[{\"colorbar\":{\"outlinewidth\":0,\"ticks\":\"\"},\"type\":\"mesh3d\"}],\"parcoords\":[{\"line\":{\"colorbar\":{\"outlinewidth\":0,\"ticks\":\"\"}},\"type\":\"parcoords\"}],\"pie\":[{\"automargin\":true,\"type\":\"pie\"}],\"scatter\":[{\"marker\":{\"colorbar\":{\"outlinewidth\":0,\"ticks\":\"\"}},\"type\":\"scatter\"}],\"scatter3d\":[{\"line\":{\"colorbar\":{\"outlinewidth\":0,\"ticks\":\"\"}},\"marker\":{\"colorbar\":{\"outlinewidth\":0,\"ticks\":\"\"}},\"type\":\"scatter3d\"}],\"scattercarpet\":[{\"marker\":{\"colorbar\":{\"outlinewidth\":0,\"ticks\":\"\"}},\"type\":\"scattercarpet\"}],\"scattergeo\":[{\"marker\":{\"colorbar\":{\"outlinewidth\":0,\"ticks\":\"\"}},\"type\":\"scattergeo\"}],\"scattergl\":[{\"marker\":{\"colorbar\":{\"outlinewidth\":0,\"ticks\":\"\"}},\"type\":\"scattergl\"}],\"scattermapbox\":[{\"marker\":{\"colorbar\":{\"outlinewidth\":0,\"ticks\":\"\"}},\"type\":\"scattermapbox\"}],\"scatterpolar\":[{\"marker\":{\"colorbar\":{\"outlinewidth\":0,\"ticks\":\"\"}},\"type\":\"scatterpolar\"}],\"scatterpolargl\":[{\"marker\":{\"colorbar\":{\"outlinewidth\":0,\"ticks\":\"\"}},\"type\":\"scatterpolargl\"}],\"scatterternary\":[{\"marker\":{\"colorbar\":{\"outlinewidth\":0,\"ticks\":\"\"}},\"type\":\"scatterternary\"}],\"surface\":[{\"colorbar\":{\"outlinewidth\":0,\"ticks\":\"\"},\"colorscale\":[[0.0,\"#0d0887\"],[0.1111111111111111,\"#46039f\"],[0.2222222222222222,\"#7201a8\"],[0.3333333333333333,\"#9c179e\"],[0.4444444444444444,\"#bd3786\"],[0.5555555555555556,\"#d8576b\"],[0.6666666666666666,\"#ed7953\"],[0.7777777777777778,\"#fb9f3a\"],[0.8888888888888888,\"#fdca26\"],[1.0,\"#f0f921\"]],\"type\":\"surface\"}],\"table\":[{\"cells\":{\"fill\":{\"color\":\"#EBF0F8\"},\"line\":{\"color\":\"white\"}},\"header\":{\"fill\":{\"color\":\"#C8D4E3\"},\"line\":{\"color\":\"white\"}},\"type\":\"table\"}]},\"layout\":{\"annotationdefaults\":{\"arrowcolor\":\"#2a3f5f\",\"arrowhead\":0,\"arrowwidth\":1},\"autotypenumbers\":\"strict\",\"coloraxis\":{\"colorbar\":{\"outlinewidth\":0,\"ticks\":\"\"}},\"colorscale\":{\"diverging\":[[0,\"#8e0152\"],[0.1,\"#c51b7d\"],[0.2,\"#de77ae\"],[0.3,\"#f1b6da\"],[0.4,\"#fde0ef\"],[0.5,\"#f7f7f7\"],[0.6,\"#e6f5d0\"],[0.7,\"#b8e186\"],[0.8,\"#7fbc41\"],[0.9,\"#4d9221\"],[1,\"#276419\"]],\"sequential\":[[0.0,\"#0d0887\"],[0.1111111111111111,\"#46039f\"],[0.2222222222222222,\"#7201a8\"],[0.3333333333333333,\"#9c179e\"],[0.4444444444444444,\"#bd3786\"],[0.5555555555555556,\"#d8576b\"],[0.6666666666666666,\"#ed7953\"],[0.7777777777777778,\"#fb9f3a\"],[0.8888888888888888,\"#fdca26\"],[1.0,\"#f0f921\"]],\"sequentialminus\":[[0.0,\"#0d0887\"],[0.1111111111111111,\"#46039f\"],[0.2222222222222222,\"#7201a8\"],[0.3333333333333333,\"#9c179e\"],[0.4444444444444444,\"#bd3786\"],[0.5555555555555556,\"#d8576b\"],[0.6666666666666666,\"#ed7953\"],[0.7777777777777778,\"#fb9f3a\"],[0.8888888888888888,\"#fdca26\"],[1.0,\"#f0f921\"]]},\"colorway\":[\"#636efa\",\"#EF553B\",\"#00cc96\",\"#ab63fa\",\"#FFA15A\",\"#19d3f3\",\"#FF6692\",\"#B6E880\",\"#FF97FF\",\"#FECB52\"],\"font\":{\"color\":\"#2a3f5f\"},\"geo\":{\"bgcolor\":\"white\",\"lakecolor\":\"white\",\"landcolor\":\"#E5ECF6\",\"showlakes\":true,\"showland\":true,\"subunitcolor\":\"white\"},\"hoverlabel\":{\"align\":\"left\"},\"hovermode\":\"closest\",\"mapbox\":{\"style\":\"light\"},\"paper_bgcolor\":\"white\",\"plot_bgcolor\":\"#E5ECF6\",\"polar\":{\"angularaxis\":{\"gridcolor\":\"white\",\"linecolor\":\"white\",\"ticks\":\"\"},\"bgcolor\":\"#E5ECF6\",\"radialaxis\":{\"gridcolor\":\"white\",\"linecolor\":\"white\",\"ticks\":\"\"}},\"scene\":{\"xaxis\":{\"backgroundcolor\":\"#E5ECF6\",\"gridcolor\":\"white\",\"gridwidth\":2,\"linecolor\":\"white\",\"showbackground\":true,\"ticks\":\"\",\"zerolinecolor\":\"white\"},\"yaxis\":{\"backgroundcolor\":\"#E5ECF6\",\"gridcolor\":\"white\",\"gridwidth\":2,\"linecolor\":\"white\",\"showbackground\":true,\"ticks\":\"\",\"zerolinecolor\":\"white\"},\"zaxis\":{\"backgroundcolor\":\"#E5ECF6\",\"gridcolor\":\"white\",\"gridwidth\":2,\"linecolor\":\"white\",\"showbackground\":true,\"ticks\":\"\",\"zerolinecolor\":\"white\"}},\"shapedefaults\":{\"line\":{\"color\":\"#2a3f5f\"}},\"ternary\":{\"aaxis\":{\"gridcolor\":\"white\",\"linecolor\":\"white\",\"ticks\":\"\"},\"baxis\":{\"gridcolor\":\"white\",\"linecolor\":\"white\",\"ticks\":\"\"},\"bgcolor\":\"#E5ECF6\",\"caxis\":{\"gridcolor\":\"white\",\"linecolor\":\"white\",\"ticks\":\"\"}},\"title\":{\"x\":0.05},\"xaxis\":{\"automargin\":true,\"gridcolor\":\"white\",\"linecolor\":\"white\",\"ticks\":\"\",\"title\":{\"standoff\":15},\"zerolinecolor\":\"white\",\"zerolinewidth\":2},\"yaxis\":{\"automargin\":true,\"gridcolor\":\"white\",\"linecolor\":\"white\",\"ticks\":\"\",\"title\":{\"standoff\":15},\"zerolinecolor\":\"white\",\"zerolinewidth\":2}}},\"xaxis\":{\"anchor\":\"y\",\"domain\":[0.0,1.0],\"title\":{\"text\":\"Decision Factor\"}},\"yaxis\":{\"anchor\":\"x\",\"domain\":[0.0,1.0],\"title\":{\"text\":\"Community\"}}},                        {\"responsive\": true}                    )                };                            </script>        </div>\n",
       "</body>\n",
       "</html>"
      ],
      "text/plain": [
       "<IPython.core.display.HTML object>"
      ]
     },
     "execution_count": 46,
     "metadata": {},
     "output_type": "execute_result"
    }
   ],
   "source": [
    "# draw the top 5 areas according to income and population\n",
    "cluster5_top5 = cluster5_sorted.iloc[0:5]\n",
    "fig = px.bar(cluster5_top5, x='Decision Factor', y='Community',\n",
    "             color='Average Household Size' )\n",
    "HTML(fig.to_html(include_plotlyjs='cdn'))\n",
    "#fig.show(renderer='notebook_connected')"
   ]
  },
  {
   "cell_type": "markdown",
   "metadata": {
    "collapsed": false,
    "pycharm": {
     "name": "#%% md\n"
    }
   },
   "source": [
    "So there are three areas that stand out:\n",
    "- Norwalk, with a population of 105,6k and an income of $70,6k; it has the\n",
    "oldest median age of the three communities and the largest population.\n",
    "- Lake View Terrace in Sylmar, with a population of 91,7k and an income of\n",
    "$74k; it has the highest income of the group and the lowest population.\n",
    "- Hansen Hills in Pacoima, with a population 104,7k and an income of $63,8k.\n",
    " It has the youngest median age of the three and is very close to Norwalk in\n",
    "  terms of population, but it has the lowest income.\n",
    "\n",
    "Looking back at the initial analysis we did for all areas in Los Angeles\n",
    "County, we find that these three areas were also part auf the group we\n",
    "found, based on their features. So through the clustering we could confirm our\n",
    "initial findings."
   ]
  },
  {
   "cell_type": "markdown",
   "metadata": {
    "collapsed": false,
    "pycharm": {
     "name": "#%% md\n"
    }
   },
   "source": [
    "#### Exploring local food venues"
   ]
  },
  {
   "cell_type": "markdown",
   "metadata": {
    "collapsed": false,
    "pycharm": {
     "name": "#%% md\n"
    }
   },
   "source": [
    "Using Foursquare, we are going to query the existing food venues in the\n",
    "three areas.\n",
    "\n",
    "We will use a radius of 4 kilometres around the center of every community.\n",
    "I will also use the city and zip code from the response to filter out\n",
    "results from Foursquare that actually do not belong to the city community we\n",
    " are exploring."
   ]
  },
  {
   "cell_type": "code",
   "execution_count": 47,
   "metadata": {
    "collapsed": false,
    "pycharm": {
     "name": "#%%\n"
    }
   },
   "outputs": [
    {
     "data": {
      "text/plain": [
       "Zip Code              364\n",
       "Community             364\n",
       "Zip Code Latitude     364\n",
       "Zip Code Longitude    364\n",
       "Venue                 364\n",
       "Venue Category        364\n",
       "City                  364\n",
       "PostalCode            364\n",
       "dtype: int64"
      ]
     },
     "execution_count": 47,
     "metadata": {},
     "output_type": "execute_result"
    }
   ],
   "source": [
    "import itertools\n",
    "top3 = cluster5_sorted.iloc[0:3]\n",
    "venues_list=[]\n",
    "# Get the local food venues for all 3 of our communities\n",
    "for _, record in top3.iterrows():\n",
    "    offset = 0\n",
    "    for _ in itertools.repeat(None, 4):\n",
    "        url = 'https://api.foursquare' \\\n",
    "              '.com/v2/venues/explore?&client_id={}&client_secret={}&v={}&ll={},' \\\n",
    "              '{}&radius={}&limit={}&offset={}&categoryId={}'.format(\n",
    "            CLIENT_ID, CLIENT_SECRET, VERSION, record['Latitude'],\n",
    "            record['Longitude'], 4000, 50, offset, '4d4b7105d754a06374d81259')\n",
    "        # increase the offset for the next run\n",
    "        offset += 50\n",
    "        # try to read the items from the Foursquare response and loop over them\n",
    "        try:\n",
    "            results = requests.get(url).json()[\"response\"]['groups'][0]['items']\n",
    "            for v in results:\n",
    "                # get the city name from the Foursquare response, if possible\n",
    "                try:\n",
    "                    city = v['venue']['location']['city']\n",
    "                except:\n",
    "                    city = str(record['City'])\n",
    "                # get the zip code from the Foursquare response, if possible\n",
    "                try:\n",
    "                    postalCode = str(v['venue']['location']['postalCode'])\n",
    "                except:\n",
    "                    postalCode = str(record['Zip Code'])\n",
    "\n",
    "                venues_list.append((record['Zip Code'], record['Community'],\n",
    "                                    record['Latitude'], record['Longitude'],\n",
    "                                    v['venue']['name'],\n",
    "                                    v['venue']['categories'][0]['name'],\n",
    "                                    city, postalCode))\n",
    "        except:\n",
    "            # there are no more results that Foursquare can deliver\n",
    "            break\n",
    "# create a dataframe from all venues we have found for all 3 areas\n",
    "nearby_venues = pd.DataFrame(venues_list, columns=['Zip Code', 'Community',\n",
    "              'Zip Code Latitude', 'Zip Code Longitude', 'Venue',\n",
    "              'Venue Category', 'City', 'PostalCode'])\n",
    "nearby_venues.count()"
   ]
  },
  {
   "cell_type": "code",
   "execution_count": 48,
   "metadata": {
    "collapsed": false,
    "pycharm": {
     "name": "#%%\n"
    }
   },
   "outputs": [
    {
     "data": {
      "text/plain": [
       "Zip Code              160\n",
       "Community             160\n",
       "Zip Code Latitude     160\n",
       "Zip Code Longitude    160\n",
       "Venue                 160\n",
       "Venue Category        160\n",
       "City                  160\n",
       "PostalCode            160\n",
       "dtype: int64"
      ]
     },
     "execution_count": 48,
     "metadata": {},
     "output_type": "execute_result"
    }
   ],
   "source": [
    "# only keep the records that belong to our 3 chosen cities\n",
    "venues_cleaned = nearby_venues.loc[\n",
    "                 nearby_venues['City'].isin(['Norwalk', 'Sylmar', 'Pacoima'])]\n",
    "venues_cleaned.count()"
   ]
  },
  {
   "cell_type": "markdown",
   "metadata": {
    "collapsed": false,
    "pycharm": {
     "name": "#%% md\n"
    }
   },
   "source": [
    "We found 160 food venues across all 3 areas.\n",
    "In the next step we will group the food venues by category and city.\n",
    "We can use the count of food venues per category to visualize the\n",
    "distribution across the communities."
   ]
  },
  {
   "cell_type": "code",
   "execution_count": 49,
   "metadata": {
    "collapsed": false,
    "pycharm": {
     "name": "#%%\n"
    }
   },
   "outputs": [
    {
     "data": {
      "text/html": [
       "<div>\n",
       "<style scoped>\n",
       "    .dataframe tbody tr th:only-of-type {\n",
       "        vertical-align: middle;\n",
       "    }\n",
       "\n",
       "    .dataframe tbody tr th {\n",
       "        vertical-align: top;\n",
       "    }\n",
       "\n",
       "    .dataframe thead th {\n",
       "        text-align: right;\n",
       "    }\n",
       "</style>\n",
       "<table border=\"1\" class=\"dataframe\">\n",
       "  <thead>\n",
       "    <tr style=\"text-align: right;\">\n",
       "      <th></th>\n",
       "      <th>City</th>\n",
       "      <th>Venue Category</th>\n",
       "      <th>Count</th>\n",
       "    </tr>\n",
       "  </thead>\n",
       "  <tbody>\n",
       "    <tr>\n",
       "      <th>44</th>\n",
       "      <td>Sylmar</td>\n",
       "      <td>Mexican Restaurant</td>\n",
       "      <td>12</td>\n",
       "    </tr>\n",
       "    <tr>\n",
       "      <th>45</th>\n",
       "      <td>Sylmar</td>\n",
       "      <td>Pizza Place</td>\n",
       "      <td>7</td>\n",
       "    </tr>\n",
       "    <tr>\n",
       "      <th>47</th>\n",
       "      <td>Sylmar</td>\n",
       "      <td>Sandwich Place</td>\n",
       "      <td>6</td>\n",
       "    </tr>\n",
       "    <tr>\n",
       "      <th>38</th>\n",
       "      <td>Sylmar</td>\n",
       "      <td>Chinese Restaurant</td>\n",
       "      <td>5</td>\n",
       "    </tr>\n",
       "    <tr>\n",
       "      <th>35</th>\n",
       "      <td>Sylmar</td>\n",
       "      <td>American Restaurant</td>\n",
       "      <td>3</td>\n",
       "    </tr>\n",
       "    <tr>\n",
       "      <th>43</th>\n",
       "      <td>Sylmar</td>\n",
       "      <td>Fried Chicken Joint</td>\n",
       "      <td>3</td>\n",
       "    </tr>\n",
       "    <tr>\n",
       "      <th>39</th>\n",
       "      <td>Sylmar</td>\n",
       "      <td>Donut Shop</td>\n",
       "      <td>2</td>\n",
       "    </tr>\n",
       "    <tr>\n",
       "      <th>40</th>\n",
       "      <td>Sylmar</td>\n",
       "      <td>Fast Food Restaurant</td>\n",
       "      <td>2</td>\n",
       "    </tr>\n",
       "    <tr>\n",
       "      <th>41</th>\n",
       "      <td>Sylmar</td>\n",
       "      <td>Food</td>\n",
       "      <td>2</td>\n",
       "    </tr>\n",
       "    <tr>\n",
       "      <th>36</th>\n",
       "      <td>Sylmar</td>\n",
       "      <td>Asian Restaurant</td>\n",
       "      <td>1</td>\n",
       "    </tr>\n",
       "    <tr>\n",
       "      <th>37</th>\n",
       "      <td>Sylmar</td>\n",
       "      <td>Breakfast Spot</td>\n",
       "      <td>1</td>\n",
       "    </tr>\n",
       "    <tr>\n",
       "      <th>42</th>\n",
       "      <td>Sylmar</td>\n",
       "      <td>Food Court</td>\n",
       "      <td>1</td>\n",
       "    </tr>\n",
       "    <tr>\n",
       "      <th>46</th>\n",
       "      <td>Sylmar</td>\n",
       "      <td>Restaurant</td>\n",
       "      <td>1</td>\n",
       "    </tr>\n",
       "    <tr>\n",
       "      <th>48</th>\n",
       "      <td>Sylmar</td>\n",
       "      <td>Seafood Restaurant</td>\n",
       "      <td>1</td>\n",
       "    </tr>\n",
       "    <tr>\n",
       "      <th>49</th>\n",
       "      <td>Sylmar</td>\n",
       "      <td>Snack Place</td>\n",
       "      <td>1</td>\n",
       "    </tr>\n",
       "    <tr>\n",
       "      <th>50</th>\n",
       "      <td>Sylmar</td>\n",
       "      <td>Sushi Restaurant</td>\n",
       "      <td>1</td>\n",
       "    </tr>\n",
       "    <tr>\n",
       "      <th>51</th>\n",
       "      <td>Sylmar</td>\n",
       "      <td>Taco Place</td>\n",
       "      <td>1</td>\n",
       "    </tr>\n",
       "    <tr>\n",
       "      <th>52</th>\n",
       "      <td>Sylmar</td>\n",
       "      <td>Thai Restaurant</td>\n",
       "      <td>1</td>\n",
       "    </tr>\n",
       "    <tr>\n",
       "      <th>28</th>\n",
       "      <td>Pacoima</td>\n",
       "      <td>Mexican Restaurant</td>\n",
       "      <td>9</td>\n",
       "    </tr>\n",
       "    <tr>\n",
       "      <th>25</th>\n",
       "      <td>Pacoima</td>\n",
       "      <td>Fast Food Restaurant</td>\n",
       "      <td>7</td>\n",
       "    </tr>\n",
       "    <tr>\n",
       "      <th>31</th>\n",
       "      <td>Pacoima</td>\n",
       "      <td>Sandwich Place</td>\n",
       "      <td>3</td>\n",
       "    </tr>\n",
       "    <tr>\n",
       "      <th>32</th>\n",
       "      <td>Pacoima</td>\n",
       "      <td>Taco Place</td>\n",
       "      <td>3</td>\n",
       "    </tr>\n",
       "    <tr>\n",
       "      <th>23</th>\n",
       "      <td>Pacoima</td>\n",
       "      <td>Burger Joint</td>\n",
       "      <td>2</td>\n",
       "    </tr>\n",
       "    <tr>\n",
       "      <th>30</th>\n",
       "      <td>Pacoima</td>\n",
       "      <td>Pizza Place</td>\n",
       "      <td>2</td>\n",
       "    </tr>\n",
       "    <tr>\n",
       "      <th>20</th>\n",
       "      <td>Pacoima</td>\n",
       "      <td>American Restaurant</td>\n",
       "      <td>1</td>\n",
       "    </tr>\n",
       "    <tr>\n",
       "      <th>21</th>\n",
       "      <td>Pacoima</td>\n",
       "      <td>BBQ Joint</td>\n",
       "      <td>1</td>\n",
       "    </tr>\n",
       "    <tr>\n",
       "      <th>22</th>\n",
       "      <td>Pacoima</td>\n",
       "      <td>Breakfast Spot</td>\n",
       "      <td>1</td>\n",
       "    </tr>\n",
       "    <tr>\n",
       "      <th>24</th>\n",
       "      <td>Pacoima</td>\n",
       "      <td>Chinese Restaurant</td>\n",
       "      <td>1</td>\n",
       "    </tr>\n",
       "    <tr>\n",
       "      <th>26</th>\n",
       "      <td>Pacoima</td>\n",
       "      <td>Food Court</td>\n",
       "      <td>1</td>\n",
       "    </tr>\n",
       "    <tr>\n",
       "      <th>27</th>\n",
       "      <td>Pacoima</td>\n",
       "      <td>Fried Chicken Joint</td>\n",
       "      <td>1</td>\n",
       "    </tr>\n",
       "    <tr>\n",
       "      <th>29</th>\n",
       "      <td>Pacoima</td>\n",
       "      <td>Middle Eastern Restaurant</td>\n",
       "      <td>1</td>\n",
       "    </tr>\n",
       "    <tr>\n",
       "      <th>33</th>\n",
       "      <td>Pacoima</td>\n",
       "      <td>Thai Restaurant</td>\n",
       "      <td>1</td>\n",
       "    </tr>\n",
       "    <tr>\n",
       "      <th>34</th>\n",
       "      <td>Pacoima</td>\n",
       "      <td>Wings Joint</td>\n",
       "      <td>1</td>\n",
       "    </tr>\n",
       "    <tr>\n",
       "      <th>7</th>\n",
       "      <td>Norwalk</td>\n",
       "      <td>Fast Food Restaurant</td>\n",
       "      <td>15</td>\n",
       "    </tr>\n",
       "    <tr>\n",
       "      <th>13</th>\n",
       "      <td>Norwalk</td>\n",
       "      <td>Mexican Restaurant</td>\n",
       "      <td>12</td>\n",
       "    </tr>\n",
       "    <tr>\n",
       "      <th>15</th>\n",
       "      <td>Norwalk</td>\n",
       "      <td>Sandwich Place</td>\n",
       "      <td>8</td>\n",
       "    </tr>\n",
       "    <tr>\n",
       "      <th>14</th>\n",
       "      <td>Norwalk</td>\n",
       "      <td>Pizza Place</td>\n",
       "      <td>7</td>\n",
       "    </tr>\n",
       "    <tr>\n",
       "      <th>5</th>\n",
       "      <td>Norwalk</td>\n",
       "      <td>Chinese Restaurant</td>\n",
       "      <td>5</td>\n",
       "    </tr>\n",
       "    <tr>\n",
       "      <th>6</th>\n",
       "      <td>Norwalk</td>\n",
       "      <td>Donut Shop</td>\n",
       "      <td>5</td>\n",
       "    </tr>\n",
       "    <tr>\n",
       "      <th>0</th>\n",
       "      <td>Norwalk</td>\n",
       "      <td>American Restaurant</td>\n",
       "      <td>4</td>\n",
       "    </tr>\n",
       "    <tr>\n",
       "      <th>1</th>\n",
       "      <td>Norwalk</td>\n",
       "      <td>Asian Restaurant</td>\n",
       "      <td>3</td>\n",
       "    </tr>\n",
       "    <tr>\n",
       "      <th>4</th>\n",
       "      <td>Norwalk</td>\n",
       "      <td>Burger Joint</td>\n",
       "      <td>3</td>\n",
       "    </tr>\n",
       "    <tr>\n",
       "      <th>11</th>\n",
       "      <td>Norwalk</td>\n",
       "      <td>Fried Chicken Joint</td>\n",
       "      <td>2</td>\n",
       "    </tr>\n",
       "    <tr>\n",
       "      <th>2</th>\n",
       "      <td>Norwalk</td>\n",
       "      <td>Bakery</td>\n",
       "      <td>1</td>\n",
       "    </tr>\n",
       "    <tr>\n",
       "      <th>3</th>\n",
       "      <td>Norwalk</td>\n",
       "      <td>Breakfast Spot</td>\n",
       "      <td>1</td>\n",
       "    </tr>\n",
       "    <tr>\n",
       "      <th>8</th>\n",
       "      <td>Norwalk</td>\n",
       "      <td>Food</td>\n",
       "      <td>1</td>\n",
       "    </tr>\n",
       "    <tr>\n",
       "      <th>9</th>\n",
       "      <td>Norwalk</td>\n",
       "      <td>Food Court</td>\n",
       "      <td>1</td>\n",
       "    </tr>\n",
       "    <tr>\n",
       "      <th>10</th>\n",
       "      <td>Norwalk</td>\n",
       "      <td>Food Truck</td>\n",
       "      <td>1</td>\n",
       "    </tr>\n",
       "    <tr>\n",
       "      <th>12</th>\n",
       "      <td>Norwalk</td>\n",
       "      <td>Korean Restaurant</td>\n",
       "      <td>1</td>\n",
       "    </tr>\n",
       "    <tr>\n",
       "      <th>16</th>\n",
       "      <td>Norwalk</td>\n",
       "      <td>Steakhouse</td>\n",
       "      <td>1</td>\n",
       "    </tr>\n",
       "    <tr>\n",
       "      <th>17</th>\n",
       "      <td>Norwalk</td>\n",
       "      <td>Sushi Restaurant</td>\n",
       "      <td>1</td>\n",
       "    </tr>\n",
       "    <tr>\n",
       "      <th>18</th>\n",
       "      <td>Norwalk</td>\n",
       "      <td>Taco Place</td>\n",
       "      <td>1</td>\n",
       "    </tr>\n",
       "    <tr>\n",
       "      <th>19</th>\n",
       "      <td>Norwalk</td>\n",
       "      <td>Thai Restaurant</td>\n",
       "      <td>1</td>\n",
       "    </tr>\n",
       "  </tbody>\n",
       "</table>\n",
       "</div>"
      ],
      "text/plain": [
       "       City             Venue Category  Count\n",
       "44   Sylmar         Mexican Restaurant     12\n",
       "45   Sylmar                Pizza Place      7\n",
       "47   Sylmar             Sandwich Place      6\n",
       "38   Sylmar         Chinese Restaurant      5\n",
       "35   Sylmar        American Restaurant      3\n",
       "43   Sylmar        Fried Chicken Joint      3\n",
       "39   Sylmar                 Donut Shop      2\n",
       "40   Sylmar       Fast Food Restaurant      2\n",
       "41   Sylmar                       Food      2\n",
       "36   Sylmar           Asian Restaurant      1\n",
       "37   Sylmar             Breakfast Spot      1\n",
       "42   Sylmar                 Food Court      1\n",
       "46   Sylmar                 Restaurant      1\n",
       "48   Sylmar         Seafood Restaurant      1\n",
       "49   Sylmar                Snack Place      1\n",
       "50   Sylmar           Sushi Restaurant      1\n",
       "51   Sylmar                 Taco Place      1\n",
       "52   Sylmar            Thai Restaurant      1\n",
       "28  Pacoima         Mexican Restaurant      9\n",
       "25  Pacoima       Fast Food Restaurant      7\n",
       "31  Pacoima             Sandwich Place      3\n",
       "32  Pacoima                 Taco Place      3\n",
       "23  Pacoima               Burger Joint      2\n",
       "30  Pacoima                Pizza Place      2\n",
       "20  Pacoima        American Restaurant      1\n",
       "21  Pacoima                  BBQ Joint      1\n",
       "22  Pacoima             Breakfast Spot      1\n",
       "24  Pacoima         Chinese Restaurant      1\n",
       "26  Pacoima                 Food Court      1\n",
       "27  Pacoima        Fried Chicken Joint      1\n",
       "29  Pacoima  Middle Eastern Restaurant      1\n",
       "33  Pacoima            Thai Restaurant      1\n",
       "34  Pacoima                Wings Joint      1\n",
       "7   Norwalk       Fast Food Restaurant     15\n",
       "13  Norwalk         Mexican Restaurant     12\n",
       "15  Norwalk             Sandwich Place      8\n",
       "14  Norwalk                Pizza Place      7\n",
       "5   Norwalk         Chinese Restaurant      5\n",
       "6   Norwalk                 Donut Shop      5\n",
       "0   Norwalk        American Restaurant      4\n",
       "1   Norwalk           Asian Restaurant      3\n",
       "4   Norwalk               Burger Joint      3\n",
       "11  Norwalk        Fried Chicken Joint      2\n",
       "2   Norwalk                     Bakery      1\n",
       "3   Norwalk             Breakfast Spot      1\n",
       "8   Norwalk                       Food      1\n",
       "9   Norwalk                 Food Court      1\n",
       "10  Norwalk                 Food Truck      1\n",
       "12  Norwalk          Korean Restaurant      1\n",
       "16  Norwalk                 Steakhouse      1\n",
       "17  Norwalk           Sushi Restaurant      1\n",
       "18  Norwalk                 Taco Place      1\n",
       "19  Norwalk            Thai Restaurant      1"
      ]
     },
     "execution_count": 49,
     "metadata": {},
     "output_type": "execute_result"
    }
   ],
   "source": [
    "# extract city name and food venue category\n",
    "categs = venues_cleaned[['City', 'Venue Category']]\n",
    "# count the number of restaurants per city and category\n",
    "categs_count = categs.groupby(['City', 'Venue Category']).size().to_frame(\n",
    "               'Count').reset_index()\n",
    "# sort the result by city and count\n",
    "categs_sorted = categs_count.sort_values(by=['City', 'Count'],\n",
    "                                         ascending=False)\n",
    "categs_sorted"
   ]
  },
  {
   "cell_type": "code",
   "execution_count": 50,
   "metadata": {
    "collapsed": false,
    "pycharm": {
     "name": "#%%\n"
    }
   },
   "outputs": [
    {
     "data": {
      "text/html": [
       "<html>\n",
       "<head><meta charset=\"utf-8\" /></head>\n",
       "<body>\n",
       "    <div>                        <script type=\"text/javascript\">window.PlotlyConfig = {MathJaxConfig: 'local'};</script>\n",
       "        <script src=\"https://cdn.plot.ly/plotly-2.2.0.min.js\"></script>                <div id=\"be791dcd-e994-467f-a9e8-289def702d05\" class=\"plotly-graph-div\" style=\"height:100%; width:100%;\"></div>            <script type=\"text/javascript\">                                    window.PLOTLYENV=window.PLOTLYENV || {};                                    if (document.getElementById(\"be791dcd-e994-467f-a9e8-289def702d05\")) {                    Plotly.newPlot(                        \"be791dcd-e994-467f-a9e8-289def702d05\",                        [{\"alignmentgroup\":\"True\",\"hovertemplate\":\"City=Sylmar<br>Count=%{x}<br>Venue Category=%{y}<extra></extra>\",\"legendgroup\":\"Sylmar\",\"marker\":{\"color\":\"#636efa\",\"pattern\":{\"shape\":\"\"}},\"name\":\"Sylmar\",\"offsetgroup\":\"Sylmar\",\"orientation\":\"h\",\"showlegend\":true,\"textposition\":\"auto\",\"type\":\"bar\",\"x\":[12,7,6,5,3,3,2,2,2],\"xaxis\":\"x\",\"y\":[\"Mexican Restaurant\",\"Pizza Place\",\"Sandwich Place\",\"Chinese Restaurant\",\"American Restaurant\",\"Fried Chicken Joint\",\"Donut Shop\",\"Fast Food Restaurant\",\"Food\"],\"yaxis\":\"y\"},{\"alignmentgroup\":\"True\",\"hovertemplate\":\"City=Pacoima<br>Count=%{x}<br>Venue Category=%{y}<extra></extra>\",\"legendgroup\":\"Pacoima\",\"marker\":{\"color\":\"#EF553B\",\"pattern\":{\"shape\":\"\"}},\"name\":\"Pacoima\",\"offsetgroup\":\"Pacoima\",\"orientation\":\"h\",\"showlegend\":true,\"textposition\":\"auto\",\"type\":\"bar\",\"x\":[9,7,3,3,2,2],\"xaxis\":\"x\",\"y\":[\"Mexican Restaurant\",\"Fast Food Restaurant\",\"Sandwich Place\",\"Taco Place\",\"Burger Joint\",\"Pizza Place\"],\"yaxis\":\"y\"},{\"alignmentgroup\":\"True\",\"hovertemplate\":\"City=Norwalk<br>Count=%{x}<br>Venue Category=%{y}<extra></extra>\",\"legendgroup\":\"Norwalk\",\"marker\":{\"color\":\"#00cc96\",\"pattern\":{\"shape\":\"\"}},\"name\":\"Norwalk\",\"offsetgroup\":\"Norwalk\",\"orientation\":\"h\",\"showlegend\":true,\"textposition\":\"auto\",\"type\":\"bar\",\"x\":[15,12,8,7,5,5,4,3,3,2],\"xaxis\":\"x\",\"y\":[\"Fast Food Restaurant\",\"Mexican Restaurant\",\"Sandwich Place\",\"Pizza Place\",\"Chinese Restaurant\",\"Donut Shop\",\"American Restaurant\",\"Asian Restaurant\",\"Burger Joint\",\"Fried Chicken Joint\"],\"yaxis\":\"y\"}],                        {\"barmode\":\"relative\",\"legend\":{\"title\":{\"text\":\"City\"},\"tracegroupgap\":0},\"template\":{\"data\":{\"bar\":[{\"error_x\":{\"color\":\"#2a3f5f\"},\"error_y\":{\"color\":\"#2a3f5f\"},\"marker\":{\"line\":{\"color\":\"#E5ECF6\",\"width\":0.5},\"pattern\":{\"fillmode\":\"overlay\",\"size\":10,\"solidity\":0.2}},\"type\":\"bar\"}],\"barpolar\":[{\"marker\":{\"line\":{\"color\":\"#E5ECF6\",\"width\":0.5},\"pattern\":{\"fillmode\":\"overlay\",\"size\":10,\"solidity\":0.2}},\"type\":\"barpolar\"}],\"carpet\":[{\"aaxis\":{\"endlinecolor\":\"#2a3f5f\",\"gridcolor\":\"white\",\"linecolor\":\"white\",\"minorgridcolor\":\"white\",\"startlinecolor\":\"#2a3f5f\"},\"baxis\":{\"endlinecolor\":\"#2a3f5f\",\"gridcolor\":\"white\",\"linecolor\":\"white\",\"minorgridcolor\":\"white\",\"startlinecolor\":\"#2a3f5f\"},\"type\":\"carpet\"}],\"choropleth\":[{\"colorbar\":{\"outlinewidth\":0,\"ticks\":\"\"},\"type\":\"choropleth\"}],\"contour\":[{\"colorbar\":{\"outlinewidth\":0,\"ticks\":\"\"},\"colorscale\":[[0.0,\"#0d0887\"],[0.1111111111111111,\"#46039f\"],[0.2222222222222222,\"#7201a8\"],[0.3333333333333333,\"#9c179e\"],[0.4444444444444444,\"#bd3786\"],[0.5555555555555556,\"#d8576b\"],[0.6666666666666666,\"#ed7953\"],[0.7777777777777778,\"#fb9f3a\"],[0.8888888888888888,\"#fdca26\"],[1.0,\"#f0f921\"]],\"type\":\"contour\"}],\"contourcarpet\":[{\"colorbar\":{\"outlinewidth\":0,\"ticks\":\"\"},\"type\":\"contourcarpet\"}],\"heatmap\":[{\"colorbar\":{\"outlinewidth\":0,\"ticks\":\"\"},\"colorscale\":[[0.0,\"#0d0887\"],[0.1111111111111111,\"#46039f\"],[0.2222222222222222,\"#7201a8\"],[0.3333333333333333,\"#9c179e\"],[0.4444444444444444,\"#bd3786\"],[0.5555555555555556,\"#d8576b\"],[0.6666666666666666,\"#ed7953\"],[0.7777777777777778,\"#fb9f3a\"],[0.8888888888888888,\"#fdca26\"],[1.0,\"#f0f921\"]],\"type\":\"heatmap\"}],\"heatmapgl\":[{\"colorbar\":{\"outlinewidth\":0,\"ticks\":\"\"},\"colorscale\":[[0.0,\"#0d0887\"],[0.1111111111111111,\"#46039f\"],[0.2222222222222222,\"#7201a8\"],[0.3333333333333333,\"#9c179e\"],[0.4444444444444444,\"#bd3786\"],[0.5555555555555556,\"#d8576b\"],[0.6666666666666666,\"#ed7953\"],[0.7777777777777778,\"#fb9f3a\"],[0.8888888888888888,\"#fdca26\"],[1.0,\"#f0f921\"]],\"type\":\"heatmapgl\"}],\"histogram\":[{\"marker\":{\"pattern\":{\"fillmode\":\"overlay\",\"size\":10,\"solidity\":0.2}},\"type\":\"histogram\"}],\"histogram2d\":[{\"colorbar\":{\"outlinewidth\":0,\"ticks\":\"\"},\"colorscale\":[[0.0,\"#0d0887\"],[0.1111111111111111,\"#46039f\"],[0.2222222222222222,\"#7201a8\"],[0.3333333333333333,\"#9c179e\"],[0.4444444444444444,\"#bd3786\"],[0.5555555555555556,\"#d8576b\"],[0.6666666666666666,\"#ed7953\"],[0.7777777777777778,\"#fb9f3a\"],[0.8888888888888888,\"#fdca26\"],[1.0,\"#f0f921\"]],\"type\":\"histogram2d\"}],\"histogram2dcontour\":[{\"colorbar\":{\"outlinewidth\":0,\"ticks\":\"\"},\"colorscale\":[[0.0,\"#0d0887\"],[0.1111111111111111,\"#46039f\"],[0.2222222222222222,\"#7201a8\"],[0.3333333333333333,\"#9c179e\"],[0.4444444444444444,\"#bd3786\"],[0.5555555555555556,\"#d8576b\"],[0.6666666666666666,\"#ed7953\"],[0.7777777777777778,\"#fb9f3a\"],[0.8888888888888888,\"#fdca26\"],[1.0,\"#f0f921\"]],\"type\":\"histogram2dcontour\"}],\"mesh3d\":[{\"colorbar\":{\"outlinewidth\":0,\"ticks\":\"\"},\"type\":\"mesh3d\"}],\"parcoords\":[{\"line\":{\"colorbar\":{\"outlinewidth\":0,\"ticks\":\"\"}},\"type\":\"parcoords\"}],\"pie\":[{\"automargin\":true,\"type\":\"pie\"}],\"scatter\":[{\"marker\":{\"colorbar\":{\"outlinewidth\":0,\"ticks\":\"\"}},\"type\":\"scatter\"}],\"scatter3d\":[{\"line\":{\"colorbar\":{\"outlinewidth\":0,\"ticks\":\"\"}},\"marker\":{\"colorbar\":{\"outlinewidth\":0,\"ticks\":\"\"}},\"type\":\"scatter3d\"}],\"scattercarpet\":[{\"marker\":{\"colorbar\":{\"outlinewidth\":0,\"ticks\":\"\"}},\"type\":\"scattercarpet\"}],\"scattergeo\":[{\"marker\":{\"colorbar\":{\"outlinewidth\":0,\"ticks\":\"\"}},\"type\":\"scattergeo\"}],\"scattergl\":[{\"marker\":{\"colorbar\":{\"outlinewidth\":0,\"ticks\":\"\"}},\"type\":\"scattergl\"}],\"scattermapbox\":[{\"marker\":{\"colorbar\":{\"outlinewidth\":0,\"ticks\":\"\"}},\"type\":\"scattermapbox\"}],\"scatterpolar\":[{\"marker\":{\"colorbar\":{\"outlinewidth\":0,\"ticks\":\"\"}},\"type\":\"scatterpolar\"}],\"scatterpolargl\":[{\"marker\":{\"colorbar\":{\"outlinewidth\":0,\"ticks\":\"\"}},\"type\":\"scatterpolargl\"}],\"scatterternary\":[{\"marker\":{\"colorbar\":{\"outlinewidth\":0,\"ticks\":\"\"}},\"type\":\"scatterternary\"}],\"surface\":[{\"colorbar\":{\"outlinewidth\":0,\"ticks\":\"\"},\"colorscale\":[[0.0,\"#0d0887\"],[0.1111111111111111,\"#46039f\"],[0.2222222222222222,\"#7201a8\"],[0.3333333333333333,\"#9c179e\"],[0.4444444444444444,\"#bd3786\"],[0.5555555555555556,\"#d8576b\"],[0.6666666666666666,\"#ed7953\"],[0.7777777777777778,\"#fb9f3a\"],[0.8888888888888888,\"#fdca26\"],[1.0,\"#f0f921\"]],\"type\":\"surface\"}],\"table\":[{\"cells\":{\"fill\":{\"color\":\"#EBF0F8\"},\"line\":{\"color\":\"white\"}},\"header\":{\"fill\":{\"color\":\"#C8D4E3\"},\"line\":{\"color\":\"white\"}},\"type\":\"table\"}]},\"layout\":{\"annotationdefaults\":{\"arrowcolor\":\"#2a3f5f\",\"arrowhead\":0,\"arrowwidth\":1},\"autotypenumbers\":\"strict\",\"coloraxis\":{\"colorbar\":{\"outlinewidth\":0,\"ticks\":\"\"}},\"colorscale\":{\"diverging\":[[0,\"#8e0152\"],[0.1,\"#c51b7d\"],[0.2,\"#de77ae\"],[0.3,\"#f1b6da\"],[0.4,\"#fde0ef\"],[0.5,\"#f7f7f7\"],[0.6,\"#e6f5d0\"],[0.7,\"#b8e186\"],[0.8,\"#7fbc41\"],[0.9,\"#4d9221\"],[1,\"#276419\"]],\"sequential\":[[0.0,\"#0d0887\"],[0.1111111111111111,\"#46039f\"],[0.2222222222222222,\"#7201a8\"],[0.3333333333333333,\"#9c179e\"],[0.4444444444444444,\"#bd3786\"],[0.5555555555555556,\"#d8576b\"],[0.6666666666666666,\"#ed7953\"],[0.7777777777777778,\"#fb9f3a\"],[0.8888888888888888,\"#fdca26\"],[1.0,\"#f0f921\"]],\"sequentialminus\":[[0.0,\"#0d0887\"],[0.1111111111111111,\"#46039f\"],[0.2222222222222222,\"#7201a8\"],[0.3333333333333333,\"#9c179e\"],[0.4444444444444444,\"#bd3786\"],[0.5555555555555556,\"#d8576b\"],[0.6666666666666666,\"#ed7953\"],[0.7777777777777778,\"#fb9f3a\"],[0.8888888888888888,\"#fdca26\"],[1.0,\"#f0f921\"]]},\"colorway\":[\"#636efa\",\"#EF553B\",\"#00cc96\",\"#ab63fa\",\"#FFA15A\",\"#19d3f3\",\"#FF6692\",\"#B6E880\",\"#FF97FF\",\"#FECB52\"],\"font\":{\"color\":\"#2a3f5f\"},\"geo\":{\"bgcolor\":\"white\",\"lakecolor\":\"white\",\"landcolor\":\"#E5ECF6\",\"showlakes\":true,\"showland\":true,\"subunitcolor\":\"white\"},\"hoverlabel\":{\"align\":\"left\"},\"hovermode\":\"closest\",\"mapbox\":{\"style\":\"light\"},\"paper_bgcolor\":\"white\",\"plot_bgcolor\":\"#E5ECF6\",\"polar\":{\"angularaxis\":{\"gridcolor\":\"white\",\"linecolor\":\"white\",\"ticks\":\"\"},\"bgcolor\":\"#E5ECF6\",\"radialaxis\":{\"gridcolor\":\"white\",\"linecolor\":\"white\",\"ticks\":\"\"}},\"scene\":{\"xaxis\":{\"backgroundcolor\":\"#E5ECF6\",\"gridcolor\":\"white\",\"gridwidth\":2,\"linecolor\":\"white\",\"showbackground\":true,\"ticks\":\"\",\"zerolinecolor\":\"white\"},\"yaxis\":{\"backgroundcolor\":\"#E5ECF6\",\"gridcolor\":\"white\",\"gridwidth\":2,\"linecolor\":\"white\",\"showbackground\":true,\"ticks\":\"\",\"zerolinecolor\":\"white\"},\"zaxis\":{\"backgroundcolor\":\"#E5ECF6\",\"gridcolor\":\"white\",\"gridwidth\":2,\"linecolor\":\"white\",\"showbackground\":true,\"ticks\":\"\",\"zerolinecolor\":\"white\"}},\"shapedefaults\":{\"line\":{\"color\":\"#2a3f5f\"}},\"ternary\":{\"aaxis\":{\"gridcolor\":\"white\",\"linecolor\":\"white\",\"ticks\":\"\"},\"baxis\":{\"gridcolor\":\"white\",\"linecolor\":\"white\",\"ticks\":\"\"},\"bgcolor\":\"#E5ECF6\",\"caxis\":{\"gridcolor\":\"white\",\"linecolor\":\"white\",\"ticks\":\"\"}},\"title\":{\"x\":0.05},\"xaxis\":{\"automargin\":true,\"gridcolor\":\"white\",\"linecolor\":\"white\",\"ticks\":\"\",\"title\":{\"standoff\":15},\"zerolinecolor\":\"white\",\"zerolinewidth\":2},\"yaxis\":{\"automargin\":true,\"gridcolor\":\"white\",\"linecolor\":\"white\",\"ticks\":\"\",\"title\":{\"standoff\":15},\"zerolinecolor\":\"white\",\"zerolinewidth\":2}}},\"title\":{\"text\":\"Combined Distribution of Food Venues\"},\"xaxis\":{\"anchor\":\"y\",\"domain\":[0.0,1.0],\"title\":{\"text\":\"Count\"}},\"yaxis\":{\"anchor\":\"x\",\"domain\":[0.0,1.0],\"title\":{\"text\":\"Venue Category\"}}},                        {\"responsive\": true}                    )                };                            </script>        </div>\n",
       "</body>\n",
       "</html>"
      ],
      "text/plain": [
       "<IPython.core.display.HTML object>"
      ]
     },
     "execution_count": 50,
     "metadata": {},
     "output_type": "execute_result"
    }
   ],
   "source": [
    "categs_graph = categs_sorted.loc[categs_sorted['Count'] > 1]\n",
    "\n",
    "fig = px.bar(categs_graph, y=\"Venue Category\",\n",
    "             x=\"Count\", title='Combined Distribution of Food Venues',\n",
    "             orientation='h', color = 'City'\n",
    "             )\n",
    "HTML(fig.to_html(include_plotlyjs='cdn'))\n",
    "#fig.show(renderer='notebook_connected')"
   ]
  },
  {
   "cell_type": "markdown",
   "metadata": {
    "collapsed": false,
    "pycharm": {
     "name": "#%% md\n"
    }
   },
   "source": [
    "Having a look at the distribution of food venues across the three areas, we\n",
    "can make the following observations:\n",
    "- Mexican restaurants are the most common food venue overall\n",
    "- Fast Food restaurants are the second most common venue, but Norwalk has by\n",
    " far the most\n",
    "- Pacoima has the least restaurants overall and Norwalk the most, despite\n",
    "both of them are very close in population\n",
    "- There seems to be space for a Chinese or American Restaurant or a Donut\n",
    "Shop in Pacoima\n",
    "- Even sandwich and pizza places are not very common in Pacoima\n",
    "- Opening another fast food restaurant or mexican restaurant does not seem\n",
    "like a good idea\n",
    "\n",
    "<br />\n",
    "Again, let us have a look on the most recommended food venues in the county\n",
    "for comparison:"
   ]
  },
  {
   "cell_type": "code",
   "execution_count": 51,
   "metadata": {
    "collapsed": false,
    "pycharm": {
     "name": "#%%\n"
    }
   },
   "outputs": [
    {
     "data": {
      "text/html": [
       "<html>\n",
       "<head><meta charset=\"utf-8\" /></head>\n",
       "<body>\n",
       "    <div>                        <script type=\"text/javascript\">window.PlotlyConfig = {MathJaxConfig: 'local'};</script>\n",
       "        <script src=\"https://cdn.plot.ly/plotly-2.2.0.min.js\"></script>                <div id=\"a763812c-1e2f-4f31-b281-fb6455515225\" class=\"plotly-graph-div\" style=\"height:100%; width:100%;\"></div>            <script type=\"text/javascript\">                                    window.PLOTLYENV=window.PLOTLYENV || {};                                    if (document.getElementById(\"a763812c-1e2f-4f31-b281-fb6455515225\")) {                    Plotly.newPlot(                        \"a763812c-1e2f-4f31-b281-fb6455515225\",                        [{\"alignmentgroup\":\"True\",\"hovertemplate\":\"Venue Category=%{x}<br>Count=%{y}<extra></extra>\",\"legendgroup\":\"\",\"marker\":{\"color\":\"#636efa\",\"pattern\":{\"shape\":\"\"}},\"name\":\"\",\"offsetgroup\":\"\",\"orientation\":\"v\",\"showlegend\":false,\"textposition\":\"auto\",\"type\":\"bar\",\"x\":[\"Mexican Restaurant\",\"Pizza Place\",\"Fast Food Restaurant\",\"Chinese Restaurant\",\"Bakery\",\"Sandwich Place\",\"American Restaurant\",\"Caf\\u00e9\",\"Burger Joint\",\"Sushi Restaurant\",\"Japanese Restaurant\",\"Italian Restaurant\",\"Food\",\"Food Truck\"],\"xaxis\":\"x\",\"y\":[833,575,501,417,347,342,316,304,264,261,235,222,221,220],\"yaxis\":\"y\"}],                        {\"barmode\":\"relative\",\"legend\":{\"tracegroupgap\":0},\"template\":{\"data\":{\"bar\":[{\"error_x\":{\"color\":\"#2a3f5f\"},\"error_y\":{\"color\":\"#2a3f5f\"},\"marker\":{\"line\":{\"color\":\"#E5ECF6\",\"width\":0.5},\"pattern\":{\"fillmode\":\"overlay\",\"size\":10,\"solidity\":0.2}},\"type\":\"bar\"}],\"barpolar\":[{\"marker\":{\"line\":{\"color\":\"#E5ECF6\",\"width\":0.5},\"pattern\":{\"fillmode\":\"overlay\",\"size\":10,\"solidity\":0.2}},\"type\":\"barpolar\"}],\"carpet\":[{\"aaxis\":{\"endlinecolor\":\"#2a3f5f\",\"gridcolor\":\"white\",\"linecolor\":\"white\",\"minorgridcolor\":\"white\",\"startlinecolor\":\"#2a3f5f\"},\"baxis\":{\"endlinecolor\":\"#2a3f5f\",\"gridcolor\":\"white\",\"linecolor\":\"white\",\"minorgridcolor\":\"white\",\"startlinecolor\":\"#2a3f5f\"},\"type\":\"carpet\"}],\"choropleth\":[{\"colorbar\":{\"outlinewidth\":0,\"ticks\":\"\"},\"type\":\"choropleth\"}],\"contour\":[{\"colorbar\":{\"outlinewidth\":0,\"ticks\":\"\"},\"colorscale\":[[0.0,\"#0d0887\"],[0.1111111111111111,\"#46039f\"],[0.2222222222222222,\"#7201a8\"],[0.3333333333333333,\"#9c179e\"],[0.4444444444444444,\"#bd3786\"],[0.5555555555555556,\"#d8576b\"],[0.6666666666666666,\"#ed7953\"],[0.7777777777777778,\"#fb9f3a\"],[0.8888888888888888,\"#fdca26\"],[1.0,\"#f0f921\"]],\"type\":\"contour\"}],\"contourcarpet\":[{\"colorbar\":{\"outlinewidth\":0,\"ticks\":\"\"},\"type\":\"contourcarpet\"}],\"heatmap\":[{\"colorbar\":{\"outlinewidth\":0,\"ticks\":\"\"},\"colorscale\":[[0.0,\"#0d0887\"],[0.1111111111111111,\"#46039f\"],[0.2222222222222222,\"#7201a8\"],[0.3333333333333333,\"#9c179e\"],[0.4444444444444444,\"#bd3786\"],[0.5555555555555556,\"#d8576b\"],[0.6666666666666666,\"#ed7953\"],[0.7777777777777778,\"#fb9f3a\"],[0.8888888888888888,\"#fdca26\"],[1.0,\"#f0f921\"]],\"type\":\"heatmap\"}],\"heatmapgl\":[{\"colorbar\":{\"outlinewidth\":0,\"ticks\":\"\"},\"colorscale\":[[0.0,\"#0d0887\"],[0.1111111111111111,\"#46039f\"],[0.2222222222222222,\"#7201a8\"],[0.3333333333333333,\"#9c179e\"],[0.4444444444444444,\"#bd3786\"],[0.5555555555555556,\"#d8576b\"],[0.6666666666666666,\"#ed7953\"],[0.7777777777777778,\"#fb9f3a\"],[0.8888888888888888,\"#fdca26\"],[1.0,\"#f0f921\"]],\"type\":\"heatmapgl\"}],\"histogram\":[{\"marker\":{\"pattern\":{\"fillmode\":\"overlay\",\"size\":10,\"solidity\":0.2}},\"type\":\"histogram\"}],\"histogram2d\":[{\"colorbar\":{\"outlinewidth\":0,\"ticks\":\"\"},\"colorscale\":[[0.0,\"#0d0887\"],[0.1111111111111111,\"#46039f\"],[0.2222222222222222,\"#7201a8\"],[0.3333333333333333,\"#9c179e\"],[0.4444444444444444,\"#bd3786\"],[0.5555555555555556,\"#d8576b\"],[0.6666666666666666,\"#ed7953\"],[0.7777777777777778,\"#fb9f3a\"],[0.8888888888888888,\"#fdca26\"],[1.0,\"#f0f921\"]],\"type\":\"histogram2d\"}],\"histogram2dcontour\":[{\"colorbar\":{\"outlinewidth\":0,\"ticks\":\"\"},\"colorscale\":[[0.0,\"#0d0887\"],[0.1111111111111111,\"#46039f\"],[0.2222222222222222,\"#7201a8\"],[0.3333333333333333,\"#9c179e\"],[0.4444444444444444,\"#bd3786\"],[0.5555555555555556,\"#d8576b\"],[0.6666666666666666,\"#ed7953\"],[0.7777777777777778,\"#fb9f3a\"],[0.8888888888888888,\"#fdca26\"],[1.0,\"#f0f921\"]],\"type\":\"histogram2dcontour\"}],\"mesh3d\":[{\"colorbar\":{\"outlinewidth\":0,\"ticks\":\"\"},\"type\":\"mesh3d\"}],\"parcoords\":[{\"line\":{\"colorbar\":{\"outlinewidth\":0,\"ticks\":\"\"}},\"type\":\"parcoords\"}],\"pie\":[{\"automargin\":true,\"type\":\"pie\"}],\"scatter\":[{\"marker\":{\"colorbar\":{\"outlinewidth\":0,\"ticks\":\"\"}},\"type\":\"scatter\"}],\"scatter3d\":[{\"line\":{\"colorbar\":{\"outlinewidth\":0,\"ticks\":\"\"}},\"marker\":{\"colorbar\":{\"outlinewidth\":0,\"ticks\":\"\"}},\"type\":\"scatter3d\"}],\"scattercarpet\":[{\"marker\":{\"colorbar\":{\"outlinewidth\":0,\"ticks\":\"\"}},\"type\":\"scattercarpet\"}],\"scattergeo\":[{\"marker\":{\"colorbar\":{\"outlinewidth\":0,\"ticks\":\"\"}},\"type\":\"scattergeo\"}],\"scattergl\":[{\"marker\":{\"colorbar\":{\"outlinewidth\":0,\"ticks\":\"\"}},\"type\":\"scattergl\"}],\"scattermapbox\":[{\"marker\":{\"colorbar\":{\"outlinewidth\":0,\"ticks\":\"\"}},\"type\":\"scattermapbox\"}],\"scatterpolar\":[{\"marker\":{\"colorbar\":{\"outlinewidth\":0,\"ticks\":\"\"}},\"type\":\"scatterpolar\"}],\"scatterpolargl\":[{\"marker\":{\"colorbar\":{\"outlinewidth\":0,\"ticks\":\"\"}},\"type\":\"scatterpolargl\"}],\"scatterternary\":[{\"marker\":{\"colorbar\":{\"outlinewidth\":0,\"ticks\":\"\"}},\"type\":\"scatterternary\"}],\"surface\":[{\"colorbar\":{\"outlinewidth\":0,\"ticks\":\"\"},\"colorscale\":[[0.0,\"#0d0887\"],[0.1111111111111111,\"#46039f\"],[0.2222222222222222,\"#7201a8\"],[0.3333333333333333,\"#9c179e\"],[0.4444444444444444,\"#bd3786\"],[0.5555555555555556,\"#d8576b\"],[0.6666666666666666,\"#ed7953\"],[0.7777777777777778,\"#fb9f3a\"],[0.8888888888888888,\"#fdca26\"],[1.0,\"#f0f921\"]],\"type\":\"surface\"}],\"table\":[{\"cells\":{\"fill\":{\"color\":\"#EBF0F8\"},\"line\":{\"color\":\"white\"}},\"header\":{\"fill\":{\"color\":\"#C8D4E3\"},\"line\":{\"color\":\"white\"}},\"type\":\"table\"}]},\"layout\":{\"annotationdefaults\":{\"arrowcolor\":\"#2a3f5f\",\"arrowhead\":0,\"arrowwidth\":1},\"autotypenumbers\":\"strict\",\"coloraxis\":{\"colorbar\":{\"outlinewidth\":0,\"ticks\":\"\"}},\"colorscale\":{\"diverging\":[[0,\"#8e0152\"],[0.1,\"#c51b7d\"],[0.2,\"#de77ae\"],[0.3,\"#f1b6da\"],[0.4,\"#fde0ef\"],[0.5,\"#f7f7f7\"],[0.6,\"#e6f5d0\"],[0.7,\"#b8e186\"],[0.8,\"#7fbc41\"],[0.9,\"#4d9221\"],[1,\"#276419\"]],\"sequential\":[[0.0,\"#0d0887\"],[0.1111111111111111,\"#46039f\"],[0.2222222222222222,\"#7201a8\"],[0.3333333333333333,\"#9c179e\"],[0.4444444444444444,\"#bd3786\"],[0.5555555555555556,\"#d8576b\"],[0.6666666666666666,\"#ed7953\"],[0.7777777777777778,\"#fb9f3a\"],[0.8888888888888888,\"#fdca26\"],[1.0,\"#f0f921\"]],\"sequentialminus\":[[0.0,\"#0d0887\"],[0.1111111111111111,\"#46039f\"],[0.2222222222222222,\"#7201a8\"],[0.3333333333333333,\"#9c179e\"],[0.4444444444444444,\"#bd3786\"],[0.5555555555555556,\"#d8576b\"],[0.6666666666666666,\"#ed7953\"],[0.7777777777777778,\"#fb9f3a\"],[0.8888888888888888,\"#fdca26\"],[1.0,\"#f0f921\"]]},\"colorway\":[\"#636efa\",\"#EF553B\",\"#00cc96\",\"#ab63fa\",\"#FFA15A\",\"#19d3f3\",\"#FF6692\",\"#B6E880\",\"#FF97FF\",\"#FECB52\"],\"font\":{\"color\":\"#2a3f5f\"},\"geo\":{\"bgcolor\":\"white\",\"lakecolor\":\"white\",\"landcolor\":\"#E5ECF6\",\"showlakes\":true,\"showland\":true,\"subunitcolor\":\"white\"},\"hoverlabel\":{\"align\":\"left\"},\"hovermode\":\"closest\",\"mapbox\":{\"style\":\"light\"},\"paper_bgcolor\":\"white\",\"plot_bgcolor\":\"#E5ECF6\",\"polar\":{\"angularaxis\":{\"gridcolor\":\"white\",\"linecolor\":\"white\",\"ticks\":\"\"},\"bgcolor\":\"#E5ECF6\",\"radialaxis\":{\"gridcolor\":\"white\",\"linecolor\":\"white\",\"ticks\":\"\"}},\"scene\":{\"xaxis\":{\"backgroundcolor\":\"#E5ECF6\",\"gridcolor\":\"white\",\"gridwidth\":2,\"linecolor\":\"white\",\"showbackground\":true,\"ticks\":\"\",\"zerolinecolor\":\"white\"},\"yaxis\":{\"backgroundcolor\":\"#E5ECF6\",\"gridcolor\":\"white\",\"gridwidth\":2,\"linecolor\":\"white\",\"showbackground\":true,\"ticks\":\"\",\"zerolinecolor\":\"white\"},\"zaxis\":{\"backgroundcolor\":\"#E5ECF6\",\"gridcolor\":\"white\",\"gridwidth\":2,\"linecolor\":\"white\",\"showbackground\":true,\"ticks\":\"\",\"zerolinecolor\":\"white\"}},\"shapedefaults\":{\"line\":{\"color\":\"#2a3f5f\"}},\"ternary\":{\"aaxis\":{\"gridcolor\":\"white\",\"linecolor\":\"white\",\"ticks\":\"\"},\"baxis\":{\"gridcolor\":\"white\",\"linecolor\":\"white\",\"ticks\":\"\"},\"bgcolor\":\"#E5ECF6\",\"caxis\":{\"gridcolor\":\"white\",\"linecolor\":\"white\",\"ticks\":\"\"}},\"title\":{\"x\":0.05},\"xaxis\":{\"automargin\":true,\"gridcolor\":\"white\",\"linecolor\":\"white\",\"ticks\":\"\",\"title\":{\"standoff\":15},\"zerolinecolor\":\"white\",\"zerolinewidth\":2},\"yaxis\":{\"automargin\":true,\"gridcolor\":\"white\",\"linecolor\":\"white\",\"ticks\":\"\",\"title\":{\"standoff\":15},\"zerolinecolor\":\"white\",\"zerolinewidth\":2}}},\"title\":{\"text\":\"Distribution of recommended food venue categories\"},\"xaxis\":{\"anchor\":\"y\",\"domain\":[0.0,1.0],\"title\":{\"text\":\"Venue Category\"}},\"yaxis\":{\"anchor\":\"x\",\"domain\":[0.0,1.0],\"title\":{\"text\":\"Count\"}}},                        {\"responsive\": true}                    )                };                            </script>        </div>\n",
       "</body>\n",
       "</html>"
      ],
      "text/plain": [
       "<IPython.core.display.HTML object>"
      ]
     },
     "execution_count": 51,
     "metadata": {},
     "output_type": "execute_result"
    }
   ],
   "source": [
    "top15 = sorted.iloc[0:14]\n",
    "fig = px.bar(top15, x=\"Venue Category\", y=\"Count\",\n",
    "             title='Distribution of recommended food venue categories')\n",
    "#fig.show(renderer='notebook_connected')\n",
    "HTML(fig.to_html(include_plotlyjs='cdn'))"
   ]
  },
  {
   "cell_type": "markdown",
   "metadata": {
    "collapsed": false,
    "pycharm": {
     "name": "#%% md\n"
    }
   },
   "source": [
    "#### Choosing a restaurant to open\n",
    "- Bakeries are the fith most recommended venue category, but there is\n",
    "currently a maximum of 1 per area. So this could be a good option in any of\n",
    "the three communities.\n",
    "- Mexican and fast food restaurants are already very common and should not\n",
    "be chosen\n",
    "- There is an opportunity for a pizza place or a chinese resaturant in Pacoima\n",
    "- Pacoima in general has few food venues. Looking at the median income, any\n",
    "low price food venues could be a good opportunity.\n",
    "- Norwalk would be the best option according to population and income, but\n",
    "it is already very crowded with restaurants. A bakery seems to be the best\n",
    "option there.\n",
    "\n",
    "There are also multiple options for sushi restaurants, burger joints,\n",
    "japanese or thai restaurants in all three areas. Overall not looking bad!"
   ]
  },
  {
   "cell_type": "markdown",
   "metadata": {
    "collapsed": false,
    "pycharm": {
     "name": "#%% md\n"
    }
   },
   "source": [
    "## Results and Discussion <a name=\"results\"></a>\n"
   ]
  },
  {
   "cell_type": "markdown",
   "metadata": {
    "collapsed": false,
    "pycharm": {
     "name": "#%% md\n"
    }
   },
   "source": [
    "Our analysis shows that there is a high variability in population, income\n",
    "and median age in the different areas of Los Angeles County, CA. So it was\n",
    "possible to identify multiple areas that fit the criteria of a relatively high\n",
    "median income and a high population. Using census and income data of all\n",
    "areas in Los Angeles County, we did a clustering to identify similar areas.\n",
    "By analysing the formed clusters there have been three areas identified\n",
    "that fit the criteria best. Norwalk, Lake View Terrace in Sylmar and Hansen\n",
    "Hills in Pacoima.\n",
    "\n",
    "They are slightly different in income, population and age and also very\n",
    "  different in their local distribution of available food venues. The final\n",
    "  area could be picked on which of these factors matters to the stakeholders\n",
    "   most. I will pick Norwalk as the final area for a food venue, because it\n",
    "    offers the best combination of a high population and a good income out\n",
    "    of these three areas.\n",
    "\n",
    "By analysing the most recommended food venue categories across the whole\n",
    "county, we found that mexican restaurants are by far the most often\n",
    "recommended venue. After them pizza places, fast food restaurants,\n",
    "chinese restaurants and bakeries follow in that order. To give a\n",
    "recommendation for a food venue to open in Norwalk, we can compare the local\n",
    " distribution of food venues what was recommended the most in the county. By\n",
    "  looking at Norwalk we found that there are already many mexican\n",
    "  restaurants (12) and fast food restaurants (15). Pizza places (7) and\n",
    "  chinese restaurants (5) area also recommended in a higher number, so\n",
    "  opening a restaurant in one of those categories would be better, but there\n",
    "   is still some competition. What stands out is that there is currently\n",
    "   only one bakery recommended by Foursquare in Norwalk. Looking at the\n",
    "   distribution of recommendations in the county, bakeries are the fifth\n",
    "   most recommended venue category. Because of this, I would recommend\n",
    "   opening a bakery in Norwalk, CA to the stakeholders.\n",
    "\n",
    "Purpose of this analysis was to identify a possible area and food venue type\n",
    " for a new restaurant in Los Angeles County, CA based on a very limited\n",
    " amount of factors. Analysing census data and existing food venues is only\n",
    " one part on the way to find a location for opening a new restaurant. Other\n",
    "  factors that also play a role are for example available spaces, rent\n",
    "  costs, other venues in the area. This analysis serves as a starting point\n",
    "  for finding possible locations, but further analysis needs to be done by\n",
    "  the stakeholders."
   ]
  },
  {
   "cell_type": "markdown",
   "metadata": {
    "collapsed": false,
    "pycharm": {
     "name": "#%% md\n"
    }
   },
   "source": [
    "## Conclusion <a name=\"conclusion\"></a>"
   ]
  },
  {
   "cell_type": "markdown",
   "metadata": {
    "collapsed": false,
    "pycharm": {
     "name": "#%% md\n"
    }
   },
   "source": [
    "The purpose of this project was to find a possible location for a new\n",
    "restaurant in Los Angeles County, CA. The desire from the stakeholders was\n",
    "to identify locations that offer a good balance between median income and\n",
    "number of inhabitants, although income shall be rated slightly more important\n",
    "than population. In addition, the idea was to identify possible food\n",
    "venue categories by comparing recommended venues across the country with the\n",
    " local venues in the different areas. So for this there were census and\n",
    " income data combined to identify areas that fit the criteria. A clustering\n",
    " was performed, to group the communities in Los Angeles County using their\n",
    " income and population. Then the cluster was chosen that fit the former\n",
    " mentioned criteria the most. From this cluster the top 3 areas were chosen,\n",
    "  that had the best balance between income and population. This way the best\n",
    "   three candidates for a new restaurant location were identified.\n",
    "\n",
    "The next step was to analyze the local food venue categories. For this the\n",
    "local venues in a 4 km radius were identified and grouped. This grouping was\n",
    " then compared with the distribution of the most recommended food venue\n",
    " categories across the whole county. In doing so, opportunities for new\n",
    " restaurants in any of the three chosen communities have been identified.\n",
    "\n",
    "The final decision can be made by the stakeholders, based on the\n",
    "recommendations given in this project. This decision for a locality can be\n",
    "based on income, population or median age of the areas. The decision for a\n",
    "venue category can be based on popular venues across the county, and the gaps\n",
    " in the local food offerings that have been identified."
   ]
  }
 ],
 "metadata": {
  "kernelspec": {
   "display_name": "PyCharm (DataScienceBlog)",
   "language": "python",
   "name": "pycharm-5a19e405"
  },
  "language_info": {
   "codemirror_mode": {
    "name": "ipython",
    "version": 2
   },
   "file_extension": ".py",
   "mimetype": "text/x-python",
   "name": "python",
   "nbconvert_exporter": "python",
   "pygments_lexer": "ipython2",
   "version": "2.7.6"
  }
 },
 "nbformat": 4,
 "nbformat_minor": 0
}
