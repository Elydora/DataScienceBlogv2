{
 "cells": [
  {
   "cell_type": "raw",
   "metadata": {},
   "source": [
    "---\n",
    "aliases:\n",
    "- /python/2021/10/25/python-short-reference\n",
    "author: Felix\n",
    "categories:\n",
    "- python\n",
    "date: '2021-10-25'\n",
    "description: Data types, functions, data structures, and classes\n",
    "output-file: 2021-10-25-python-short-reference.html\n",
    "title: Python Short Reference\n",
    "toc: true\n",
    "\n",
    "---\n",
    "\n"
   ]
  },
  {
   "cell_type": "markdown",
   "metadata": {
    "collapsed": false
   },
   "source": [
    "## Complex Data Types\n",
    "### Copying and References"
   ]
  },
  {
   "cell_type": "code",
   "execution_count": 1,
   "metadata": {
    "collapsed": false,
    "pycharm": {
     "name": "#%%\n"
    }
   },
   "outputs": [
    {
     "name": "stdout",
     "output_type": "stream",
     "text": [
      "Will\n",
      "Will\n"
     ]
    }
   ],
   "source": [
    "# copying with the copy library\n",
    "import copy\n",
    "first_str = \"Will\"\n",
    "second_str = copy.copy(first_str)\n",
    "print(first_str)\n",
    "print(second_str)"
   ]
  },
  {
   "cell_type": "code",
   "execution_count": 2,
   "metadata": {
    "collapsed": false,
    "pycharm": {
     "name": "#%%\n"
    }
   },
   "outputs": [
    {
     "name": "stdout",
     "output_type": "stream",
     "text": [
      "['Jan', 'Maria', 'Ralph']\n",
      "['Jan', 'Maria', 'Ralph']\n"
     ]
    }
   ],
   "source": [
    "# changing elements via index\n",
    "names = [\"Jan\", \"Felix\", \"Ralph\"]\n",
    "second_names = names\n",
    "second_names[1] = \"Maria\"\n",
    "print(names)\n",
    "print(second_names)"
   ]
  },
  {
   "cell_type": "code",
   "execution_count": 3,
   "metadata": {
    "collapsed": false,
    "pycharm": {
     "name": "#%%\n"
    }
   },
   "outputs": [
    {
     "name": "stdout",
     "output_type": "stream",
     "text": [
      "['Jan', 'Maria', 'Ralph']\n",
      "['Julia', 'Maria', 'Ralph']\n"
     ]
    }
   ],
   "source": [
    "# using copy so index does not change the value in the copied element\n",
    "third_names = copy.copy(names)\n",
    "third_names[0] = \"Julia\"\n",
    "print(names)\n",
    "print(third_names)"
   ]
  },
  {
   "cell_type": "markdown",
   "metadata": {
    "collapsed": false,
    "pycharm": {
     "name": "#%% md\n"
    }
   },
   "source": [
    "## Dictionaries and Sets\n",
    "### Dictionaries"
   ]
  },
  {
   "cell_type": "code",
   "execution_count": null,
   "metadata": {
    "collapsed": false,
    "pycharm": {
     "name": "#%%\n"
    }
   },
   "outputs": [],
   "source": [
    "# creating a dict\n",
    "bike_owners = {\"James\":\"Ducati Monster 1200\",\n",
    "               \"Jacob\":\"Ducati Scrambler 1100\"}\n",
    "# printing an element\n",
    "bike_owners[\"Jacob\"]"
   ]
  },
  {
   "cell_type": "code",
   "execution_count": 4,
   "metadata": {
    "collapsed": false,
    "pycharm": {
     "name": "#%%\n"
    }
   },
   "outputs": [
    {
     "data": {
      "text/plain": [
       "45"
      ]
     },
     "execution_count": 4,
     "metadata": {},
     "output_type": "execute_result"
    }
   ],
   "source": [
    "# using int keys\n",
    "int_dict = {1:45, 2:55, 3:65}\n",
    "int_dict[1]"
   ]
  },
  {
   "cell_type": "code",
   "execution_count": 5,
   "metadata": {
    "collapsed": false,
    "pycharm": {
     "name": "#%%\n"
    }
   },
   "outputs": [
    {
     "data": {
      "text/plain": [
       "dict_keys([1, 2, 3])"
      ]
     },
     "execution_count": 5,
     "metadata": {},
     "output_type": "execute_result"
    }
   ],
   "source": [
    "# print all keys\n",
    "int_dict.keys()"
   ]
  },
  {
   "cell_type": "code",
   "execution_count": 7,
   "metadata": {
    "collapsed": false,
    "pycharm": {
     "name": "#%%\n"
    }
   },
   "outputs": [
    {
     "data": {
      "text/plain": [
       "{False: 'Daniel', 'Aria': [1, 2, 3], 'Jacob': True}"
      ]
     },
     "execution_count": 7,
     "metadata": {},
     "output_type": "execute_result"
    }
   ],
   "source": [
    "# mixed keys dictionaries\n",
    "mixed_dict = {False: \"Daniel\",\n",
    "              \"Aria\":[1,2,3],\n",
    "              \"Jacob\":True}\n",
    "mixed_dict"
   ]
  },
  {
   "cell_type": "code",
   "execution_count": 8,
   "metadata": {
    "collapsed": false,
    "pycharm": {
     "name": "#%%\n"
    }
   },
   "outputs": [
    {
     "data": {
      "text/plain": [
       "{1: 45, 2: 55}"
      ]
     },
     "execution_count": 8,
     "metadata": {},
     "output_type": "execute_result"
    }
   ],
   "source": [
    "# deleting elements\n",
    "del int_dict[3]\n",
    "int_dict"
   ]
  },
  {
   "cell_type": "code",
   "execution_count": 9,
   "metadata": {
    "collapsed": false,
    "pycharm": {
     "name": "#%%\n"
    }
   },
   "outputs": [
    {
     "name": "stdout",
     "output_type": "stream",
     "text": [
      "[50, 60, 75, 99]\n",
      "99\n",
      "50\n"
     ]
    }
   ],
   "source": [
    "# Complex data types\n",
    "fruits = {\n",
    "    \"Banana\":[50,60,75,99],\n",
    "    \"Apple\":[48,86,47,25],\n",
    "    \"Strawberries\":[70,80,60,65]\n",
    "}\n",
    "print(fruits[\"Banana\"])\n",
    "print(fruits[\"Banana\"][3])\n",
    "fruits[\"Banana\"][3]=50\n",
    "print(fruits[\"Banana\"][3])"
   ]
  },
  {
   "cell_type": "code",
   "execution_count": 13,
   "metadata": {
    "collapsed": false,
    "pycharm": {
     "name": "#%%\n"
    }
   },
   "outputs": [
    {
     "name": "stdout",
     "output_type": "stream",
     "text": [
      "3\n",
      "['Apple', 'Banana', 'Strawberries']\n"
     ]
    },
    {
     "data": {
      "text/plain": [
       "dict_items([('Banana', [50, 60, 75, 50]), ('Apple', [48, 86, 47, 25]), ('Strawberries', [70, 80, 60, 65])])"
      ]
     },
     "execution_count": 13,
     "metadata": {},
     "output_type": "execute_result"
    }
   ],
   "source": [
    "# length function for number of elements\n",
    "print(len(fruits))\n",
    "# sorting a dict\n",
    "print(sorted(fruits))\n",
    "# return key value pairs\n",
    "print(fruits.items())"
   ]
  },
  {
   "cell_type": "markdown",
   "metadata": {
    "collapsed": false,
    "pycharm": {
     "name": "#%% md\n"
    }
   },
   "source": [
    "### Sets"
   ]
  },
  {
   "cell_type": "code",
   "execution_count": null,
   "metadata": {
    "collapsed": false,
    "pycharm": {
     "name": "#%%\n"
    }
   },
   "outputs": [],
   "source": [
    "# creating sets\n",
    "set_string = {\"Emma\", \"Olivia\", \"Ava\", \"Mia\"}\n",
    "print(set_string) # no intrinsic ordering\n",
    "empty_set = set()\n",
    "mixed_set = {\"Emmma\", 5, 1.5, True,(1,2,3,4)}\n",
    "student_set = {\"Emma\", \"Marc\", \"Janine\", \"Emma\"}\n",
    "print(student_set) # duplicates are eliminated"
   ]
  },
  {
   "cell_type": "code",
   "execution_count": null,
   "metadata": {
    "collapsed": false,
    "pycharm": {
     "name": "#%%\n"
    }
   },
   "outputs": [],
   "source": [
    "student_set.add(\"Felix\")\n",
    "print(len(student_set))\n",
    "print(max(student_set))\n",
    "student_set.remove(\"Felix\")"
   ]
  },
  {
   "cell_type": "code",
   "execution_count": 14,
   "metadata": {
    "collapsed": false,
    "pycharm": {
     "name": "#%%\n"
    }
   },
   "outputs": [
    {
     "name": "stdout",
     "output_type": "stream",
     "text": [
      "{1, 2, 3, 4, 5, 6, 7, 8}\n",
      "{1, 2, 3}\n",
      "False\n",
      "True\n"
     ]
    }
   ],
   "source": [
    "# working with numbers\n",
    "number1={1,2,3,4,5}\n",
    "number2={4,5,6,7,8}\n",
    "number3={7,8,9,10,11}\n",
    "print(number1.union(number2))\n",
    "print(number1.difference(number2))\n",
    "print(number1.isdisjoint(number2))\n",
    "print(number1.isdisjoint(number3))"
   ]
  },
  {
   "cell_type": "markdown",
   "metadata": {
    "collapsed": false,
    "pycharm": {
     "name": "#%% md\n"
    }
   },
   "source": [
    "### Lists"
   ]
  },
  {
   "cell_type": "code",
   "execution_count": 27,
   "metadata": {
    "collapsed": false,
    "pycharm": {
     "name": "#%%\n"
    }
   },
   "outputs": [
    {
     "data": {
      "text/plain": [
       "'VW'"
      ]
     },
     "execution_count": 27,
     "metadata": {},
     "output_type": "execute_result"
    }
   ],
   "source": [
    "empty_list = []\n",
    "list_str=[\"Toyota\",\"VW\",\"BMW\",\"Mercedes\"]\n",
    "list_bool=[True, False, False, True]\n",
    "list_str[1]"
   ]
  },
  {
   "cell_type": "code",
   "execution_count": 28,
   "metadata": {
    "collapsed": false,
    "pycharm": {
     "name": "#%%\n"
    }
   },
   "outputs": [
    {
     "name": "stdout",
     "output_type": "stream",
     "text": [
      "Mercedes\n",
      "Mercedes\n"
     ]
    }
   ],
   "source": [
    "print(list_str[len(list_str)-1])\n",
    "print(list_str[-1])"
   ]
  },
  {
   "cell_type": "code",
   "execution_count": 29,
   "metadata": {
    "collapsed": false,
    "pycharm": {
     "name": "#%%\n"
    }
   },
   "outputs": [
    {
     "data": {
      "text/plain": [
       "['Hyundai', 'VW', 'BMW', 'Mercedes']"
      ]
     },
     "execution_count": 29,
     "metadata": {},
     "output_type": "execute_result"
    }
   ],
   "source": [
    "list_str[0] = \"Hyundai\"\n",
    "list_str"
   ]
  },
  {
   "cell_type": "code",
   "execution_count": 30,
   "metadata": {
    "collapsed": false,
    "pycharm": {
     "name": "#%%\n"
    }
   },
   "outputs": [
    {
     "data": {
      "text/plain": [
       "['Hyundai', 'VW', 'BMW', 'Mercedes', 'Dacia', 'Ford']"
      ]
     },
     "execution_count": 30,
     "metadata": {},
     "output_type": "execute_result"
    }
   ],
   "source": [
    "list_str += ['Dacia', 'Ford']\n",
    "list_str"
   ]
  },
  {
   "cell_type": "code",
   "execution_count": 31,
   "metadata": {
    "collapsed": false,
    "pycharm": {
     "name": "#%%\n"
    }
   },
   "outputs": [
    {
     "data": {
      "text/plain": [
       "'BMW'"
      ]
     },
     "execution_count": 31,
     "metadata": {},
     "output_type": "execute_result"
    }
   ],
   "source": [
    "list_str.sort()\n",
    "list_str.reverse()\n",
    "list_str.pop()"
   ]
  },
  {
   "cell_type": "code",
   "execution_count": 32,
   "metadata": {
    "collapsed": false,
    "pycharm": {
     "name": "#%%\n"
    }
   },
   "outputs": [],
   "source": [
    "new_list = list_str.copy()\n",
    "list_str.clear()\n",
    "list_str\n",
    "del list_str"
   ]
  },
  {
   "cell_type": "code",
   "execution_count": 33,
   "metadata": {
    "collapsed": false,
    "pycharm": {
     "name": "#%%\n"
    }
   },
   "outputs": [
    {
     "data": {
      "text/plain": [
       "['Dacia', 'Ford', 'Hyundai', 'Mercedes', 'VW']"
      ]
     },
     "execution_count": 33,
     "metadata": {},
     "output_type": "execute_result"
    }
   ],
   "source": [
    "list_2 = sorted(new_list)\n",
    "list_2"
   ]
  },
  {
   "cell_type": "code",
   "execution_count": 34,
   "metadata": {
    "collapsed": false,
    "pycharm": {
     "name": "#%%\n"
    }
   },
   "outputs": [
    {
     "data": {
      "text/plain": [
       "['VW', 'Mercedes']"
      ]
     },
     "execution_count": 34,
     "metadata": {},
     "output_type": "execute_result"
    }
   ],
   "source": [
    "print(new_list[0:2])\n",
    "print(new_list[:-1])"
   ]
  },
  {
   "cell_type": "code",
   "execution_count": 35,
   "metadata": {
    "collapsed": false,
    "pycharm": {
     "name": "#%%\n"
    }
   },
   "outputs": [
    {
     "data": {
      "text/plain": [
       "True"
      ]
     },
     "execution_count": 35,
     "metadata": {},
     "output_type": "execute_result"
    }
   ],
   "source": [
    "\"Dacia\" in new_list"
   ]
  },
  {
   "cell_type": "code",
   "execution_count": 36,
   "metadata": {
    "collapsed": false,
    "pycharm": {
     "name": "#%%\n"
    }
   },
   "outputs": [
    {
     "name": "stdout",
     "output_type": "stream",
     "text": [
      "3\n",
      "2\n",
      "SSC Ultimate Aero\n"
     ]
    }
   ],
   "source": [
    "# Nested Lists\n",
    "car_matrix = [[\"Hennessey Venom GT\", 1244],\n",
    "              [\"SSC Ultimate Aero\", 1287],\n",
    "              [\"Zenvo ST1\", 1100]]\n",
    "car_matrix\n",
    "print(len(car_matrix))\n",
    "print(len(car_matrix[1]))\n",
    "print(car_matrix[1][0])"
   ]
  },
  {
   "cell_type": "markdown",
   "metadata": {
    "collapsed": false,
    "pycharm": {
     "name": "#%% md\n"
    }
   },
   "source": [
    "## Functions"
   ]
  },
  {
   "cell_type": "markdown",
   "metadata": {
    "collapsed": false,
    "pycharm": {
     "name": "#%% md\n"
    }
   },
   "source": [
    "### Functions in general"
   ]
  },
  {
   "cell_type": "code",
   "execution_count": 37,
   "metadata": {
    "collapsed": false,
    "pycharm": {
     "name": "#%%\n"
    }
   },
   "outputs": [],
   "source": [
    "# defining a function\n",
    "country = \"USA\"\n",
    "def some_fn():\n",
    "    print(\"Country: \", country)"
   ]
  },
  {
   "cell_type": "code",
   "execution_count": 38,
   "metadata": {
    "collapsed": false,
    "pycharm": {
     "name": "#%%\n"
    }
   },
   "outputs": [
    {
     "name": "stdout",
     "output_type": "stream",
     "text": [
      "Country:  USA\n"
     ]
    }
   ],
   "source": [
    "# calling a function\n",
    "some_fn()"
   ]
  },
  {
   "cell_type": "code",
   "execution_count": 40,
   "metadata": {
    "collapsed": false,
    "pycharm": {
     "name": "#%%\n"
    }
   },
   "outputs": [
    {
     "name": "stdout",
     "output_type": "stream",
     "text": [
      "Bangladesh\n",
      "Bangladesh\n"
     ]
    }
   ],
   "source": [
    "def some_fn():\n",
    "    global country # interpret the global variable\n",
    "    country = \"Bangladesh\"\n",
    "    print(country)\n",
    "some_fn()\n",
    "print(country) # global variable has changed"
   ]
  },
  {
   "cell_type": "code",
   "execution_count": 41,
   "metadata": {
    "collapsed": false,
    "pycharm": {
     "name": "#%%\n"
    }
   },
   "outputs": [
    {
     "name": "stdout",
     "output_type": "stream",
     "text": [
      "Inside the function:  ['Kiwi']\n",
      "\n",
      "Outside the function:  ['Kiwi', 'Grapes', 'Mango', 'Bananas']\n"
     ]
    }
   ],
   "source": [
    "# passing by reference, because not reassigned and complex data type\n",
    "fruits_list = [\"Apple\", \"Grapes\", \"Mango\", \"Bananas\"]\n",
    "def change_list(fruits_list):\n",
    "    fruits_list[0] = \"Kiwi\"\n",
    "    fruits_list = [\"Kiwi\"] # does nothing on the outside\n",
    "    print(\"Inside the function: \", fruits_list)\n",
    "\n",
    "change_list(fruits_list)\n",
    "print()\n",
    "print(\"Outside the function: \", fruits_list)"
   ]
  },
  {
   "cell_type": "code",
   "execution_count": 42,
   "metadata": {
    "collapsed": false,
    "pycharm": {
     "name": "#%%\n"
    }
   },
   "outputs": [
    {
     "name": "stdout",
     "output_type": "stream",
     "text": [
      "3.141592653589793\n"
     ]
    }
   ],
   "source": [
    "# using python functions\n",
    "import math\n",
    "print(math.pi)"
   ]
  },
  {
   "cell_type": "code",
   "execution_count": 44,
   "metadata": {
    "collapsed": false,
    "pycharm": {
     "name": "#%%\n"
    }
   },
   "outputs": [],
   "source": [
    "# multiple arguments\n",
    "def calculate(*args, fn): # * -> multiple arguments, unpack the args tuple\n",
    "    return fn(*args)\n",
    "\n",
    "def diameter_circle_fn(r):\n",
    "    pass\n",
    "\n",
    "calculate(10, fn=diameter_circle_fn)"
   ]
  },
  {
   "cell_type": "code",
   "execution_count": 48,
   "metadata": {
    "collapsed": false,
    "pycharm": {
     "name": "#%%\n"
    }
   },
   "outputs": [
    {
     "data": {
      "text/plain": [
       "800"
      ]
     },
     "execution_count": 48,
     "metadata": {},
     "output_type": "execute_result"
    }
   ],
   "source": [
    "def area_rectangle_fn(length, breadth):\n",
    "    return length * breadth\n",
    "\n",
    "def calculate(*args, fn): # * -> multiple arguments, unpack the args tuple\n",
    "    return fn(*args)\n",
    "\n",
    "calculate(20, 40, fn=area_rectangle_fn)"
   ]
  },
  {
   "cell_type": "markdown",
   "metadata": {
    "collapsed": false,
    "pycharm": {
     "name": "#%% md\n"
    }
   },
   "source": [
    "### Lambdas"
   ]
  },
  {
   "cell_type": "code",
   "execution_count": 50,
   "metadata": {
    "collapsed": false,
    "pycharm": {
     "name": "#%%\n"
    }
   },
   "outputs": [],
   "source": [
    "# lambdas - functions without names\n",
    "def square(x):\n",
    "    return x * x"
   ]
  },
  {
   "cell_type": "code",
   "execution_count": 51,
   "metadata": {
    "collapsed": false,
    "pycharm": {
     "name": "#%%\n"
    }
   },
   "outputs": [],
   "source": [
    "result = square(5)"
   ]
  },
  {
   "cell_type": "code",
   "execution_count": 52,
   "metadata": {
    "collapsed": false,
    "pycharm": {
     "name": "#%%\n"
    }
   },
   "outputs": [
    {
     "data": {
      "text/plain": [
       "27"
      ]
     },
     "execution_count": 52,
     "metadata": {},
     "output_type": "execute_result"
    }
   ],
   "source": [
    "cube_of = lambda x: x * x * x\n",
    "result = cube_of(3)\n",
    "result"
   ]
  },
  {
   "cell_type": "code",
   "execution_count": 53,
   "metadata": {
    "collapsed": false,
    "pycharm": {
     "name": "#%%\n"
    }
   },
   "outputs": [
    {
     "data": {
      "text/plain": [
       "15"
      ]
     },
     "execution_count": 53,
     "metadata": {},
     "output_type": "execute_result"
    }
   ],
   "source": [
    "add = lambda x, y: x + y\n",
    "result = add(5, 10)\n",
    "result"
   ]
  },
  {
   "cell_type": "code",
   "execution_count": 54,
   "metadata": {
    "collapsed": false,
    "pycharm": {
     "name": "#%%\n"
    }
   },
   "outputs": [
    {
     "data": {
      "text/plain": [
       "12"
      ]
     },
     "execution_count": 54,
     "metadata": {},
     "output_type": "execute_result"
    }
   ],
   "source": [
    "# all in one\n",
    "(lambda x: x + 2)(10)"
   ]
  },
  {
   "cell_type": "code",
   "execution_count": 55,
   "metadata": {
    "collapsed": false,
    "pycharm": {
     "name": "#%%\n"
    }
   },
   "outputs": [
    {
     "data": {
      "text/plain": [
       "<filter at 0x2220e96dd30>"
      ]
     },
     "execution_count": 55,
     "metadata": {},
     "output_type": "execute_result"
    }
   ],
   "source": [
    "# lambda filter\n",
    "num_list = [1,5,6,7,11,78,99,34,105,214]\n",
    "filter(lambda x: x > 10, num_list)"
   ]
  },
  {
   "cell_type": "code",
   "execution_count": 56,
   "metadata": {
    "collapsed": false,
    "pycharm": {
     "name": "#%%\n"
    }
   },
   "outputs": [
    {
     "data": {
      "text/plain": [
       "[11, 78, 99, 34, 105, 214]"
      ]
     },
     "execution_count": 56,
     "metadata": {},
     "output_type": "execute_result"
    }
   ],
   "source": [
    "greater_than_10_list = list(filter(lambda x: x > 10, num_list))\n",
    "greater_than_10_list"
   ]
  },
  {
   "cell_type": "markdown",
   "metadata": {
    "collapsed": false,
    "pycharm": {
     "name": "#%% md\n"
    }
   },
   "source": [
    "### Functions advanced"
   ]
  },
  {
   "cell_type": "markdown",
   "metadata": {
    "collapsed": false
   },
   "source": [
    "#### Recursion"
   ]
  },
  {
   "cell_type": "code",
   "execution_count": 1,
   "metadata": {
    "collapsed": false,
    "pycharm": {
     "name": "#%%\n"
    }
   },
   "outputs": [],
   "source": [
    "# Recursion - Invoking Functions - Invoking a function from within itself\n",
    "def hello(name):\n",
    "    print(\"Hello\", name)\n",
    "    hello(name)\n",
    "#hello(\"Ron\") - endless loop"
   ]
  },
  {
   "cell_type": "code",
   "execution_count": 2,
   "metadata": {
    "collapsed": false,
    "pycharm": {
     "name": "#%%\n"
    }
   },
   "outputs": [
    {
     "data": {
      "text/plain": [
       "3000"
      ]
     },
     "execution_count": 2,
     "metadata": {},
     "output_type": "execute_result"
    }
   ],
   "source": [
    "# system wide recursion limit\n",
    "import sys\n",
    "sys.getrecursionlimit()"
   ]
  },
  {
   "cell_type": "markdown",
   "metadata": {
    "collapsed": false,
    "pycharm": {
     "name": "#%% md\n"
    }
   },
   "source": [
    "#### Generators"
   ]
  },
  {
   "cell_type": "code",
   "execution_count": 3,
   "metadata": {
    "collapsed": false,
    "pycharm": {
     "name": "#%%\n"
    }
   },
   "outputs": [
    {
     "data": {
      "text/plain": [
       "<generator object generator at 0x0000013378275970>"
      ]
     },
     "execution_count": 3,
     "metadata": {},
     "output_type": "execute_result"
    }
   ],
   "source": [
    "# Generators - create a sequence that can be iterated over\n",
    "def generator():\n",
    "    print(\"One!\")\n",
    "    yield 1 # control execution flow\n",
    "    print(\"Two!\")\n",
    "    yield 2\n",
    "    print(\"Three!\")\n",
    "    yield 3\n",
    "g = generator() # no code execution\n",
    "g"
   ]
  },
  {
   "cell_type": "code",
   "execution_count": 4,
   "metadata": {
    "collapsed": false,
    "pycharm": {
     "name": "#%%\n"
    }
   },
   "outputs": [
    {
     "name": "stdout",
     "output_type": "stream",
     "text": [
      "One!\n"
     ]
    },
    {
     "data": {
      "text/plain": [
       "1"
      ]
     },
     "execution_count": 4,
     "metadata": {},
     "output_type": "execute_result"
    }
   ],
   "source": [
    "next(g)"
   ]
  },
  {
   "cell_type": "code",
   "execution_count": 6,
   "metadata": {
    "collapsed": false,
    "pycharm": {
     "name": "#%%\n"
    }
   },
   "outputs": [
    {
     "data": {
      "text/plain": [
       "0"
      ]
     },
     "execution_count": 6,
     "metadata": {},
     "output_type": "execute_result"
    }
   ],
   "source": [
    "def generate_even_numbers(limit):\n",
    "    for i in range(0, limit, 2):\n",
    "        yield i\n",
    "g = generate_even_numbers(7)\n",
    "next(g)"
   ]
  },
  {
   "cell_type": "code",
   "execution_count": 7,
   "metadata": {
    "collapsed": false,
    "pycharm": {
     "name": "#%%\n"
    }
   },
   "outputs": [
    {
     "data": {
      "text/plain": [
       "2"
      ]
     },
     "execution_count": 7,
     "metadata": {},
     "output_type": "execute_result"
    }
   ],
   "source": [
    "next(g)"
   ]
  },
  {
   "cell_type": "markdown",
   "metadata": {
    "collapsed": false,
    "pycharm": {
     "name": "#%% md\n"
    }
   },
   "source": [
    "#### Closures"
   ]
  },
  {
   "cell_type": "code",
   "execution_count": 8,
   "metadata": {
    "collapsed": false,
    "pycharm": {
     "name": "#%%\n"
    }
   },
   "outputs": [
    {
     "name": "stdout",
     "output_type": "stream",
     "text": [
      "Hello Cathy!\n"
     ]
    }
   ],
   "source": [
    "# Closures - Function in a function\n",
    "def nested_hello_fn():\n",
    "    def hello():\n",
    "        print(\"Hello Cathy!\")\n",
    "    hello()\n",
    "nested_hello_fn()"
   ]
  },
  {
   "cell_type": "code",
   "execution_count": 9,
   "metadata": {
    "collapsed": false,
    "pycharm": {
     "name": "#%%\n"
    }
   },
   "outputs": [
    {
     "name": "stdout",
     "output_type": "stream",
     "text": [
      "Hello Cathy!\n"
     ]
    }
   ],
   "source": [
    "def get_hello_fn(): # every closure has its own local state (do not share local variables)\n",
    "    def hello():\n",
    "        print(\"Hello Cathy!\")\n",
    "    return hello\n",
    "hello_fn = get_hello_fn()\n",
    "hello_fn()"
   ]
  },
  {
   "cell_type": "markdown",
   "metadata": {
    "collapsed": false,
    "pycharm": {
     "name": "#%% md\n"
    }
   },
   "source": [
    "#### Decorators"
   ]
  },
  {
   "cell_type": "code",
   "execution_count": 10,
   "metadata": {
    "collapsed": false,
    "pycharm": {
     "name": "#%%\n"
    }
   },
   "outputs": [
    {
     "name": "stdout",
     "output_type": "stream",
     "text": [
      "--------------------------------------------------\n",
      "Yohoo! Decorators are cool!\n",
      "--------------------------------------------------\n",
      "--------------------------------------------------\n",
      "Now you'll see how decorators are used\n",
      "--------------------------------------------------\n"
     ]
    }
   ],
   "source": [
    "import random\n",
    "\n",
    "def print_message():\n",
    "    print(\"Yohoo! Decorators are cool!\")\n",
    "\n",
    "def make_highlighted(func):\n",
    "    annotations = [\"-\", \"*\", \"+\"]\n",
    "    annotate = random.choice(annotations)\n",
    "    print(annotate * 50)\n",
    "    func()\n",
    "    print(annotate * 50)\n",
    "make_highlighted(print_message)\n",
    "\n",
    "@make_highlighted # that'S how they are really used\n",
    "def print_a_message():\n",
    "    print(\"Now you'll see how decorators are used\")\n",
    "print_a_message"
   ]
  },
  {
   "cell_type": "code",
   "execution_count": 11,
   "metadata": {
    "collapsed": false,
    "pycharm": {
     "name": "#%%\n"
    }
   },
   "outputs": [
    {
     "name": "stdout",
     "output_type": "stream",
     "text": [
      "++++++++++++++++++++++++++++++++++++++++++++++++++\n",
      "**************************************************\n",
      "hello!\n",
      "**************************************************\n",
      "++++++++++++++++++++++++++++++++++++++++++++++++++\n"
     ]
    }
   ],
   "source": [
    "def plus_highlight(func):\n",
    "    def highlight():\n",
    "        print(\"+\"*50)\n",
    "        func()\n",
    "        print(\"+\"*50)\n",
    "    return highlight\n",
    "\n",
    "def asterisk_highlight(func):\n",
    "    def highlight():\n",
    "        print(\"*\"*50)\n",
    "        func()\n",
    "        print(\"*\"*50)\n",
    "    return highlight\n",
    "\n",
    "@plus_highlight\n",
    "@asterisk_highlight\n",
    "def hello():\n",
    "    print(\"hello!\")\n",
    "hello()"
   ]
  },
  {
   "cell_type": "markdown",
   "metadata": {
    "collapsed": false,
    "pycharm": {
     "name": "#%% md\n"
    }
   },
   "source": [
    "## Data Structures\n",
    "### Queues"
   ]
  },
  {
   "cell_type": "code",
   "execution_count": 1,
   "metadata": {
    "collapsed": false,
    "pycharm": {
     "name": "#%%\n"
    }
   },
   "outputs": [
    {
     "data": {
      "text/plain": [
       "<queue.Queue at 0x1934fae89d0>"
      ]
     },
     "execution_count": 1,
     "metadata": {},
     "output_type": "execute_result"
    }
   ],
   "source": [
    "#Built-in queue\n",
    "from queue import Queue\n",
    "olympics = Queue(5)\n",
    "olympics"
   ]
  },
  {
   "cell_type": "code",
   "execution_count": 2,
   "metadata": {
    "collapsed": false,
    "pycharm": {
     "name": "#%%\n"
    }
   },
   "outputs": [
    {
     "name": "stdout",
     "output_type": "stream",
     "text": [
      "False\n",
      "False\n",
      "2\n"
     ]
    }
   ],
   "source": [
    "olympics.put(\"United Statues(USA)\")\n",
    "olympics.put(\"Great Britain(GBR)\")\n",
    "print(olympics.empty())\n",
    "print(olympics.full())\n",
    "print(olympics.qsize())\n",
    "olympics.put(\"China(CHN)\")\n",
    "olympics.put(\"Russia(RUS)\")\n",
    "olympics.put(\"Germany(GER)\")"
   ]
  },
  {
   "cell_type": "code",
   "execution_count": 3,
   "metadata": {
    "collapsed": false,
    "pycharm": {
     "name": "#%%\n"
    }
   },
   "outputs": [
    {
     "name": "stdout",
     "output_type": "stream",
     "text": [
      "True\n"
     ]
    },
    {
     "data": {
      "text/plain": [
       "'United Statues(USA)'"
      ]
     },
     "execution_count": 3,
     "metadata": {},
     "output_type": "execute_result"
    }
   ],
   "source": [
    "print(olympics.full())\n",
    "olympics.get()"
   ]
  },
  {
   "cell_type": "markdown",
   "metadata": {
    "collapsed": false,
    "pycharm": {
     "name": "#%% md\n"
    }
   },
   "source": [
    "### Stacks"
   ]
  },
  {
   "cell_type": "code",
   "execution_count": 4,
   "metadata": {
    "collapsed": false,
    "pycharm": {
     "name": "#%%\n"
    }
   },
   "outputs": [
    {
     "data": {
      "text/plain": [
       "['United States', 'Great Britain', 'China']"
      ]
     },
     "execution_count": 4,
     "metadata": {},
     "output_type": "execute_result"
    }
   ],
   "source": [
    "stack = []\n",
    "stack.append(\"United States\")\n",
    "stack.append(\"Great Britain\")\n",
    "stack.append(\"China\")\n",
    "stack"
   ]
  },
  {
   "cell_type": "code",
   "execution_count": 5,
   "metadata": {
    "collapsed": false,
    "pycharm": {
     "name": "#%%\n"
    }
   },
   "outputs": [
    {
     "data": {
      "text/plain": [
       "'China'"
      ]
     },
     "execution_count": 5,
     "metadata": {},
     "output_type": "execute_result"
    }
   ],
   "source": [
    "stack.pop()"
   ]
  },
  {
   "cell_type": "markdown",
   "metadata": {
    "collapsed": false,
    "pycharm": {
     "name": "#%% md\n"
    }
   },
   "source": [
    "### Linked Lists"
   ]
  },
  {
   "cell_type": "code",
   "execution_count": 6,
   "metadata": {
    "collapsed": false,
    "pycharm": {
     "name": "#%%\n"
    }
   },
   "outputs": [],
   "source": [
    "class Node:\n",
    "    def __init__(self, dataval=None, nextval=None):\n",
    "        self.dataval = dataval\n",
    "        self.nextval = nextval\n",
    "\n",
    "    def __repr__(self):\n",
    "        return repr(self.dataval)\n",
    "\n",
    "class LinkedList:\n",
    "    def __init__(self):\n",
    "        self.head = None\n",
    "\n",
    "    def __repr__(self): # O(N)\n",
    "        nodes = []\n",
    "        curr = self.head\n",
    "\n",
    "        while curr:\n",
    "            nodes.append(repr(curr))\n",
    "            curr = curr.nextval\n",
    "\n",
    "        return \"[\" + \"->\".join(nodes) + \"]\"\n",
    "\n",
    "    def prepend(self, dataval): # O(1)\n",
    "        self.head = Node(dataval=dataval, nextval = self.head)\n",
    "\n",
    "    def append(self, dataval):\n",
    "        if not self.head:\n",
    "            self.head = Node(dataval=dataval)\n",
    "            return\n",
    "\n",
    "        curr = self.head\n",
    "\n",
    "        while curr.nextval:\n",
    "            curr = curr.nextval\n",
    "\n",
    "        curr.nextval = Node(dataval=dataval)\n",
    "\n",
    "    def add_after(self, middle_dataval, dataval):\n",
    "        if middle_dataval is None:\n",
    "            print(\"Data to insert after not specified\")\n",
    "            return\n",
    "\n",
    "        curr = self.head\n",
    "\n",
    "        while curr and curr.dataval != middle_dataval:\n",
    "            curr = curr.nextval\n",
    "\n",
    "        new_node = Node(dataval = dataval)\n",
    "\n",
    "        new_node.nextval = curr.nextval\n",
    "        curr.nextval = new_node\n",
    "\n",
    "    def find(self, data):\n",
    "        curr = self.head\n",
    "        while curr and curr.dataval != data:\n",
    "            curr = curr.nextval\n",
    "\n",
    "        return curr\n",
    "\n",
    "    def remove(self, data):\n",
    "        curr = self.head\n",
    "        prev = None\n",
    "\n",
    "        while curr and curr.dataval != data:\n",
    "            prev = curr\n",
    "            curr = curr.nextval\n",
    "\n",
    "            if prev is None:\n",
    "                self.head = curr.nextval\n",
    "            elif curr:\n",
    "                prev.nextval = curr.nextval\n",
    "                curr.nextval = None\n",
    "\n",
    "    def reverse(self):\n",
    "        curr = self.head\n",
    "\n",
    "        prev_node = None\n",
    "        next_node = None\n",
    "\n",
    "        while curr:\n",
    "            nextval = curr.nextval\n",
    "            curr.nextval = prev_node\n",
    "\n",
    "            prev_node = curr\n",
    "\n",
    "            curr = nextval\n",
    "\n",
    "        self.head = prev_node"
   ]
  },
  {
   "cell_type": "code",
   "execution_count": 7,
   "metadata": {
    "collapsed": false,
    "pycharm": {
     "name": "#%%\n"
    }
   },
   "outputs": [
    {
     "data": {
      "text/plain": [
       "['one'->'two'->'three']"
      ]
     },
     "execution_count": 7,
     "metadata": {},
     "output_type": "execute_result"
    }
   ],
   "source": [
    "numbers = LinkedList()\n",
    "numbers.append(\"two\")\n",
    "numbers.append(\"three\")\n",
    "numbers.prepend(\"one\")\n",
    "numbers"
   ]
  },
  {
   "cell_type": "markdown",
   "metadata": {
    "collapsed": false,
    "pycharm": {
     "name": "#%% md\n"
    }
   },
   "source": [
    "## Classes and Inheritance\n",
    "### Basics"
   ]
  },
  {
   "cell_type": "code",
   "execution_count": 9,
   "metadata": {
    "collapsed": false,
    "pycharm": {
     "name": "#%%\n"
    }
   },
   "outputs": [],
   "source": [
    "# Initializing\n",
    "# special methods are marked with __methodname__\n",
    "class Student:\n",
    "    def __init__(self, name): # can be anything, but self is standard\n",
    "        self.name = name # self refers to the current instance\n",
    "        self.mail = name + \".\" + \"@xyz.com\""
   ]
  },
  {
   "cell_type": "code",
   "execution_count": 11,
   "metadata": {
    "collapsed": false,
    "pycharm": {
     "name": "#%%\n"
    }
   },
   "outputs": [],
   "source": [
    "class Competition:\n",
    "\n",
    "    # class variable\n",
    "    raise_amount = 1.04\n",
    "\n",
    "    def __init__(self, name, prize):\n",
    "\n",
    "        self.name = name\n",
    "        self.prize = prize\n",
    "\n",
    "    def raise_prize(self):\n",
    "        self.prize = self.prize * Competition.raise_amount"
   ]
  },
  {
   "cell_type": "code",
   "execution_count": 13,
   "metadata": {
    "collapsed": false,
    "pycharm": {
     "name": "#%%\n"
    }
   },
   "outputs": [
    {
     "name": "stdout",
     "output_type": "stream",
     "text": [
      "1.04\n"
     ]
    }
   ],
   "source": [
    "debate = Competition('Debate', 500)\n",
    "\n",
    "print(debate.raise_amount)"
   ]
  },
  {
   "cell_type": "markdown",
   "metadata": {
    "collapsed": false,
    "pycharm": {
     "name": "#%% md\n"
    }
   },
   "source": [
    "### Private attributes"
   ]
  },
  {
   "cell_type": "code",
   "execution_count": 14,
   "metadata": {
    "collapsed": false,
    "pycharm": {
     "name": "#%%\n"
    }
   },
   "outputs": [
    {
     "name": "stdout",
     "output_type": "stream",
     "text": [
      "My name is Moje and I am a Golden Retriever\n"
     ]
    }
   ],
   "source": [
    "# instance and class variables are public by default\n",
    "# hack for private attributes:\n",
    "class Dog:\n",
    "    def __init__(self, name, breed):\n",
    "        self.__name = name\n",
    "        self.__breed = breed\n",
    "\n",
    "    def print_details(self):\n",
    "        print('My name is %s and I am a %s' % (self.__name, self.__breed))\n",
    "\n",
    "d1 = Dog(\"Moje\", \"Golden Retriever\")\n",
    "d1.print_details()"
   ]
  },
  {
   "cell_type": "code",
   "execution_count": 15,
   "metadata": {
    "collapsed": false,
    "pycharm": {
     "name": "#%%\n"
    }
   },
   "outputs": [
    {
     "name": "stdout",
     "output_type": "stream",
     "text": [
      "My name is Moje and I am a Golden Retriever\n"
     ]
    }
   ],
   "source": [
    "d1.__name = \"Oba\"\n",
    "d1.print_details() # doesn't update"
   ]
  },
  {
   "cell_type": "code",
   "execution_count": 16,
   "metadata": {
    "collapsed": false,
    "pycharm": {
     "name": "#%%\n"
    }
   },
   "outputs": [
    {
     "name": "stdout",
     "output_type": "stream",
     "text": [
      "My name is Moje and I am a Husky\n"
     ]
    }
   ],
   "source": [
    "d1._Dog__breed = \"Husky\" # makes it harder to change, but can be changed\n",
    "d1.print_details()"
   ]
  },
  {
   "cell_type": "markdown",
   "metadata": {
    "collapsed": false,
    "pycharm": {
     "name": "#%% md\n"
    }
   },
   "source": [
    "### Special Methods"
   ]
  },
  {
   "cell_type": "code",
   "execution_count": 19,
   "metadata": {
    "collapsed": false,
    "pycharm": {
     "name": "#%%\n"
    }
   },
   "outputs": [
    {
     "data": {
      "text/plain": [
       "'Competition: Archery held in Germany, prize: 8000'"
      ]
     },
     "execution_count": 19,
     "metadata": {},
     "output_type": "execute_result"
    }
   ],
   "source": [
    "class Competition:\n",
    "\n",
    "    def __init__(self, name, country, prize):\n",
    "        self.__name = name\n",
    "        self.__country = country\n",
    "        self.__prize = prize\n",
    "\n",
    "    def get_name_country(self):\n",
    "        return '{} {}'.format(self.__name, self.__country, self.__prize)\n",
    "\n",
    "    def __repr__(self): # representation for print function\n",
    "        return \"Competition: {} held in {}, prize: {}\".format(self.__name, self.__country,\n",
    "                                                               self.__prize)\n",
    "\n",
    "    def __str__(self):\n",
    "        return \"'{} - {}'\".format(self.get_name_country(), self.__prize)\n",
    "\n",
    "archery = Competition(\"Archery\", \"Germany\", 8000)\n",
    "repr(archery)"
   ]
  },
  {
   "cell_type": "code",
   "execution_count": 21,
   "metadata": {
    "collapsed": false,
    "pycharm": {
     "name": "#%%\n"
    }
   },
   "outputs": [
    {
     "data": {
      "text/plain": [
       "\"'Archery Germany - 8000'\""
      ]
     },
     "execution_count": 21,
     "metadata": {},
     "output_type": "execute_result"
    }
   ],
   "source": [
    "str(archery) # looks for special method __str__()"
   ]
  },
  {
   "cell_type": "code",
   "execution_count": 22,
   "metadata": {
    "collapsed": false,
    "pycharm": {
     "name": "#%%\n"
    }
   },
   "outputs": [
    {
     "data": {
      "text/plain": [
       "3"
      ]
     },
     "execution_count": 22,
     "metadata": {},
     "output_type": "execute_result"
    }
   ],
   "source": [
    "int.__add__(1, 2)"
   ]
  },
  {
   "cell_type": "markdown",
   "metadata": {
    "collapsed": false,
    "pycharm": {
     "name": "#%% md\n"
    }
   },
   "source": [
    "### Properties"
   ]
  },
  {
   "cell_type": "code",
   "execution_count": 26,
   "metadata": {
    "collapsed": false,
    "pycharm": {
     "name": "#%%\n"
    }
   },
   "outputs": [],
   "source": [
    "# Properties with Decorators\n",
    "class Wrestler:\n",
    "    def __init__(self, name):\n",
    "        self.__name = name\n",
    "\n",
    "    @property # this is the method for accessing\n",
    "    def name(self):\n",
    "        print(\"getter method called\")\n",
    "        return self.__name\n",
    "\n",
    "    @name.setter # this is the method for setting new vals\n",
    "    def name(self, value):\n",
    "        print(\"setter method called\")\n",
    "        self.__name = value\n",
    "\n",
    "    @name.deleter\n",
    "    def name(self):\n",
    "        del self.__name\n",
    "\n",
    "w = Wrestler(\"Kart\")"
   ]
  },
  {
   "cell_type": "code",
   "execution_count": 28,
   "metadata": {
    "collapsed": false,
    "pycharm": {
     "name": "#%%\n"
    }
   },
   "outputs": [
    {
     "name": "stdout",
     "output_type": "stream",
     "text": [
      "getter method called\n"
     ]
    },
    {
     "data": {
      "text/plain": [
       "'Kart'"
      ]
     },
     "execution_count": 28,
     "metadata": {},
     "output_type": "execute_result"
    }
   ],
   "source": [
    "w.name"
   ]
  },
  {
   "cell_type": "markdown",
   "metadata": {
    "collapsed": false,
    "pycharm": {
     "name": "#%% md\n"
    }
   },
   "source": [
    "### Class Methods / Static Methods"
   ]
  },
  {
   "cell_type": "code",
   "execution_count": 29,
   "metadata": {
    "collapsed": false,
    "pycharm": {
     "name": "#%%\n"
    }
   },
   "outputs": [],
   "source": [
    "class Competition:\n",
    "\n",
    "    __raise_amount = 1.04 # class variable\n",
    "\n",
    "    def __init__(self, name, country, prize):\n",
    "        self.__name = name\n",
    "        self.__country = country\n",
    "        self.__prize = prize\n",
    "\n",
    "    def raise_prize(self):\n",
    "        self.__prize = self.__prize * self.__raise_amount\n",
    "\n",
    "    def get_name_country(self):\n",
    "        return '{} {}'.format(self.__name, self.__country, self.__prize)\n",
    "\n",
    "    def __repr__(self): # representation for print function\n",
    "        return \"Competition: {} held in {}, prize: {}\".format(self.__name, self.__country,\n",
    "                                                               self.__prize)\n",
    "    def __str__(self):\n",
    "        return \"'{} - {}'\".format(self.get_name_country(), self.__prize)\n",
    "\n",
    "    @classmethod\n",
    "    def get_raise_amount(cls):\n",
    "        return cls.__raise_amount\n",
    "\n",
    "    @classmethod\n",
    "    def set_raise_amount(cls, amount):\n",
    "        cls.__raise_amount = amount"
   ]
  },
  {
   "cell_type": "code",
   "execution_count": 30,
   "metadata": {
    "collapsed": false,
    "pycharm": {
     "name": "#%%\n"
    }
   },
   "outputs": [
    {
     "data": {
      "text/plain": [
       "2"
      ]
     },
     "execution_count": 30,
     "metadata": {},
     "output_type": "execute_result"
    }
   ],
   "source": [
    "c1 = Competition(\"Running\", \"Germany\", 50000)\n",
    "c1.set_raise_amount(2)\n",
    "c1.get_raise_amount()"
   ]
  },
  {
   "cell_type": "code",
   "execution_count": 31,
   "metadata": {
    "collapsed": false,
    "pycharm": {
     "name": "#%%\n"
    }
   },
   "outputs": [
    {
     "data": {
      "text/plain": [
       "2"
      ]
     },
     "execution_count": 31,
     "metadata": {},
     "output_type": "execute_result"
    }
   ],
   "source": [
    "Competition.get_raise_amount()"
   ]
  },
  {
   "cell_type": "code",
   "execution_count": 33,
   "metadata": {
    "collapsed": false,
    "pycharm": {
     "name": "#%%\n"
    }
   },
   "outputs": [
    {
     "data": {
      "text/plain": [
       "25"
      ]
     },
     "execution_count": 33,
     "metadata": {},
     "output_type": "execute_result"
    }
   ],
   "source": [
    "class Rectangle:\n",
    "\n",
    "    @staticmethod # cannot access class variables\n",
    "    def area(x,y):\n",
    "        return x * y\n",
    "\n",
    "Rectangle.area(5,5)"
   ]
  },
  {
   "cell_type": "markdown",
   "metadata": {
    "collapsed": false,
    "pycharm": {
     "name": "#%% md\n"
    }
   },
   "source": [
    "### Abstract Methods"
   ]
  },
  {
   "cell_type": "code",
   "execution_count": 35,
   "metadata": {
    "collapsed": false,
    "pycharm": {
     "name": "#%%\n"
    }
   },
   "outputs": [],
   "source": [
    "from abc import ABC, abstractmethod\n",
    "\n",
    "class Hominidae(ABC):\n",
    "    @abstractmethod # how to do it\n",
    "    def diet(self):\n",
    "        pass\n",
    "\n",
    "    @abstractmethod\n",
    "    def walk(self):\n",
    "        pass\n",
    "\n",
    "    def behavior(self):\n",
    "        print(\"Blabla\")"
   ]
  },
  {
   "cell_type": "markdown",
   "metadata": {
    "collapsed": false,
    "pycharm": {
     "name": "#%% md\n"
    }
   },
   "source": [
    "## Inheritance"
   ]
  },
  {
   "cell_type": "code",
   "execution_count": 36,
   "metadata": {
    "collapsed": false,
    "pycharm": {
     "name": "#%%\n"
    }
   },
   "outputs": [
    {
     "data": {
      "text/plain": [
       "__main__.Circle"
      ]
     },
     "execution_count": 36,
     "metadata": {},
     "output_type": "execute_result"
    }
   ],
   "source": [
    "class Shape:\n",
    "    def __init__(self, shape_type, color=\"Red\"): # optional\n",
    "        self.__type = shape_type\n",
    "        self.__color = color\n",
    "\n",
    "    def get_type(self):\n",
    "        return self.__type\n",
    "\n",
    "    def get_color(self):\n",
    "        return self.__color\n",
    "\n",
    "    def get_area(self):\n",
    "        pass\n",
    "\n",
    "    def get_perimeter(self):\n",
    "        pass\n",
    "\n",
    "class Circle(Shape):\n",
    "    pass\n",
    "\n",
    "circle = Circle(\"circle\")\n",
    "\n",
    "type(circle)"
   ]
  },
  {
   "cell_type": "code",
   "execution_count": 39,
   "metadata": {
    "collapsed": false,
    "pycharm": {
     "name": "#%%\n"
    }
   },
   "outputs": [
    {
     "data": {
      "text/plain": [
       "'square'"
      ]
     },
     "execution_count": 39,
     "metadata": {},
     "output_type": "execute_result"
    }
   ],
   "source": [
    "class Square(Shape):\n",
    "\n",
    "    def __init__(self):\n",
    "        Shape.__init__(self, \"square\")\n",
    "\n",
    "square = Square()\n",
    "square.get_type()"
   ]
  },
  {
   "cell_type": "code",
   "execution_count": 40,
   "metadata": {
    "collapsed": false,
    "pycharm": {
     "name": "#%%\n"
    }
   },
   "outputs": [
    {
     "data": {
      "text/plain": [
       "True"
      ]
     },
     "execution_count": 40,
     "metadata": {},
     "output_type": "execute_result"
    }
   ],
   "source": [
    "issubclass(Circle, Shape)"
   ]
  },
  {
   "cell_type": "code",
   "execution_count": 41,
   "metadata": {
    "collapsed": false,
    "pycharm": {
     "name": "#%%\n"
    }
   },
   "outputs": [
    {
     "name": "stdout",
     "output_type": "stream",
     "text": [
      "I have inherited my height from my father\n"
     ]
    }
   ],
   "source": [
    "# Multiple and Multilevel Inheritance\n",
    "class Father:\n",
    "    def height(self):\n",
    "        print(\"I have inherited my height from my father\")\n",
    "\n",
    "class Mother:\n",
    "    def intelligence(self):\n",
    "        print(\"I have inherited my intelligence from my mother\")\n",
    "\n",
    "class Child(Father, Mother):\n",
    "    def experience(self):\n",
    "        print(\"My experience are all my own\")\n",
    "\n",
    "c = Child()\n",
    "c.height()"
   ]
  },
  {
   "cell_type": "code",
   "execution_count": 42,
   "metadata": {
    "collapsed": false,
    "pycharm": {
     "name": "#%%\n"
    }
   },
   "outputs": [
    {
     "name": "stdout",
     "output_type": "stream",
     "text": [
      "I have inherited my intelligence from my mother\n"
     ]
    }
   ],
   "source": [
    "c.intelligence()"
   ]
  },
  {
   "cell_type": "markdown",
   "metadata": {
    "collapsed": false,
    "pycharm": {
     "name": "#%% md\n"
    }
   },
   "source": [
    "## Creational Design Patterns\n",
    "### Singletons"
   ]
  },
  {
   "cell_type": "markdown",
   "metadata": {
    "collapsed": false,
    "pycharm": {
     "name": "#%% md\n"
    }
   },
   "source": [
    "- a class of which only a single instance can exist\n",
    "- Ensure a class is instantiated only once, and provide a global point of\n",
    "access to it"
   ]
  },
  {
   "cell_type": "code",
   "execution_count": null,
   "metadata": {
    "collapsed": false,
    "pycharm": {
     "name": "#%%\n"
    }
   },
   "outputs": [],
   "source": [
    "class Logger:\n",
    "    __instance = None\n",
    "\n",
    "    def __init__(self):\n",
    "        raise RuntimeError('Call get_instance() instead')\n",
    "\n",
    "    @classmethod\n",
    "    def get_instance(cls):\n",
    "        if cls.__instance is None :\n",
    "            print('No instance exists, creating a new one')\n",
    "            cls.__instance = cls.__new__(cls)\n",
    "        else:\n",
    "            print('A previously created instance exists, returning that same one')\n",
    "        return cls.__instance\n",
    "\n",
    "logger1 = Logger.get_instance()\n",
    "logger1"
   ]
  },
  {
   "cell_type": "markdown",
   "metadata": {
    "collapsed": false,
    "pycharm": {
     "name": "#%% md\n"
    }
   },
   "source": [
    " Pythonic implementation\n",
    "- new is always called first -> it creates the instance\n",
    "- cls is reference to not yet existing instance\n",
    "- init is used to initialize the existing instance -> self is a reference to\n",
    " the instance"
   ]
  },
  {
   "cell_type": "code",
   "execution_count": null,
   "metadata": {
    "collapsed": false,
    "pycharm": {
     "name": "#%%\n"
    }
   },
   "outputs": [],
   "source": [
    "class PythonicLogger:\n",
    "    __instance = None\n",
    "\n",
    "    def __init__(self):\n",
    "        print('Object initialized')\n",
    "        # put your custom code here\n",
    "        # is called every time - could be expensive\n",
    "\n",
    "    def __new__(cls):\n",
    "        if cls.__instance is None:\n",
    "            print('No instance exists, creating a new one')\n",
    "            cls.__instance = super(PythonicLogger, cls).__new__(cls)\n",
    "        else:\n",
    "            print('A previously created instance exists, returning that same one')\n",
    "        return cls.__instance"
   ]
  },
  {
   "cell_type": "code",
   "execution_count": 46,
   "metadata": {
    "collapsed": false,
    "pycharm": {
     "name": "#%%\n"
    }
   },
   "outputs": [],
   "source": [
    "class SuperLogger:\n",
    "    __instance = None\n",
    "\n",
    "    def __new__(cls):\n",
    "        if cls.__instance is None:\n",
    "            print('No instance exists, creating a new one')\n",
    "            cls.__instance = super(SuperLogger, cls).__new__(cls)\n",
    "            # Place all initialization code here\n",
    "        else:\n",
    "            print('A previously created instance exists, returning that same one')\n",
    "        return cls.__instance"
   ]
  },
  {
   "cell_type": "markdown",
   "metadata": {
    "collapsed": false,
    "pycharm": {
     "name": "#%% md\n"
    }
   },
   "source": [
    "### Factory & Abstract Factory Design Patterns"
   ]
  },
  {
   "cell_type": "markdown",
   "metadata": {
    "collapsed": false,
    "pycharm": {
     "name": "#%% md\n"
    }
   },
   "source": [
    "- Separate the creation of objects from their use\n",
    "- Class creation or Object creation\n",
    "- Class-creation patterns use inheritance\n",
    "- Object-creation patterns use delegation\n",
    "- Factory method is specified in base class, implemented in derived classes\n",
    "- Creates an instance of several derived classes\n",
    "- Define an interface for creating an object, but let subclasses decide\n",
    "which class to instantiate\n",
    "- Used to postpone instantiation - responsibility passes from base class to\n",
    "derived classes\n",
    "- Factory method -> create an instance of any of many derived classes\n",
    "- Abstract F. pattern -> create an instance of any one of many families of\n",
    "derived classes\n",
    "- Abstract Factory: create instances of several families of classes\n",
    " encapsulate platform dependencies"
   ]
  },
  {
   "cell_type": "code",
   "execution_count": null,
   "metadata": {
    "collapsed": false,
    "pycharm": {
     "name": "#%%\n"
    }
   },
   "outputs": [],
   "source": [
    "# Factory Method\n",
    "class Product:\n",
    "    def __init__(self, name, price):\n",
    "        self.__name = name\n",
    "        self.__price = price\n",
    "\n",
    "    def get_price(self):\n",
    "        return self.__price"
   ]
  },
  {
   "cell_type": "code",
   "execution_count": 48,
   "metadata": {
    "collapsed": false,
    "pycharm": {
     "name": "#%%\n"
    }
   },
   "outputs": [],
   "source": [
    "class MacBookAir(Product):\n",
    "\n",
    "    def __init__(self, memory, os):\n",
    "        Product.__init__(self, 'MacBookAir', 1031)\n",
    "\n",
    "        self.__memory = memory\n",
    "        self.__os = os\n",
    "\n",
    "\n",
    "class AppleIPad(Product):\n",
    "\n",
    "    def __init__(self, generation):\n",
    "        Product.__init__(self, 'AppleIPad', 529)\n",
    "\n",
    "        self.__generation = generation\n",
    "\n",
    "class AppleIWatch(Product):\n",
    "\n",
    "    def __init__(self):\n",
    "        Product.__init__(self, 'AppleIWatch', 264)"
   ]
  },
  {
   "cell_type": "code",
   "execution_count": 50,
   "metadata": {
    "collapsed": false,
    "pycharm": {
     "name": "#%%\n"
    }
   },
   "outputs": [
    {
     "data": {
      "text/plain": [
       "<__main__.AppleIWatch at 0x193517d2610>"
      ]
     },
     "execution_count": 50,
     "metadata": {},
     "output_type": "execute_result"
    }
   ],
   "source": [
    "class ProductFactory:\n",
    "\n",
    "    @staticmethod\n",
    "    def create(item_name, *args):\n",
    "\n",
    "        if item_name == 'MacBookAir':\n",
    "            return MacBookAir(*args)\n",
    "        elif item_name == 'AppleIPad':\n",
    "            return AppleIPad(*args)\n",
    "        elif item_name == 'AppleIWatch':\n",
    "            return AppleIWatch(*args)\n",
    "\n",
    "air = ProductFactory.create('MacBookAir', '16GB', 'Sierra')\n",
    "ipad = ProductFactory.create('AppleIPad', '2nd')\n",
    "iwatch = ProductFactory.create('AppleIWatch')\n",
    "iwatch"
   ]
  },
  {
   "cell_type": "markdown",
   "metadata": {
    "collapsed": false,
    "pycharm": {
     "name": "#%% md\n"
    }
   },
   "source": [
    " Abstract Factory\n",
    "\n",
    " An abstract factory is a factory that returns factories.\n",
    " A normal factory can be used to create sets of related objects.\n",
    " An abstract factory returns factories.\n",
    " Thus, an abstract factory is used to return factories that can be\n",
    " used to create sets of related objects."
   ]
  },
  {
   "cell_type": "code",
   "execution_count": null,
   "metadata": {
    "collapsed": false,
    "pycharm": {
     "name": "#%%\n"
    }
   },
   "outputs": [],
   "source": [
    "import abc\n",
    "class Toy(metaclass=abc.ABCMeta):\n",
    "    @abc.abstractmethod\n",
    "    def show(self):\n",
    "        pass\n",
    "\n",
    "class Color(metaclass=abc.ABCMeta):\n",
    "    @abc.abstractmethod\n",
    "    def show_color(self):\n",
    "        pass"
   ]
  },
  {
   "cell_type": "code",
   "execution_count": 53,
   "metadata": {
    "collapsed": false,
    "pycharm": {
     "name": "#%%\n"
    }
   },
   "outputs": [
    {
     "name": "stdout",
     "output_type": "stream",
     "text": [
      "red\n",
      "Remote controlled car\n"
     ]
    },
    {
     "data": {
      "text/plain": [
       "(None, None)"
      ]
     },
     "execution_count": 53,
     "metadata": {},
     "output_type": "execute_result"
    }
   ],
   "source": [
    "class Car(Toy):\n",
    "    def show(self):\n",
    "        print(\"Remote controlled car\")\n",
    "\n",
    "class ActionFigure(Toy):\n",
    "    def show(self):\n",
    "        print(\"Captain America action figure\")\n",
    "\n",
    "class ConstructionToy(Toy):\n",
    "    def show(self):\n",
    "        print(\"Lego\")\n",
    "\n",
    "class Red(Color):\n",
    "    def show_color(self):\n",
    "        print(\"red\")\n",
    "\n",
    "class Green(Color):\n",
    "    def show_color(self):\n",
    "        print(\"green\")\n",
    "\n",
    "class Blue(Color):\n",
    "    def show_color(self):\n",
    "        print(\"blue\")\n",
    "\n",
    "car = Car()\n",
    "\n",
    "red = Red()\n",
    "\n",
    "red.show_color(), car.show()"
   ]
  },
  {
   "cell_type": "code",
   "execution_count": 54,
   "metadata": {
    "collapsed": false,
    "pycharm": {
     "name": "#%%\n"
    }
   },
   "outputs": [],
   "source": [
    "class AbstractFactory(metaclass=abc.ABCMeta):\n",
    "\n",
    "    @abc.abstractmethod\n",
    "    def get_color(self):\n",
    "        pass\n",
    "\n",
    "    @abc.abstractmethod\n",
    "    def get_toy(self):\n",
    "        pass"
   ]
  },
  {
   "cell_type": "code",
   "execution_count": 55,
   "metadata": {
    "collapsed": false,
    "pycharm": {
     "name": "#%%\n"
    }
   },
   "outputs": [],
   "source": [
    "# Create concrete classes implementing the same interface.\n",
    "# create Factory classes extending AbstractFactory\n",
    "class ColorfulToysFactory(AbstractFactory):\n",
    "\n",
    "    def get_toy(self, toy_type):\n",
    "        if toy_type == None:\n",
    "            return None\n",
    "\n",
    "        if toy_type == \"car\":\n",
    "            return Car()\n",
    "        elif toy_type == \"action figure\":\n",
    "            return ActionFigure()\n",
    "        elif toy_type == \"construction toy\":\n",
    "            return ConstructionToy()\n",
    "\n",
    "        return None\n",
    "\n",
    "    def get_color(self, color_type):\n",
    "        if color_type == None:\n",
    "            return None\n",
    "\n",
    "        if color_type == \"red\":\n",
    "            return Red()\n",
    "        elif color_type == \"green\":\n",
    "            return Green()\n",
    "        elif color_type == \"blue\":\n",
    "            return Blue()\n",
    "\n",
    "        return None"
   ]
  },
  {
   "cell_type": "code",
   "execution_count": 56,
   "metadata": {
    "collapsed": false,
    "pycharm": {
     "name": "#%%\n"
    }
   },
   "outputs": [
    {
     "data": {
      "text/plain": [
       "(<__main__.Car at 0x193517f9280>, <__main__.Red at 0x193517f9dc0>)"
      ]
     },
     "execution_count": 56,
     "metadata": {},
     "output_type": "execute_result"
    }
   ],
   "source": [
    "# Use the FactoryProducer to get AbstractFactory in order to get factories of\n",
    "# concrete classes by passing an information such as type\n",
    "RED_CAR = 'red_car'\n",
    "BLUE_LEGO = 'blue_lego'\n",
    "GREEN_ACTION_FIGURE = 'green_action_figure'\n",
    "\n",
    "class ColorfulToysProducer:\n",
    "\n",
    "    __colorful_toys_factory = ColorfulToysFactory()\n",
    "\n",
    "    @classmethod\n",
    "    def get_toy_and_color(cls, choice):\n",
    "        toy = None\n",
    "        color = None\n",
    "\n",
    "        if choice == RED_CAR:\n",
    "            toy = cls.__colorful_toys_factory.get_toy('car')\n",
    "            color = cls.__colorful_toys_factory.get_color('red')\n",
    "\n",
    "        elif choice == BLUE_LEGO:\n",
    "            toy = cls.__colorful_toys_factory.get_toy('construction toy')\n",
    "            color = cls.__colorful_toys_factory.get_color('blue')\n",
    "\n",
    "        elif choice == GREEN_ACTION_FIGURE:\n",
    "            toy = cls.__colorful_toys_factory.get_toy('action figure')\n",
    "            color = cls.__colorful_toys_factory.get_color('green')\n",
    "\n",
    "        return toy, color\n",
    "\n",
    "toy, color = ColorfulToysProducer.get_toy_and_color(RED_CAR)\n",
    "toy, color"
   ]
  },
  {
   "cell_type": "code",
   "execution_count": 57,
   "metadata": {
    "collapsed": false,
    "pycharm": {
     "name": "#%%\n"
    }
   },
   "outputs": [
    {
     "data": {
      "text/plain": [
       "(<__main__.ConstructionToy at 0x1934fb85fd0>, <__main__.Blue at 0x1934fb855b0>)"
      ]
     },
     "execution_count": 57,
     "metadata": {},
     "output_type": "execute_result"
    }
   ],
   "source": [
    "toy, color = ColorfulToysProducer.get_toy_and_color(BLUE_LEGO)\n",
    "toy, color"
   ]
  },
  {
   "cell_type": "markdown",
   "metadata": {
    "collapsed": false,
    "pycharm": {
     "name": "#%% md\n"
    }
   },
   "source": [
    "### Builder Pattern"
   ]
  },
  {
   "cell_type": "markdown",
   "metadata": {
    "collapsed": false,
    "pycharm": {
     "name": "#%% md\n"
    }
   },
   "source": [
    " Builder Pattern\n",
    " - Separate the construction of an object from representation\n",
    " - allow same construction process for many representations\n",
    " - parse a complex representation, create different objects\n",
    " - Consider a SQL query builder class\n",
    " - allows step-by-step creation of a SQL query\n",
    " - Query is a complex entity with many different parts\n",
    " - Applications might build once, run multiple times\n",
    " - Separates object construction from its representation\n",
    " - parse a complex construction process into simple constituent operations"
   ]
  },
  {
   "cell_type": "code",
   "execution_count": null,
   "metadata": {
    "collapsed": false,
    "pycharm": {
     "name": "#%%\n"
    }
   },
   "outputs": [],
   "source": [
    "class Mobile:\n",
    "\n",
    "    def __init__(self,\n",
    "                 name,\n",
    "                 weight,\n",
    "                 screen_size,\n",
    "                 ram,\n",
    "                 os,\n",
    "                 camera_mp,\n",
    "                 battery):\n",
    "\n",
    "        self.name = name\n",
    "        self.weight = weight\n",
    "        self.screen_size = screen_size\n",
    "        self.ram = ram\n",
    "        self.os = os\n",
    "        self.camera_mp = camera_mp\n",
    "        self.battery = battery\n",
    "\n",
    "    def show(self):\n",
    "        print(\"name:\", self.name)\n",
    "        print(\"weight:\", self.weight)\n",
    "        print(\"screen_size:\", self.screen_size)\n",
    "        print(\"ram:\", self.ram)\n",
    "        print(\"os:\", self.os)\n",
    "        print(\"camera_mp:\", self.camera_mp)\n",
    "        print(\"battery:\", self.battery)"
   ]
  },
  {
   "cell_type": "code",
   "execution_count": 60,
   "metadata": {
    "collapsed": false,
    "pycharm": {
     "name": "#%%\n"
    }
   },
   "outputs": [],
   "source": [
    "samsung_s10 = Mobile(name=\"Samsung S10\",\n",
    "                     weight = \"157g\",\n",
    "                     screen_size = \"6.1 inch\",\n",
    "                     ram = \"8GB\",\n",
    "                     os = \"android 9.0\",\n",
    "                     camera_mp = \"12 megapixel\",\n",
    "                     battery = \"3400 mAh\")"
   ]
  },
  {
   "cell_type": "code",
   "execution_count": 61,
   "metadata": {
    "collapsed": false,
    "pycharm": {
     "name": "#%%\n"
    }
   },
   "outputs": [
    {
     "name": "stdout",
     "output_type": "stream",
     "text": [
      "name: Samsung S10\n",
      "weight: 157g\n",
      "screen_size: 6.1 inch\n",
      "ram: 8GB\n",
      "os: android 9.0\n",
      "camera_mp: 12 megapixel\n",
      "battery: 3400 mAh\n"
     ]
    }
   ],
   "source": [
    "samsung_s10.show()"
   ]
  },
  {
   "cell_type": "markdown",
   "metadata": {
    "collapsed": false,
    "pycharm": {
     "name": "#%% md\n"
    }
   },
   "source": [
    " - to get rid of the long list of parameters we can have the features in the\n",
    "main program but directly\n",
    "setting attributes in the client program is wrong, it goes against\n",
    "\"encapsulate what varies principle\"\n",
    " - this is prone to errors and maintenance unfriendly"
   ]
  },
  {
   "cell_type": "code",
   "execution_count": null,
   "metadata": {
    "collapsed": false,
    "pycharm": {
     "name": "#%%\n"
    }
   },
   "outputs": [],
   "source": [
    "class Mobile():\n",
    "\n",
    "    def __init__(self):\n",
    "\n",
    "        self.name = None\n",
    "        self.weight = None\n",
    "        self.screen_size = None\n",
    "        self.ram = None\n",
    "        self.os = None\n",
    "        self.camera_mp = None\n",
    "        self.battery = None\n",
    "\n",
    "    def show(self):\n",
    "        print(\"name:\", self.name)\n",
    "        print(\"weight:\", self.weight)\n",
    "        print(\"screen_size:\", self.screen_size)\n",
    "        print(\"ram:\", self.ram)\n",
    "        print(\"os:\", self.os)\n",
    "        print(\"camera_mp:\", self.camera_mp)\n",
    "        print(\"battery:\", self.battery)\n",
    "\n",
    "s10 = Mobile()\n",
    "s10.name = \"Samsung S10\"\n",
    "s10.screen_size = \"6.1 inch\",\n",
    "s10.os = \"android 9.0\",\n",
    "s10.camera_mp = \"12 megapixel\",\n",
    "s10.battery = \"3400 mAh\"\n",
    "s10.show()"
   ]
  },
  {
   "cell_type": "code",
   "execution_count": 65,
   "metadata": {
    "collapsed": false,
    "pycharm": {
     "name": "#%%\n"
    }
   },
   "outputs": [
    {
     "name": "stdout",
     "output_type": "stream",
     "text": [
      "name: Samsung S10\n",
      "weight: None\n",
      "screen_size: None\n",
      "ram: 8GB\n",
      "os: None\n",
      "camera_mp: 16 megapixels\n",
      "battery: None\n"
     ]
    }
   ],
   "source": [
    "# now the features have been encapsulated in a separate class called MyMobile\n",
    "# the build method instantiates a new mobile object and encapsulates setting\n",
    "# of attributes\n",
    "\n",
    "class MyMobileBuilder():\n",
    "\n",
    "    def __init__(self):\n",
    "        self.__mobile = Mobile()\n",
    "\n",
    "    def get_mobile(self):\n",
    "        return self.__mobile\n",
    "\n",
    "    def build_name(self, name):\n",
    "        self.__mobile.name = name\n",
    "\n",
    "    def build_memory(self, ram):\n",
    "        self.__mobile.ram = ram\n",
    "\n",
    "    def build_camera(self, camera_mp):\n",
    "        self.__mobile.camera_mp = camera_mp\n",
    "\n",
    "    def build_otherfeatures(self, weight, screen_size, os, battery):\n",
    "        self.__mobile.weight = weight\n",
    "        self.__mobile.screen_size = screen_size\n",
    "        self.__mobile.os = os\n",
    "        self.__mobile.battery = battery\n",
    "\n",
    "builder = MyMobileBuilder()\n",
    "builder.build_name('Samsung S10')\n",
    "builder.build_memory('8GB')\n",
    "builder.build_camera('16 megapixels')\n",
    "mobile = builder.get_mobile()\n",
    "mobile.show()"
   ]
  },
  {
   "cell_type": "code",
   "execution_count": 66,
   "metadata": {
    "collapsed": false,
    "pycharm": {
     "name": "#%%\n"
    }
   },
   "outputs": [
    {
     "name": "stdout",
     "output_type": "stream",
     "text": [
      "name: Samsung S10\n",
      "weight: 157gm\n",
      "screen_size: 5inches\n",
      "ram: 8GB\n",
      "os: Android\n",
      "camera_mp: 16 megapixels\n",
      "battery: 3400 mAh\n"
     ]
    }
   ],
   "source": [
    "# Builder is less valuable in python, because you can specify default values\n",
    "\n",
    "class Mobile:\n",
    "    def __init__(self,\n",
    "                 name,\n",
    "                 weight='157gm',\n",
    "                 screen_size='5inches',\n",
    "                 ram='8GB',\n",
    "                 os='Android',\n",
    "                 camera_mp='16 megapixels',\n",
    "                 battery='3400 mAh'):\n",
    "\n",
    "        self.name = name\n",
    "        self.weight = weight\n",
    "        self.screen_size = screen_size\n",
    "        self.ram = ram\n",
    "        self.os = os\n",
    "        self.camera_mp = camera_mp\n",
    "        self.battery = battery\n",
    "\n",
    "    def show(self):\n",
    "        print(\"name:\", self.name)\n",
    "        print(\"weight:\", self.weight)\n",
    "        print(\"screen_size:\", self.screen_size)\n",
    "        print(\"ram:\", self.ram)\n",
    "        print(\"os:\", self.os)\n",
    "        print(\"camera_mp:\", self.camera_mp)\n",
    "        print(\"battery:\", self.battery)\n",
    "\n",
    "samsung_s10 = Mobile('Samsung S10')\n",
    "samsung_s10.show()"
   ]
  },
  {
   "cell_type": "code",
   "execution_count": 67,
   "metadata": {
    "collapsed": false,
    "pycharm": {
     "name": "#%%\n"
    }
   },
   "outputs": [
    {
     "name": "stdout",
     "output_type": "stream",
     "text": [
      "name: Samsung S8\n",
      "weight: 157gm\n",
      "screen_size: 4.4inches\n",
      "ram: 4GB\n",
      "os: Android\n",
      "camera_mp: 16 megapixels\n",
      "battery: 3400 mAh\n"
     ]
    }
   ],
   "source": [
    "samsung_s8 = Mobile('Samsung S8', screen_size='4.4inches', ram='4GB')\n",
    "samsung_s8.show()"
   ]
  },
  {
   "cell_type": "markdown",
   "metadata": {
    "collapsed": false,
    "pycharm": {
     "name": "#%% md\n"
    }
   },
   "source": [
    "### Object Pool Pattern"
   ]
  },
  {
   "cell_type": "markdown",
   "metadata": {
    "collapsed": false,
    "pycharm": {
     "name": "#%% md\n"
    }
   },
   "source": [
    "- Used when the cost of initializing objects is high\n",
    "- Number of objects in use at a time is low\n",
    "- Rate of object instantiation is high\n",
    "- Pools used to cache and manage objects\n",
    "- Avoid creating new objects, when an existing one is available\n",
    "- Reuse objects rather than incur the cost of creating one\n",
    "- common example: thread pools\n",
    "- some processes are embarrassingly parallel\n",
    "- threads are expensive to create and free up\n",
    "- use a thread pool -> mitigates the overhead of pool creation\n",
    "- avoids needless re-instantiation and expensive acquisition of resources"
   ]
  },
  {
   "cell_type": "code",
   "execution_count": 69,
   "metadata": {
    "collapsed": false,
    "pycharm": {
     "name": "#%%\n"
    }
   },
   "outputs": [],
   "source": [
    "class Connection:\n",
    "\n",
    "    def __init__(self):\n",
    "        self.__is_used = False\n",
    "\n",
    "        # Imagine a very heavy-duty initialization process here\n",
    "        # to set up the database connections and connect\n",
    "        self.connect_to_database()\n",
    "\n",
    "    def acquire(self):\n",
    "        self.__is_used = True\n",
    "\n",
    "    def release(self):\n",
    "        self.__is_used = False\n",
    "\n",
    "    def is_used(self):\n",
    "        return self.__is_used\n",
    "\n",
    "    def connect_to_database(self):\n",
    "        pass"
   ]
  },
  {
   "cell_type": "code",
   "execution_count": 80,
   "metadata": {
    "collapsed": false,
    "pycharm": {
     "name": "#%%\n"
    }
   },
   "outputs": [],
   "source": [
    "class ConnectionPool:\n",
    "\n",
    "    __instance = None\n",
    "\n",
    "    def __new__(cls, num_connections):\n",
    "        if cls.__instance is None:\n",
    "            print('No instance exists, creating a new one')\n",
    "\n",
    "            cls.__instance = super(ConnectionPool, cls).__new__(cls)\n",
    "\n",
    "            cls.__instance.__num_connections = num_connections\n",
    "            cls.__instance.__connections = []\n",
    "\n",
    "            for i in range(num_connections):\n",
    "                cls.__instance.__connections.append(Connection())\n",
    "\n",
    "        else:\n",
    "            print('A previously created instance exists, returning that same one')\n",
    "\n",
    "\n",
    "        return cls.__instance\n",
    "\n",
    "\n",
    "    def acquire(self):\n",
    "        for i in range(self.__num_connections):\n",
    "            connection = self.__connections[i]\n",
    "\n",
    "            if not connection.is_used():\n",
    "                connection.acquire()\n",
    "                return connection\n",
    "\n",
    "        return None\n",
    "\n",
    "    def release(self, connection):\n",
    "        if connection.is_used():\n",
    "            connection.release()"
   ]
  },
  {
   "cell_type": "code",
   "execution_count": 81,
   "metadata": {
    "collapsed": false,
    "pycharm": {
     "name": "#%%\n"
    }
   },
   "outputs": [
    {
     "name": "stdout",
     "output_type": "stream",
     "text": [
      "No instance exists, creating a new one\n"
     ]
    }
   ],
   "source": [
    "pool = ConnectionPool(2)"
   ]
  },
  {
   "cell_type": "code",
   "execution_count": 82,
   "metadata": {
    "collapsed": false,
    "pycharm": {
     "name": "#%%\n"
    }
   },
   "outputs": [
    {
     "name": "stdout",
     "output_type": "stream",
     "text": [
      "A previously created instance exists, returning that same one\n"
     ]
    }
   ],
   "source": [
    "pool = ConnectionPool(2)"
   ]
  },
  {
   "cell_type": "code",
   "execution_count": 83,
   "metadata": {
    "collapsed": false,
    "pycharm": {
     "name": "#%%\n"
    }
   },
   "outputs": [
    {
     "data": {
      "text/plain": [
       "<__main__.Connection at 0x1935180dd30>"
      ]
     },
     "execution_count": 83,
     "metadata": {},
     "output_type": "execute_result"
    }
   ],
   "source": [
    "conn_1 = pool.acquire()\n",
    "conn_1"
   ]
  },
  {
   "cell_type": "code",
   "execution_count": 84,
   "metadata": {
    "collapsed": false,
    "pycharm": {
     "name": "#%%\n"
    }
   },
   "outputs": [
    {
     "data": {
      "text/plain": [
       "<__main__.Connection at 0x1935180d820>"
      ]
     },
     "execution_count": 84,
     "metadata": {},
     "output_type": "execute_result"
    }
   ],
   "source": [
    "conn_2 = pool.acquire()\n",
    "conn_2"
   ]
  },
  {
   "cell_type": "code",
   "execution_count": 85,
   "metadata": {
    "collapsed": false,
    "pycharm": {
     "name": "#%%\n"
    }
   },
   "outputs": [
    {
     "data": {
      "text/plain": [
       "True"
      ]
     },
     "execution_count": 85,
     "metadata": {},
     "output_type": "execute_result"
    }
   ],
   "source": [
    "conn_3 = pool.acquire()\n",
    "conn_3 is None"
   ]
  },
  {
   "cell_type": "code",
   "execution_count": 86,
   "metadata": {
    "collapsed": false,
    "pycharm": {
     "name": "#%%\n"
    }
   },
   "outputs": [],
   "source": [
    "pool.release(conn_2)"
   ]
  },
  {
   "cell_type": "code",
   "execution_count": 87,
   "metadata": {
    "collapsed": false,
    "pycharm": {
     "name": "#%%\n"
    }
   },
   "outputs": [
    {
     "data": {
      "text/plain": [
       "<__main__.Connection at 0x1935180d820>"
      ]
     },
     "execution_count": 87,
     "metadata": {},
     "output_type": "execute_result"
    }
   ],
   "source": [
    "conn_3 = pool.acquire()\n",
    "conn_3"
   ]
  },
  {
   "cell_type": "code",
   "execution_count": null,
   "metadata": {
    "collapsed": false,
    "pycharm": {
     "name": "#%%\n"
    }
   },
   "outputs": [],
   "source": []
  }
 ],
 "metadata": {
  "kernelspec": {
   "display_name": "Python 3",
   "language": "python",
   "name": "python3"
  },
  "language_info": {
   "codemirror_mode": {
    "name": "ipython",
    "version": 2
   },
   "file_extension": ".py",
   "mimetype": "text/x-python",
   "name": "python",
   "nbconvert_exporter": "python",
   "pygments_lexer": "ipython2",
   "version": "3.11.5"
  }
 },
 "nbformat": 4,
 "nbformat_minor": 0
}
